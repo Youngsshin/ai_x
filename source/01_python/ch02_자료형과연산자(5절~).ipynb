{
 "cells": [
  {
   "cell_type": "code",
   "execution_count": 21,
   "id": "0e195dfe",
   "metadata": {},
   "outputs": [
    {
     "data": {
      "text/html": [
       "\n",
       "<style>\n",
       "div.container{width:86% !important;}\n",
       "div.cell.code_cell.rendered{width:100%;}\n",
       "div.CodeMirror{font-family:Consolas; font-size:15pt;}\n",
       "div.output{font-size:12pt; font-weight:bold;}\n",
       "div.input{font-family:Consolas; font-size:12pt;}\n",
       "div.prompt{min-width:70px;}\n",
       "div#toc-wrapper {padding-top:120px;}\n",
       "div.text_cell_render ul li{font-size:12pt;padding:5px;}\n",
       "table.dataframe{font-size:15px;}\n",
       "</style>\n"
      ],
      "text/plain": [
       "<IPython.core.display.HTML object>"
      ]
     },
     "metadata": {},
     "output_type": "display_data"
    }
   ],
   "source": [
    "from IPython.display import display, HTML\n",
    "display(HTML(\"\"\"\n",
    "<style>\n",
    "div.container{width:86% !important;}\n",
    "div.cell.code_cell.rendered{width:100%;}\n",
    "div.CodeMirror{font-family:Consolas; font-size:15pt;}\n",
    "div.output{font-size:12pt; font-weight:bold;}\n",
    "div.input{font-family:Consolas; font-size:12pt;}\n",
    "div.prompt{min-width:70px;}\n",
    "div#toc-wrapper {padding-top:120px;}\n",
    "div.text_cell_render ul li{font-size:12pt;padding:5px;}\n",
    "table.dataframe{font-size:15px;}\n",
    "</style>\n",
    "\"\"\"))"
   ]
  },
  {
   "cell_type": "markdown",
   "id": "3c340812",
   "metadata": {},
   "source": [
    "<font size=\"5\" color=\"red\">ch02 자료형과 연산자</font>\n",
    "\n",
    "# 5절 연산자\n",
    "## 5.1 산술연산자 : +, -, *, /, //(몫), %(나머지), **(제곱)"
   ]
  },
  {
   "cell_type": "code",
   "execution_count": 1,
   "id": "239526e1",
   "metadata": {},
   "outputs": [
    {
     "name": "stdout",
     "output_type": "stream",
     "text": [
      "10의 5승 : 100000\n",
      "4/2(결과 실수) : 2.0\n",
      "4//2(몫) : 2\n",
      "4%2(나머지) : 0\n"
     ]
    }
   ],
   "source": [
    "print('10의 5승 :', 10**5)\n",
    "print('4/2(결과 실수) :', 4/2)\n",
    "print('4//2(몫) :', 4//2)\n",
    "print('4%2(나머지) :', 4%2)"
   ]
  },
  {
   "cell_type": "code",
   "execution_count": 13,
   "id": "c134480c",
   "metadata": {},
   "outputs": [
    {
     "name": "stdout",
     "output_type": "stream",
     "text": [
      "정수를 입력하세요 :8\n",
      "입력하신 수는 8, 2로 나눈 나머지는 0. 그래서 짝수를 입력하셨군요\n"
     ]
    }
   ],
   "source": [
    "# quiz 1. 정수를 입력받아 짝수인지 홀수인지 여부를 출력\n",
    "num = int(input(\"정수를 입력하세요 :\"))\n",
    "result = num%2\n",
    "if result:\n",
    "    temp = '홀수'\n",
    "    \n",
    "else:\n",
    "    temp = '짝수'\n",
    "\n",
    "print(f'입력하신 수는 {num}, 2로 나눈 나머지는 {result}. 그래서 {temp}를 입력하셨군요')"
   ]
  },
  {
   "cell_type": "code",
   "execution_count": 49,
   "id": "1bf263df",
   "metadata": {},
   "outputs": [
    {
     "name": "stdout",
     "output_type": "stream",
     "text": [
      "정수를 입력하세요 :5\n",
      "입력하신 수는 5, 그래서 5의 배수가 맞습니다\n"
     ]
    }
   ],
   "source": [
    "# quiz 2. 정수를 입력받아 5의 배수인지 여부를 출력\n",
    "# 0이 아니면 else가 실행됨\n",
    "num2 = int(input('정수를 입력하세요 :'))\n",
    "if num2%5:\n",
    "    temp2 = '5의 배수가 아닙니다'\n",
    "\n",
    "else:\n",
    "    temp2 = '5의 배수가 맞습니다'\n",
    "\n",
    "print(f'입력하신 수는 {num2}, 그래서 {temp2}')"
   ]
  },
  {
   "cell_type": "code",
   "execution_count": 28,
   "id": "40e1c783",
   "metadata": {},
   "outputs": [
    {
     "name": "stdout",
     "output_type": "stream",
     "text": [
      "국어점수를 입력하세요 : 99\n",
      "영어점수를 입력하세요 : 100\n",
      "수학점수를 입력하세요 : 99\n",
      "국어: 99\t영어:100\t수학: 99\n",
      "총점:298\t평균: 99.3\n"
     ]
    }
   ],
   "source": [
    "# quiz 3. 국, 영, 수 점수를 입력받아 다음셀에서 다음과 같이 출력하도록 구현하시오\n",
    "# 국어 99 영어 100 수학 99\n",
    "# 총점 298 평균 99.3\n",
    "kor = int(input('국어점수를 입력하세요 : '))\n",
    "eng = int(input('영어점수를 입력하세요 : '))\n",
    "mat = int(input('수학점수를 입력하세요 : '))\n",
    "sum = kor + eng + mat\n",
    "avg = sum/3\n",
    "print('국어:{:3d}\\t영어:{:3d}\\t수학:{:3d}'.format(kor, eng, mat))\n",
    "print('총점:{:3d}\\t평균:{:5.1f}'.format(sum, avg))"
   ]
  },
  {
   "cell_type": "markdown",
   "id": "197456bd",
   "metadata": {},
   "source": [
    "## 5.2 할당연산자 : =, +=, -=, *=, /=, //=, %="
   ]
  },
  {
   "cell_type": "code",
   "execution_count": 29,
   "id": "d3cbc976",
   "metadata": {},
   "outputs": [
    {
     "name": "stdout",
     "output_type": "stream",
     "text": [
      "5더하기 : 15\n"
     ]
    }
   ],
   "source": [
    "a = 10\n",
    "a += 5 # a = a+5\n",
    "print('5더하기 :', a)"
   ]
  },
  {
   "cell_type": "code",
   "execution_count": 30,
   "id": "c50a0e53",
   "metadata": {},
   "outputs": [
    {
     "name": "stdout",
     "output_type": "stream",
     "text": [
      "5빼기 : 10\n",
      "5배 : 50\n"
     ]
    }
   ],
   "source": [
    "a -= 5 # a = a-5\n",
    "print('5빼기 :', a)\n",
    "a *= 5 # a = a*5\n",
    "print('5배 :', a)"
   ]
  },
  {
   "cell_type": "markdown",
   "id": "7241a5a0",
   "metadata": {},
   "source": [
    "## 5.3 논리연산자 : &, and,     |, or,  not"
   ]
  },
  {
   "cell_type": "code",
   "execution_count": 33,
   "id": "1b851ff5",
   "metadata": {},
   "outputs": [
    {
     "name": "stdout",
     "output_type": "stream",
     "text": [
      "True\n",
      "0\n"
     ]
    }
   ],
   "source": [
    "# & 논리연산자, 비트연산자\n",
    "print( (10>3) & (10>5) ) # 논리연산 True & True\n",
    "print(12 & 1) # 비트연산 12 : 0000 1100\n",
    "              #          1 : 0000 0001\n",
    "              #     12 & 1 : 0000 0000"
   ]
  },
  {
   "cell_type": "code",
   "execution_count": 42,
   "id": "d91942fd",
   "metadata": {},
   "outputs": [
    {
     "name": "stdout",
     "output_type": "stream",
     "text": [
      "3\n",
      "0\n",
      "abc\n",
      "False\n",
      "0\n",
      "[]\n"
     ]
    }
   ],
   "source": [
    "# and : false로 판별되는 첫번째 항을 반환\n",
    "#      모든 항이 참이면 마지막 항을 반환\n",
    "print(True and 1 and 3)\n",
    "print(0 and True)\n",
    "print(True and 'abc')\n",
    "print(True and False and True and True)\n",
    "print(True and 0 and True and True)\n",
    "print(True and [] and True and True)"
   ]
  },
  {
   "cell_type": "code",
   "execution_count": 45,
   "id": "82911cb6",
   "metadata": {},
   "outputs": [
    {
     "name": "stdout",
     "output_type": "stream",
     "text": [
      "논리연산(연산자 앞뒤에 논리형일 때) : True\n",
      "비트연산(연산자 앞이나 뒤에 숫자일 때) : 3\n"
     ]
    }
   ],
   "source": [
    "# | : 논리연산, 비트연산\n",
    "result = False | True\n",
    "print('논리연산(연산자 앞뒤에 논리형일 때) :', result)\n",
    "result = False | 3 # 0000 0000 (False)\n",
    "                   # 0000 0011 (3)\n",
    "print('비트연산(연산자 앞이나 뒤에 숫자일 때) :', result)"
   ]
  },
  {
   "cell_type": "code",
   "execution_count": 47,
   "id": "72025a18",
   "metadata": {},
   "outputs": [
    {
     "name": "stdout",
     "output_type": "stream",
     "text": [
      "None\n",
      "Hong\n"
     ]
    }
   ],
   "source": [
    "# or : 논리연산, 참으로 판별되는 첫번째 항을 반환\n",
    "#      모든 항이 거짓이면, 마지막 항을 반환\n",
    "print(False or False or None)\n",
    "print('Hong' or ' ' or False)"
   ]
  },
  {
   "cell_type": "code",
   "execution_count": 48,
   "id": "3a388934",
   "metadata": {},
   "outputs": [
    {
     "name": "stdout",
     "output_type": "stream",
     "text": [
      "False\n"
     ]
    }
   ],
   "source": [
    "print(not True)"
   ]
  },
  {
   "cell_type": "markdown",
   "id": "cfbc053e",
   "metadata": {},
   "source": [
    "## 5.4 비교연산자 : >, >=, <, <=, ==(같다), !=(다르다)"
   ]
  },
  {
   "cell_type": "code",
   "execution_count": 50,
   "id": "a41a6641",
   "metadata": {},
   "outputs": [
    {
     "name": "stdout",
     "output_type": "stream",
     "text": [
      "True\n",
      "True\n"
     ]
    }
   ],
   "source": [
    "# 비교연산자는 이항, 삼항, 사항... 다항연산자\n",
    "x = 5\n",
    "print((4<x) & (x<10))\n",
    "print(4 < x < 10)"
   ]
  },
  {
   "cell_type": "code",
   "execution_count": 54,
   "id": "5ba8da51",
   "metadata": {},
   "outputs": [
    {
     "name": "stdout",
     "output_type": "stream",
     "text": [
      "True\n",
      "False\n",
      "False\n",
      "True\n"
     ]
    }
   ],
   "source": [
    "# 비교연산자(<)의 우선순위가 논리연산(&)의 우선순위보다 낮다\n",
    "print((10>5) & (10>7))\n",
    "print(10>5 & 10>7) # 0101(5)\n",
    "                   # 1010(10)\n",
    "print(10 > 0 > 7)\n",
    "print(10>5 and 10>7)"
   ]
  },
  {
   "cell_type": "code",
   "execution_count": 58,
   "id": "a4593680",
   "metadata": {},
   "outputs": [
    {
     "name": "stdout",
     "output_type": "stream",
     "text": [
      "False\n",
      "False\n"
     ]
    }
   ],
   "source": [
    "address = '서울'\n",
    "age = 29\n",
    "# print(address=='서울' & age>=30)\n",
    "print((address=='서울') & (age>=30))\n",
    "print((address!='서울') & (age>=30))"
   ]
  },
  {
   "cell_type": "code",
   "execution_count": 59,
   "id": "17b98724",
   "metadata": {},
   "outputs": [
    {
     "data": {
      "text/plain": [
       "True"
      ]
     },
     "execution_count": 59,
     "metadata": {},
     "output_type": "execute_result"
    }
   ],
   "source": [
    "# 문자 비교 : ASCII 코드 순으로 비교 가능 : 특수문자 < 숫자 < 대문자 < 소문자\n",
    "'scott' < 'tiger'"
   ]
  },
  {
   "cell_type": "code",
   "execution_count": 60,
   "id": "b2121488",
   "metadata": {},
   "outputs": [
    {
     "data": {
      "text/plain": [
       "True"
      ]
     },
     "execution_count": 60,
     "metadata": {},
     "output_type": "execute_result"
    }
   ],
   "source": [
    "'9' > '10'"
   ]
  },
  {
   "cell_type": "code",
   "execution_count": 62,
   "id": "7852b01a",
   "metadata": {},
   "outputs": [
    {
     "data": {
      "text/plain": [
       "True"
      ]
     },
     "execution_count": 62,
     "metadata": {},
     "output_type": "execute_result"
    }
   ],
   "source": [
    "'김길동김수한' < '홍길동'"
   ]
  },
  {
   "cell_type": "markdown",
   "id": "7a143f23",
   "metadata": {},
   "source": [
    "## 5.5 비트연산자 : &, |, ^(XOR), ~"
   ]
  },
  {
   "cell_type": "code",
   "execution_count": null,
   "id": "e9059bd4",
   "metadata": {},
   "outputs": [],
   "source": [
    "# x  y  x&y  x^y\n",
    "# 0  0   0    0\n",
    "# 0  1   0    1\n",
    "# 1  0   0    1\n",
    "# 1  1   1    0"
   ]
  },
  {
   "cell_type": "code",
   "execution_count": 67,
   "id": "f266943a",
   "metadata": {},
   "outputs": [
    {
     "name": "stdout",
     "output_type": "stream",
     "text": [
      " a  = 15 : 1111\n",
      " b  =  2 : 0010\n",
      "a^b = 13 : 1101\n"
     ]
    }
   ],
   "source": [
    "a = 15 # 1111\n",
    "b = 2  # 0010\n",
    "print(\" a  = {0:2} : {0:04b}\".format(a))\n",
    "print(\" b  = {0:2} : {0:04b}\".format(b))\n",
    "print(\"a^b = {0:2} : {0:04b}\".format(a^b))"
   ]
  },
  {
   "cell_type": "markdown",
   "id": "8dba77d8",
   "metadata": {},
   "source": [
    "- 연산자\n",
    "    - 산술연산 : + - * / // % **\n",
    "    - 할당연산 : = += -= *= /= //= %=\n",
    "    - 논리연산 : & and | or not\n",
    "    - 비교연산 : > >= < <= == !=\n",
    "    - 비트연산 : & | ^\n",
    "    - &과 |은 비교연산자보다 우선순위가 높다"
   ]
  },
  {
   "cell_type": "markdown",
   "id": "ce1d9813",
   "metadata": {},
   "source": [
    "# 6절 문자열 다루기\n",
    "- 문자열 슬라이싱 변수[from:stop:step]\n",
    "- len(문자열변수) : 문자갯수\n",
    "\n",
    "- upper() : 대문자로\n",
    "- lower() : 소문자로\n",
    "- title() : 각 어절의 첫글자만 대문자로\n",
    "- capitalize() : 첫문자만 대문자로\n",
    "- count('찾을문자열') : '찾을문자열'이 몇 개 들어있는지 갯수 반환\n",
    "- find('찾을문자열') : '찾을문자열'이 왼쪽부터 시작하여 몇번째에 있는지 인덱스를 반환\n",
    "- rfind('찾을문자열') : '찾을문자열'이 오른쪽부터 시작하여 몇번째에 있는지 인덱스를 반환\n",
    "        **찾을문자열이 없으면 -1을 반환**\n",
    "     cf) index('찾을문자열') : '찾을문자열'의 인덱스를 반환, 찾을문자열이 없으면 오류\n",
    "- startswith('특정문자열') : '특정문자열'로 시작하는지 여부\n",
    "- endswith('특정문자열') : '특정문자열'로 끝나는지 여부\n",
    "- strip() : 좌우 공백 제거\n",
    "- rstrip() : 오른쪽 공백 제거\n",
    "- lstrip() : 왼쪽 공백 제거\n",
    "- isdigit() : 문자열이 숫자문자열인지 여부\n",
    "- islower() : 소문자문자열인지 여부\n",
    "- isupper() : 대문자문자열인지 여부\n",
    "- replace(oldStr, newStr) : oldStr을 newStr로 변경"
   ]
  },
  {
   "cell_type": "code",
   "execution_count": 88,
   "id": "726cdf77",
   "metadata": {},
   "outputs": [
    {
     "name": "stdout",
     "output_type": "stream",
     "text": [
      "1. 글자수 39\n",
      "2. 대문자로 : PYTHON IS EASY. PYTHON IS SMART. PYTHON\n",
      "3. 소문자로 : python is easy. python is smart. python\n",
      "4. title : Python Is Easy. Python Is Smart. Python\n",
      "5. capitalize : Python is easy. python is smart. python\n",
      "6. python이 몇번 나오는지 : 2\n",
      "7. 대소문자 구분없이 python이 몇번 나오는지 : 3\n",
      "7. 대소문자 구분없이 python이 몇번 나오는지 : 3\n",
      "7. 대소문자 구분없이 python이 몇번 나오는지 : 3\n",
      "8. python이 나오는 첫 index 위치 : 0\n",
      "8. python이 나오는 마지막 index 위치 : 33\n",
      "8. java가 나오는 마지막 index 위치 : -1\n",
      "8. python이 나오는 첫 index 위치 : 0\n",
      "9. python으로 시작하는지 여부 : True\n",
      "10. python으로 끝나는지 여부 : False\n",
      "10. 대소문자 구분없이 python으로 끝나는지 여부 : True\n"
     ]
    }
   ],
   "source": [
    "temp = 'python is easy. pYThon is smart. python'\n",
    "#       012345678901234567890123456789012345678\n",
    "print('1. 글자수', len(temp))\n",
    "print('2. 대문자로 :', temp.upper())\n",
    "print('3. 소문자로 :', temp.lower())\n",
    "print('4. title :', temp.title())\n",
    "print('5. capitalize :', temp.capitalize())\n",
    "print('6. python이 몇번 나오는지 :', temp.count('python'))\n",
    "print('7. 대소문자 구분없이 python이 몇번 나오는지 :', temp.lower().count('python'))\n",
    "print('7. 대소문자 구분없이 python이 몇번 나오는지 :', temp.upper().count('PYTHON'))\n",
    "print('7. 대소문자 구분없이 python이 몇번 나오는지 :', temp.title().count('Python'))\n",
    "print('8. python이 나오는 첫 index 위치 :', temp.find('python'))\n",
    "print('8. python이 나오는 마지막 index 위치 :', temp.rfind('python'))\n",
    "print('8. java가 나오는 마지막 index 위치 :', temp.rfind('java'))\n",
    "print('8. python이 나오는 첫 index 위치 :', temp.index('python'))\n",
    "# print('8. java가 나오는 첫 index 위치 :', temp.index('java'))\n",
    "print('9. python으로 시작하는지 여부 :', temp.startswith('python'))\n",
    "print('10. python으로 끝나는지 여부 :', temp.endswith('PYTHON'))\n",
    "print('10. 대소문자 구분없이 python으로 끝나는지 여부 :', temp.upper().endswith('PYTHON'))"
   ]
  },
  {
   "cell_type": "code",
   "execution_count": 100,
   "id": "e5f9c3f4",
   "metadata": {},
   "outputs": [
    {
     "name": "stdout",
     "output_type": "stream",
     "text": [
      "11. 좌우공백제거 : [python is easy.]\n",
      "11. 좌측공백제거 : [python is easy.     ]\n",
      "11. 우측공백제거 : [     python is easy.]\n",
      "12. 숫자문자열인지 : False\n",
      "13. 소문자문자열인지 : True\n",
      "13. 대문자문자열인지 : False\n",
      "14. ,제거 : 1000000\n",
      "14. ,제거 : 1000\n"
     ]
    }
   ],
   "source": [
    "temp = '     python is easy.     '\n",
    "notdisit = '1,000,000'\n",
    "num_str = '1000'\n",
    "print('11. 좌우공백제거 : [{}]'.format(temp.strip()))\n",
    "print('11. 좌측공백제거 : [{}]'.format(temp.lstrip()))\n",
    "print('11. 우측공백제거 : [{}]'.format(temp.rstrip()))\n",
    "print('12. 숫자문자열인지 :', notdisit.isdigit())\n",
    "print('13. 소문자문자열인지 :', temp.islower())\n",
    "print('13. 대문자문자열인지 :', temp.isupper())\n",
    "print('14. ,제거 :', notdisit.replace(',', ''))\n",
    "print('14. ,제거 :', num_str.replace(',', ''))"
   ]
  },
  {
   "cell_type": "code",
   "execution_count": 102,
   "id": "265c3bb6",
   "metadata": {},
   "outputs": [
    {
     "name": "stdout",
     "output_type": "stream",
     "text": [
      "space단위로 temp를 분리 : ['홍길동', '김길동', '신길똥', '유길똥']\n"
     ]
    }
   ],
   "source": [
    "temp = '홍길동     김길동 신길똥 유길똥'\n",
    "print('space단위로 temp를 분리 :', temp.split()) #기본이 space 단위로 분리"
   ]
  },
  {
   "cell_type": "code",
   "execution_count": 106,
   "id": "31d3fe6a",
   "metadata": {},
   "outputs": [
    {
     "name": "stdout",
     "output_type": "stream",
     "text": [
      " - 단위로 data를 분리(결과 : list)\n",
      "['2025', '04', '10']\n",
      "년 : 2025\n",
      "월 : 04\n",
      "일 : 10\n"
     ]
    }
   ],
   "source": [
    "data = '2025-04-10'\n",
    "print(' - 단위로 data를 분리(결과 : list)')\n",
    "data_list = data.split('-')\n",
    "print(data_list)\n",
    "print('년 :', data_list[0])\n",
    "print('월 :', data_list[1])\n",
    "print('일 :', data_list[2])"
   ]
  },
  {
   "cell_type": "code",
   "execution_count": 109,
   "id": "4f5fc75e",
   "metadata": {},
   "outputs": [
    {
     "name": "stdout",
     "output_type": "stream",
     "text": [
      "원 데이터 : Python - HTML/CSS - JavaScript - DBMS\n",
      "분리된 데이터 : ['Python', 'HTML/CSS', 'JavaScript', 'DBMS']\n",
      "join된 데이터 : Python/HTML/CSS/JavaScript/DBMS\n"
     ]
    }
   ],
   "source": [
    "# ' - '를 ' / '로 바꾸기\n",
    "temp = 'Python - HTML/CSS - JavaScript - DBMS'\n",
    "# temp.replace(' - ', '/')\n",
    "print('원 데이터 :', temp)\n",
    "splited_temp = temp.split(' - ')\n",
    "print('분리된 데이터 :', splited_temp)\n",
    "joined_temp = '/'.join(splited_temp)\n",
    "print('join된 데이터 :', joined_temp)"
   ]
  },
  {
   "cell_type": "code",
   "execution_count": 110,
   "id": "28854195",
   "metadata": {},
   "outputs": [],
   "source": [
    "str_ = 'ABC'\n",
    "# str_ = ['A', 'B', 'C'] 문자는 리스트처럼 보이지만 리스트가 아님"
   ]
  },
  {
   "cell_type": "code",
   "execution_count": 111,
   "id": "3a63b3d3",
   "metadata": {
    "collapsed": true
   },
   "outputs": [
    {
     "data": {
      "text/plain": [
       "['__add__',\n",
       " '__class__',\n",
       " '__contains__',\n",
       " '__delattr__',\n",
       " '__dir__',\n",
       " '__doc__',\n",
       " '__eq__',\n",
       " '__format__',\n",
       " '__ge__',\n",
       " '__getattribute__',\n",
       " '__getitem__',\n",
       " '__getnewargs__',\n",
       " '__gt__',\n",
       " '__hash__',\n",
       " '__init__',\n",
       " '__init_subclass__',\n",
       " '__iter__',\n",
       " '__le__',\n",
       " '__len__',\n",
       " '__lt__',\n",
       " '__mod__',\n",
       " '__mul__',\n",
       " '__ne__',\n",
       " '__new__',\n",
       " '__reduce__',\n",
       " '__reduce_ex__',\n",
       " '__repr__',\n",
       " '__rmod__',\n",
       " '__rmul__',\n",
       " '__setattr__',\n",
       " '__sizeof__',\n",
       " '__str__',\n",
       " '__subclasshook__',\n",
       " 'capitalize',\n",
       " 'casefold',\n",
       " 'center',\n",
       " 'count',\n",
       " 'encode',\n",
       " 'endswith',\n",
       " 'expandtabs',\n",
       " 'find',\n",
       " 'format',\n",
       " 'format_map',\n",
       " 'index',\n",
       " 'isalnum',\n",
       " 'isalpha',\n",
       " 'isascii',\n",
       " 'isdecimal',\n",
       " 'isdigit',\n",
       " 'isidentifier',\n",
       " 'islower',\n",
       " 'isnumeric',\n",
       " 'isprintable',\n",
       " 'isspace',\n",
       " 'istitle',\n",
       " 'isupper',\n",
       " 'join',\n",
       " 'ljust',\n",
       " 'lower',\n",
       " 'lstrip',\n",
       " 'maketrans',\n",
       " 'partition',\n",
       " 'removeprefix',\n",
       " 'removesuffix',\n",
       " 'replace',\n",
       " 'rfind',\n",
       " 'rindex',\n",
       " 'rjust',\n",
       " 'rpartition',\n",
       " 'rsplit',\n",
       " 'rstrip',\n",
       " 'split',\n",
       " 'splitlines',\n",
       " 'startswith',\n",
       " 'strip',\n",
       " 'swapcase',\n",
       " 'title',\n",
       " 'translate',\n",
       " 'upper',\n",
       " 'zfill']"
      ]
     },
     "execution_count": 111,
     "metadata": {},
     "output_type": "execute_result"
    }
   ],
   "source": [
    "# 문자열이 다룰 수 있는 함수들과 변수들 목록\n",
    "dir(str)"
   ]
  },
  {
   "cell_type": "markdown",
   "id": "40934d79",
   "metadata": {},
   "source": [
    "# 7절 시간, 날짜, 날짜시간 다루기"
   ]
  },
  {
   "cell_type": "code",
   "execution_count": 15,
   "id": "cb87e8e6",
   "metadata": {},
   "outputs": [
    {
     "data": {
      "text/plain": [
       "'C:\\\\Users\\\\Admin\\\\anaconda3\\\\lib\\\\datetime.py'"
      ]
     },
     "execution_count": 15,
     "metadata": {},
     "output_type": "execute_result"
    }
   ],
   "source": [
    "import datetime\n",
    "datetime.__file__"
   ]
  },
  {
   "cell_type": "code",
   "execution_count": 16,
   "id": "b2d350ad",
   "metadata": {},
   "outputs": [],
   "source": [
    "# datetime모듈(datetime.py)안의 datetime, date, time을 import\n",
    "from datetime import datetime, date, time"
   ]
  },
  {
   "cell_type": "markdown",
   "id": "aa716c9a",
   "metadata": {},
   "source": [
    "## 7.1 시간과 날짜"
   ]
  },
  {
   "cell_type": "code",
   "execution_count": 17,
   "id": "fa9ba69c",
   "metadata": {},
   "outputs": [
    {
     "data": {
      "text/plain": [
       "datetime.datetime(2025, 4, 7, 9, 30)"
      ]
     },
     "execution_count": 17,
     "metadata": {},
     "output_type": "execute_result"
    }
   ],
   "source": [
    "# 특정한 시점을 갖는 datetime 객체 생성\n",
    "thatday = datetime(2025, 4, 7, 9, 30, 0)\n",
    "thatday"
   ]
  },
  {
   "cell_type": "code",
   "execution_count": 24,
   "id": "aaeba06c",
   "metadata": {},
   "outputs": [
    {
     "name": "stdout",
     "output_type": "stream",
     "text": [
      "2025-04-07 09:30:00\n",
      "Mon Apr  7 09:30:00 2025\n",
      "2025년04월07일(월요일) 오전 09시30분 00초\n",
      "2025년04월07일(월요일) 오전 09시30분 00초\n"
     ]
    }
   ],
   "source": [
    "print(thatday)\n",
    "print(thatday.ctime()) # ctime() : 사람이 읽기 쉬운 형태로 반환\n",
    "print(\"{:%Y년%m월%d일(%A) %p %I시%M분 %S초}\".format(thatday))\n",
    "print(thatday.strftime(\"%Y년%m월%d일(%A) %p %I시%M분 %S초\"))"
   ]
  },
  {
   "cell_type": "code",
   "execution_count": 23,
   "id": "943fcdbc",
   "metadata": {},
   "outputs": [
    {
     "data": {
      "text/plain": [
       "'ko_KR'"
      ]
     },
     "execution_count": 23,
     "metadata": {},
     "output_type": "execute_result"
    }
   ],
   "source": [
    "import locale\n",
    "locale.setlocale(locale.LC_TIME, 'ko_KR')"
   ]
  },
  {
   "cell_type": "code",
   "execution_count": 26,
   "id": "446a68aa",
   "metadata": {},
   "outputs": [
    {
     "name": "stdout",
     "output_type": "stream",
     "text": [
      "25-0411(금요일) 10:15:00\n"
     ]
    }
   ],
   "source": [
    "now = datetime.now()\n",
    "print(now.strftime(\"%y-%m%d(%A) %H:%M:%S\"))"
   ]
  },
  {
   "cell_type": "code",
   "execution_count": 27,
   "id": "a4afb33b",
   "metadata": {},
   "outputs": [
    {
     "data": {
      "text/plain": [
       "datetime.timedelta(days=4, seconds=2700, microseconds=33124)"
      ]
     },
     "execution_count": 27,
     "metadata": {},
     "output_type": "execute_result"
    }
   ],
   "source": [
    "diff = now - thatday\n",
    "diff"
   ]
  },
  {
   "cell_type": "code",
   "execution_count": 28,
   "id": "9669430d",
   "metadata": {},
   "outputs": [
    {
     "data": {
      "text/plain": [
       "4"
      ]
     },
     "execution_count": 28,
     "metadata": {},
     "output_type": "execute_result"
    }
   ],
   "source": [
    "diff.days"
   ]
  },
  {
   "cell_type": "markdown",
   "id": "f78ae955",
   "metadata": {},
   "source": [
    "## 7.2 날짜"
   ]
  },
  {
   "cell_type": "code",
   "execution_count": 35,
   "id": "0686b9b5",
   "metadata": {},
   "outputs": [
    {
     "data": {
      "text/plain": [
       "datetime.date(2025, 9, 2)"
      ]
     },
     "execution_count": 35,
     "metadata": {},
     "output_type": "execute_result"
    }
   ],
   "source": [
    "someday = date(2025, 9, 2)\n",
    "someday"
   ]
  },
  {
   "cell_type": "code",
   "execution_count": 36,
   "id": "2ef31b15",
   "metadata": {},
   "outputs": [
    {
     "name": "stdout",
     "output_type": "stream",
     "text": [
      "2025년09월02일\n"
     ]
    }
   ],
   "source": [
    "print(someday.strftime(\"%Y년%m월%d일\"))"
   ]
  },
  {
   "cell_type": "code",
   "execution_count": 37,
   "id": "404fed97",
   "metadata": {},
   "outputs": [
    {
     "data": {
      "text/plain": [
       "True"
      ]
     },
     "execution_count": 37,
     "metadata": {},
     "output_type": "execute_result"
    }
   ],
   "source": [
    "# 오늘\n",
    "today1 = datetime.now().date()\n",
    "today2 = date.today()\n",
    "today1 == today2"
   ]
  },
  {
   "cell_type": "code",
   "execution_count": 38,
   "id": "32de485c",
   "metadata": {},
   "outputs": [
    {
     "name": "stdout",
     "output_type": "stream",
     "text": [
      "25년 04월 11일\n"
     ]
    }
   ],
   "source": [
    "print(today1.strftime(\"%y년 %m월 %d일\"))"
   ]
  },
  {
   "cell_type": "code",
   "execution_count": 39,
   "id": "e1aa62c0",
   "metadata": {},
   "outputs": [
    {
     "data": {
      "text/plain": [
       "144"
      ]
     },
     "execution_count": 39,
     "metadata": {},
     "output_type": "execute_result"
    }
   ],
   "source": [
    "diff = someday - today\n",
    "diff.days"
   ]
  },
  {
   "cell_type": "markdown",
   "id": "755839e9",
   "metadata": {},
   "source": [
    "## 7.3 시간"
   ]
  },
  {
   "cell_type": "code",
   "execution_count": 40,
   "id": "0ba31d2f",
   "metadata": {},
   "outputs": [
    {
     "data": {
      "text/plain": [
       "datetime.time(13, 10)"
      ]
     },
     "execution_count": 40,
     "metadata": {},
     "output_type": "execute_result"
    }
   ],
   "source": [
    "# 특정 시간\n",
    "t = time(13,10)\n",
    "t"
   ]
  },
  {
   "cell_type": "code",
   "execution_count": 41,
   "id": "6ee4a0dc",
   "metadata": {},
   "outputs": [
    {
     "name": "stdout",
     "output_type": "stream",
     "text": [
      "13:10:00\n",
      "오후 01시 10분\n"
     ]
    }
   ],
   "source": [
    "print(t)\n",
    "print(t.strftime(\"%p %I시 %M분\"))"
   ]
  },
  {
   "cell_type": "code",
   "execution_count": 42,
   "id": "f956c3ae",
   "metadata": {},
   "outputs": [
    {
     "data": {
      "text/plain": [
       "datetime.time(10, 42, 18, 988388)"
      ]
     },
     "execution_count": 42,
     "metadata": {},
     "output_type": "execute_result"
    }
   ],
   "source": [
    "# 지금 시간\n",
    "now_time = datetime.now().time()\n",
    "now_time"
   ]
  },
  {
   "cell_type": "code",
   "execution_count": 44,
   "id": "bc54d5f4",
   "metadata": {},
   "outputs": [
    {
     "data": {
      "text/plain": [
       "'10시 42분 18초'"
      ]
     },
     "execution_count": 44,
     "metadata": {},
     "output_type": "execute_result"
    }
   ],
   "source": [
    "now_time.strftime(\"%H시 %M분 %S초\")"
   ]
  },
  {
   "cell_type": "markdown",
   "id": "ba0d951e",
   "metadata": {},
   "source": [
    "**datetime, date, time형들을 원하는 포맷의 문자형으로 반환 : strftime()**\n",
    "- %Y, %y, %m, %d, %A(요일), %p(오전/오후), %H(24시), %I(12시), %M(분), %S(초)"
   ]
  },
  {
   "cell_type": "markdown",
   "id": "b3781d0e",
   "metadata": {},
   "source": [
    "# 8절 연습문제"
   ]
  },
  {
   "cell_type": "code",
   "execution_count": 122,
   "id": "a37bef47",
   "metadata": {},
   "outputs": [
    {
     "name": "stdout",
     "output_type": "stream",
     "text": [
      "홍길동님의 나이는 23 살입니다\n"
     ]
    }
   ],
   "source": [
    "# 1. 이름과 나이 변수를 다음 형식으로 출력하도록 format() 함수를 이용해 형식화하세요\n",
    "# [출력형식 : 홍길동님의 나이는 23 살입니다]\n",
    "name = '홍길동'\n",
    "age = 23\n",
    "print(f'{name}님의 나이는 {age} 살입니다')"
   ]
  },
  {
   "cell_type": "code",
   "execution_count": 138,
   "id": "b6b3fc29",
   "metadata": {},
   "outputs": [
    {
     "name": "stdout",
     "output_type": "stream",
     "text": [
      "첫번째 정수를 입력해주세요3\n",
      "두번째 정수를 입력해주세요3\n",
      "덧셈 : 6\n",
      "뺄셈 : 0\n",
      "곱셈 : 9\n",
      "나눗셈 : 1.0\n",
      "몫 : 1\n",
      "나머지 : 0\n"
     ]
    }
   ],
   "source": [
    "# 2. 두 정수를 입력받아 두 수의 덧셈 , 뺄셈 , 곱셈 , 나눗셈 , 몫 , 나머지를 출력하세요\n",
    "num1 = int(input('첫번째 정수를 입력해주세요'))\n",
    "num2 = int(input('두번째 정수를 입력해주세요'))\n",
    "print('덧셈 :', num1+num2)\n",
    "print('뺄셈 :', num1-num2)\n",
    "print('곱셈 :', num1*num2)\n",
    "print('나눗셈 :', num1/num2)\n",
    "print('몫 :', num1//num2)\n",
    "print('나머지 :', num1%num2)"
   ]
  },
  {
   "cell_type": "code",
   "execution_count": 6,
   "id": "8e98f046",
   "metadata": {},
   "outputs": [
    {
     "name": "stdout",
     "output_type": "stream",
     "text": [
      "World Hello\n"
     ]
    }
   ],
   "source": [
    "# 3.문자열의 분리하기와 합치기 기능을 이용하여 ‘Hello World’가 할당된 변수를 이용하여 ‘World Hello’로 출력하세요\n",
    "text = 'Hello World'\n",
    "splited_text = text.split()\n",
    "print(splited_text[1],splited_text[0])"
   ]
  },
  {
   "cell_type": "code",
   "execution_count": 31,
   "id": "99af2a63",
   "metadata": {},
   "outputs": [
    {
     "name": "stdout",
     "output_type": "stream",
     "text": [
      "bcdefa\n"
     ]
    }
   ],
   "source": [
    "# 4. x = ' abcdef ＇를 이용하여 bcdefa 로 출력하세요 문자 슬라이싱이용\n",
    "x = 'abcdef'\n",
    "print(x[1:]+x[0])"
   ]
  },
  {
   "cell_type": "code",
   "execution_count": 134,
   "id": "d70337df",
   "metadata": {},
   "outputs": [
    {
     "data": {
      "text/plain": [
       "'fedcba'"
      ]
     },
     "execution_count": 134,
     "metadata": {},
     "output_type": "execute_result"
    }
   ],
   "source": [
    "# 5. x = ‘ abcdef 를 이용하여 fedcba 로 출력하세요\n",
    "x = 'abcdef'\n",
    "x[::-1]"
   ]
  },
  {
   "cell_type": "code",
   "execution_count": 47,
   "id": "a0316cef",
   "metadata": {},
   "outputs": [
    {
     "name": "stdout",
     "output_type": "stream",
     "text": [
      "섭씨온도를 입력하세요12\n",
      "섭씨 12도는 화씨온도로 바꾸면 53.60도 입니다\n"
     ]
    }
   ],
   "source": [
    "# 6. 오늘의 온도를 섭씨온도로 입력받아 화씨 온도로 변환하는 프로그램을 작성하세요 .\n",
    "# 화씨 온도는 소수점이 있을 경우만 두번째 자리까지 출력되고 ,\n",
    "# 소수점이하 값이 없는 경우 소수점을 출력하지 않도록 합니다. 다음은 섭씨와 화씨의 변환 공식입니다.\n",
    "# C 는 섭씨 , F 는 화씨\n",
    "# C = (F-32) / 1.8\n",
    "# F = (C*1.8) + 32\n",
    "c = int(input('섭씨온도를 입력하세요'))\n",
    "f = (c*1.8) + 32\n",
    "\n",
    "if not f.is_integer():\n",
    "    print('섭씨 {}도는 화씨온도로 바꾸면 {:.2f}도 입니다'.format(c, f))\n",
    "else:\n",
    "    print('섭씨 {}도는 화씨온도로 바꾸면 {:.0f}도 입니다'.format(c, f))"
   ]
  },
  {
   "cell_type": "code",
   "execution_count": 3,
   "id": "537d5c6c",
   "metadata": {},
   "outputs": [],
   "source": [
    "# 7. 다음 중 변수 선언으로 잘못된 것을 모두 고르시오\n",
    "# ① for\n",
    "# ② 10th\n",
    "# ③ Student.name\n",
    "# ④ _1234\n"
   ]
  },
  {
   "cell_type": "code",
   "execution_count": 49,
   "id": "730136f7",
   "metadata": {},
   "outputs": [
    {
     "name": "stdout",
     "output_type": "stream",
     "text": [
      "SeounSeoul\n",
      "Seou n Seoul\n"
     ]
    }
   ],
   "source": [
    "# 8. 다음의 코드의 실행결과는?\n",
    "text = 'Seoul A001 - programming with python'\n",
    "print(text[:4]+text[-1]+text.split()[0])\n",
    "print(text[:4], text[-1], text.split()[0])"
   ]
  },
  {
   "cell_type": "code",
   "execution_count": 4,
   "id": "b7b4bac7",
   "metadata": {},
   "outputs": [],
   "source": [
    "# 9. 다음 중 파이썬 3.x 버전에서 연산식과 그 결과의 출력이 잘못된 것은?\n",
    "# ① 수식 8//2 결과 4\n",
    "# ② 수식 8/2 결과 4 : 나누기 했을 때 무조건 실수가 나옴\n",
    "# ③ 수식 8**2 결과 64\n",
    "②"
   ]
  },
  {
   "cell_type": "code",
   "execution_count": 140,
   "id": "8cc705b3",
   "metadata": {},
   "outputs": [
    {
     "ename": "TypeError",
     "evalue": "unsupported operand type(s) for +: 'int' and 'str'",
     "output_type": "error",
     "traceback": [
      "\u001b[1;31m---------------------------------------------------------------------------\u001b[0m",
      "\u001b[1;31mTypeError\u001b[0m                                 Traceback (most recent call last)",
      "Cell \u001b[1;32mIn[140], line 4\u001b[0m\n\u001b[0;32m      2\u001b[0m x \u001b[38;5;241m=\u001b[39m \u001b[38;5;241m5\u001b[39m\n\u001b[0;32m      3\u001b[0m y \u001b[38;5;241m=\u001b[39m \u001b[38;5;124m'\u001b[39m\u001b[38;5;124mJohn\u001b[39m\u001b[38;5;124m'\u001b[39m\n\u001b[1;32m----> 4\u001b[0m \u001b[38;5;28mprint\u001b[39m(\u001b[43mx\u001b[49m\u001b[43m \u001b[49m\u001b[38;5;241;43m+\u001b[39;49m\u001b[43m \u001b[49m\u001b[43my\u001b[49m)\n",
      "\u001b[1;31mTypeError\u001b[0m: unsupported operand type(s) for +: 'int' and 'str'"
     ]
    }
   ],
   "source": [
    "# 10. 아래 프로그램의 결과는?\n",
    "x = 5\n",
    "y = 'John'\n",
    "print(x + y)"
   ]
  },
  {
   "cell_type": "code",
   "execution_count": 57,
   "id": "3af85053",
   "metadata": {},
   "outputs": [
    {
     "data": {
      "text/plain": [
       "'나라'"
      ]
     },
     "execution_count": 57,
     "metadata": {},
     "output_type": "execute_result"
    }
   ],
   "source": [
    "# 11. split() 함수를 이용하여 str_ 의 값 중 나라 를 출력하는 프로그램을 완성하시오\n",
    "# str_ = '우리 나라 대한 민국'\n",
    "str_ = '우리 나라 대한 민국'\n",
    "str_.split()\n",
    "str_.split()[1]"
   ]
  },
  {
   "cell_type": "code",
   "execution_count": null,
   "id": "2dd52af7",
   "metadata": {},
   "outputs": [],
   "source": []
  }
 ],
 "metadata": {
  "kernelspec": {
   "display_name": "Python 3 (ipykernel)",
   "language": "python",
   "name": "python3"
  },
  "language_info": {
   "codemirror_mode": {
    "name": "ipython",
    "version": 3
   },
   "file_extension": ".py",
   "mimetype": "text/x-python",
   "name": "python",
   "nbconvert_exporter": "python",
   "pygments_lexer": "ipython3",
   "version": "3.10.9"
  },
  "toc": {
   "base_numbering": 1,
   "nav_menu": {},
   "number_sections": false,
   "sideBar": true,
   "skip_h1_title": false,
   "title_cell": "Table of Contents",
   "title_sidebar": "Contents",
   "toc_cell": false,
   "toc_position": {
    "height": "calc(100% - 180px)",
    "left": "10px",
    "top": "150px",
    "width": "204.95px"
   },
   "toc_section_display": true,
   "toc_window_display": true
  }
 },
 "nbformat": 4,
 "nbformat_minor": 5
}
