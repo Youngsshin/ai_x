{
 "cells": [
  {
   "cell_type": "code",
   "execution_count": 1,
   "id": "e9947780",
   "metadata": {},
   "outputs": [
    {
     "ename": "NameError",
     "evalue": "name 'filepath' is not defined",
     "output_type": "error",
     "traceback": [
      "\u001b[1;31m---------------------------------------------------------------------------\u001b[0m",
      "\u001b[1;31mNameError\u001b[0m                                 Traceback (most recent call last)",
      "Cell \u001b[1;32mIn[1], line 1\u001b[0m\n\u001b[1;32m----> 1\u001b[0m file_stream \u001b[38;5;241m=\u001b[39m \u001b[38;5;28mopen\u001b[39m(\u001b[43mfilepath\u001b[49m, \u001b[38;5;124m'\u001b[39m\u001b[38;5;124mw\u001b[39m\u001b[38;5;124m'\u001b[39m)\n\u001b[0;32m      2\u001b[0m \u001b[38;5;28mprint\u001b[39m(\u001b[38;5;124m'\u001b[39m\u001b[38;5;124mhello\u001b[39m\u001b[38;5;124m'\u001b[39m, \u001b[38;5;124m'\u001b[39m\u001b[38;5;124mworld\u001b[39m\u001b[38;5;124m'\u001b[39m, sep\u001b[38;5;241m=\u001b[39m\u001b[38;5;124m\"\u001b[39m\u001b[38;5;124m~\u001b[39m\u001b[38;5;124m\"\u001b[39m, file\u001b[38;5;241m=\u001b[39mfile_stream)\n\u001b[0;32m      3\u001b[0m file_stream\u001b[38;5;241m.\u001b[39mclose()\n",
      "\u001b[1;31mNameError\u001b[0m: name 'filepath' is not defined"
     ]
    }
   ],
   "source": [
    "file_stream = open(filepath, 'w')\n",
    "print('hello', 'world', sep=\"~\", file=file_stream)\n",
    "file_stream.close()"
   ]
  },
  {
   "cell_type": "code",
   "execution_count": 2,
   "id": "a2130193",
   "metadata": {},
   "outputs": [
    {
     "data": {
      "text/plain": [
       "'파이썬'"
      ]
     },
     "execution_count": 2,
     "metadata": {},
     "output_type": "execute_result"
    }
   ],
   "source": [
    "str_ = '파이썬'\n",
    "str_"
   ]
  },
  {
   "cell_type": "code",
   "execution_count": 3,
   "id": "a763c7d5",
   "metadata": {},
   "outputs": [
    {
     "data": {
      "text/plain": [
       "'파'"
      ]
     },
     "execution_count": 3,
     "metadata": {},
     "output_type": "execute_result"
    }
   ],
   "source": [
    "str_[0]"
   ]
  },
  {
   "cell_type": "code",
   "execution_count": 4,
   "id": "c2332626",
   "metadata": {},
   "outputs": [
    {
     "data": {
      "text/plain": [
       "'썬'"
      ]
     },
     "execution_count": 4,
     "metadata": {},
     "output_type": "execute_result"
    }
   ],
   "source": [
    "str_[-1]"
   ]
  },
  {
   "cell_type": "code",
   "execution_count": 5,
   "id": "e56b7046",
   "metadata": {},
   "outputs": [
    {
     "ename": "IndexError",
     "evalue": "string index out of range",
     "output_type": "error",
     "traceback": [
      "\u001b[1;31m---------------------------------------------------------------------------\u001b[0m",
      "\u001b[1;31mIndexError\u001b[0m                                Traceback (most recent call last)",
      "Cell \u001b[1;32mIn[5], line 1\u001b[0m\n\u001b[1;32m----> 1\u001b[0m \u001b[43mstr_\u001b[49m\u001b[43m[\u001b[49m\u001b[38;5;241;43m4\u001b[39;49m\u001b[43m]\u001b[49m\n",
      "\u001b[1;31mIndexError\u001b[0m: string index out of range"
     ]
    }
   ],
   "source": [
    "str_[4]"
   ]
  },
  {
   "cell_type": "code",
   "execution_count": 6,
   "id": "4f162213",
   "metadata": {},
   "outputs": [
    {
     "data": {
      "text/plain": [
       "'파이'"
      ]
     },
     "execution_count": 6,
     "metadata": {},
     "output_type": "execute_result"
    }
   ],
   "source": [
    "str_[0:2]"
   ]
  },
  {
   "cell_type": "code",
   "execution_count": 7,
   "id": "d859d79c",
   "metadata": {},
   "outputs": [],
   "source": [
    "str_ = '0123456789'"
   ]
  },
  {
   "cell_type": "code",
   "execution_count": 9,
   "id": "e196eb9e",
   "metadata": {},
   "outputs": [
    {
     "name": "stdout",
     "output_type": "stream",
     "text": [
      "012345\n",
      "56789\n",
      "\n"
     ]
    }
   ],
   "source": [
    "# 첫문자 ~ 6번째 인덱스까지 추출\n",
    "print(str_[0:6])\n",
    "# 5번째 인덱스부터 끝까지 추출\n",
    "print(str_[5:])\n",
    "# str_를 꺼꾸로 출력\n",
    "print(str_[9:0])"
   ]
  },
  {
   "cell_type": "code",
   "execution_count": 19,
   "id": "03a6d303",
   "metadata": {},
   "outputs": [
    {
     "name": "stdout",
     "output_type": "stream",
     "text": [
      "정수를 입력하세요 :8\n",
      "1 나머지가 1이 맞습니다\n"
     ]
    }
   ],
   "source": [
    "# quiz 2. 정수를 입력받아 7로 나눠졌을 때 나머지가 1인지 여부\n",
    "num = int(input('정수를 입력하세요 :'))\n",
    "if num%7 == 1:\n",
    "    print('{} 나머지가 1이 맞습니다'.format(num%7))\n",
    "\n",
    "else:\n",
    "    print('{} 나머지가 1이 아닙니다'.format(num%7))"
   ]
  },
  {
   "cell_type": "code",
   "execution_count": null,
   "id": "218504eb",
   "metadata": {},
   "outputs": [],
   "source": []
  },
  {
   "cell_type": "code",
   "execution_count": null,
   "id": "ae55978b",
   "metadata": {},
   "outputs": [],
   "source": []
  }
 ],
 "metadata": {
  "kernelspec": {
   "display_name": "Python 3 (ipykernel)",
   "language": "python",
   "name": "python3"
  },
  "language_info": {
   "codemirror_mode": {
    "name": "ipython",
    "version": 3
   },
   "file_extension": ".py",
   "mimetype": "text/x-python",
   "name": "python",
   "nbconvert_exporter": "python",
   "pygments_lexer": "ipython3",
   "version": "3.10.9"
  },
  "toc": {
   "base_numbering": 1,
   "nav_menu": {},
   "number_sections": false,
   "sideBar": true,
   "skip_h1_title": false,
   "title_cell": "Table of Contents",
   "title_sidebar": "Contents",
   "toc_cell": false,
   "toc_position": {},
   "toc_section_display": true,
   "toc_window_display": false
  }
 },
 "nbformat": 4,
 "nbformat_minor": 5
}
