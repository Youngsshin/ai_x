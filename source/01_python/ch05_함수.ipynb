{
 "cells": [
  {
   "cell_type": "code",
   "execution_count": 1,
   "id": "f45da50f",
   "metadata": {},
   "outputs": [
    {
     "data": {
      "text/html": [
       "\n",
       "<style>\n",
       "div.container{width:86% !important;}\n",
       "div.cell.code_cell.rendered{width:100%;}\n",
       "div.CodeMirror{font-family:Consolas; font-size:15pt;}\n",
       "div.output{font-size:12pt; font-weight:bold;}\n",
       "div.input{font-family:Consolas; font-size:12pt;}\n",
       "div.prompt{min-width:70px;}\n",
       "div#toc-wrapper {padding-top:120px;}\n",
       "div.text_cell_render ul li{font-size:12pt;padding:5px;}\n",
       "table.dataframe{font-size:15px;}\n",
       "</style>\n"
      ],
      "text/plain": [
       "<IPython.core.display.HTML object>"
      ]
     },
     "metadata": {},
     "output_type": "display_data"
    }
   ],
   "source": [
    "from IPython.display import display, HTML\n",
    "display(HTML(\"\"\"\n",
    "<style>\n",
    "div.container{width:86% !important;}\n",
    "div.cell.code_cell.rendered{width:100%;}\n",
    "div.CodeMirror{font-family:Consolas; font-size:15pt;}\n",
    "div.output{font-size:12pt; font-weight:bold;}\n",
    "div.input{font-family:Consolas; font-size:12pt;}\n",
    "div.prompt{min-width:70px;}\n",
    "div#toc-wrapper {padding-top:120px;}\n",
    "div.text_cell_render ul li{font-size:12pt;padding:5px;}\n",
    "table.dataframe{font-size:15px;}\n",
    "</style>\n",
    "\"\"\"))"
   ]
  },
  {
   "cell_type": "markdown",
   "id": "ba7331fa",
   "metadata": {},
   "source": [
    "<font size=\"5\" color=\"red\">ch05 함수</font>\n",
    "- 사용할 코드를 묶어 놓고 그것에 이름을 붙인 것\n",
    "- 오버로딩(함수 이름이 같고, 매개변수의 타입이나 갯수로 다른 함수를 허용하는 것) 불가\n",
    "- 함수 정의\n",
    "```\n",
    "def 함수명([매개변수1, .. 매개변수n]):\n",
    "    명령어1\n",
    "    명령어2\n",
    "    명령어n\n",
    "```\n",
    "# 1절 함수의 정의 및 사용\n",
    "## 1.1 함수 정의"
   ]
  },
  {
   "cell_type": "code",
   "execution_count": 9,
   "id": "8f86d715",
   "metadata": {},
   "outputs": [],
   "source": [
    "# 함수 정의\n",
    "def my_message(x, msg): # msg를 x번 출력하는 함수\n",
    "    for i in range(x):\n",
    "        print(msg)"
   ]
  },
  {
   "cell_type": "code",
   "execution_count": 6,
   "id": "2211c55a",
   "metadata": {},
   "outputs": [
    {
     "name": "stdout",
     "output_type": "stream",
     "text": [
      "Hello\n",
      "Hello\n",
      "Hello\n",
      "Hello\n",
      "Hello\n"
     ]
    }
   ],
   "source": [
    "# 함수 사용\n",
    "my_message(5, 'Hello')"
   ]
  },
  {
   "cell_type": "code",
   "execution_count": 7,
   "id": "ce7a0679",
   "metadata": {},
   "outputs": [
    {
     "name": "stdout",
     "output_type": "stream",
     "text": [
      "hello\n",
      "hello\n",
      "hello\n"
     ]
    }
   ],
   "source": [
    "my_msg = my_message\n",
    "my_msg(3, 'hello')"
   ]
  },
  {
   "cell_type": "code",
   "execution_count": 8,
   "id": "ea2ea0aa",
   "metadata": {},
   "outputs": [
    {
     "data": {
      "text/plain": [
       "(function, function)"
      ]
     },
     "execution_count": 8,
     "metadata": {},
     "output_type": "execute_result"
    }
   ],
   "source": [
    "type(my_msg), type(my_message)"
   ]
  },
  {
   "cell_type": "code",
   "execution_count": 11,
   "id": "0126d271",
   "metadata": {},
   "outputs": [
    {
     "name": "stdout",
     "output_type": "stream",
     "text": [
      "Hello\n",
      "Hello\n"
     ]
    }
   ],
   "source": [
    "print('Hello') # 파이썬 내장함수(import 하지 않고 사용할 수 있는 함수)\n",
    "print = 5\n",
    "#print('Hello')\n",
    "del print\n",
    "print('Hello')"
   ]
  },
  {
   "cell_type": "code",
   "execution_count": 13,
   "id": "3117a6d1",
   "metadata": {},
   "outputs": [
    {
     "name": "stdout",
     "output_type": "stream",
     "text": [
      "Hello\n",
      "Hello\n"
     ]
    }
   ],
   "source": [
    "my_message(2, 'Hello')"
   ]
  },
  {
   "cell_type": "code",
   "execution_count": 14,
   "id": "019c569c",
   "metadata": {},
   "outputs": [],
   "source": [
    "my_message = 5"
   ]
  },
  {
   "cell_type": "code",
   "execution_count": 15,
   "id": "701deb38",
   "metadata": {},
   "outputs": [
    {
     "ename": "TypeError",
     "evalue": "'int' object is not callable",
     "output_type": "error",
     "traceback": [
      "\u001b[1;31m---------------------------------------------------------------------------\u001b[0m",
      "\u001b[1;31mTypeError\u001b[0m                                 Traceback (most recent call last)",
      "Cell \u001b[1;32mIn[15], line 1\u001b[0m\n\u001b[1;32m----> 1\u001b[0m \u001b[43mmy_message\u001b[49m\u001b[43m(\u001b[49m\u001b[38;5;241;43m2\u001b[39;49m\u001b[43m,\u001b[49m\u001b[43m \u001b[49m\u001b[38;5;124;43m'\u001b[39;49m\u001b[38;5;124;43mHello\u001b[39;49m\u001b[38;5;124;43m'\u001b[39;49m\u001b[43m)\u001b[49m\n",
      "\u001b[1;31mTypeError\u001b[0m: 'int' object is not callable"
     ]
    }
   ],
   "source": [
    "my_message(2, 'Hello')"
   ]
  },
  {
   "cell_type": "code",
   "execution_count": 16,
   "id": "18582bfd",
   "metadata": {},
   "outputs": [],
   "source": [
    "del my_message\n",
    "# 변수를 삭제해도 함수 사용불가(파이썬 내장함수가 아니라서)"
   ]
  },
  {
   "cell_type": "code",
   "execution_count": 17,
   "id": "a3a62591",
   "metadata": {},
   "outputs": [
    {
     "ename": "NameError",
     "evalue": "name 'my_message' is not defined",
     "output_type": "error",
     "traceback": [
      "\u001b[1;31m---------------------------------------------------------------------------\u001b[0m",
      "\u001b[1;31mNameError\u001b[0m                                 Traceback (most recent call last)",
      "Cell \u001b[1;32mIn[17], line 1\u001b[0m\n\u001b[1;32m----> 1\u001b[0m \u001b[43mmy_message\u001b[49m(\u001b[38;5;241m2\u001b[39m, \u001b[38;5;124m'\u001b[39m\u001b[38;5;124mHello\u001b[39m\u001b[38;5;124m'\u001b[39m)\n",
      "\u001b[1;31mNameError\u001b[0m: name 'my_message' is not defined"
     ]
    }
   ],
   "source": [
    "my_message(2, 'Hello')"
   ]
  },
  {
   "cell_type": "code",
   "execution_count": 4,
   "id": "9e5f300e",
   "metadata": {},
   "outputs": [],
   "source": [
    "# 함수 정의\n",
    "def my_hello():\n",
    "    print('Hello, Python')\n",
    "    print('Hello, World')\n",
    "def my_hello(cnt):\n",
    "    for i in range(cnt):\n",
    "        print('Hello, Python')\n",
    "        print('Hello, World')"
   ]
  },
  {
   "cell_type": "code",
   "execution_count": 6,
   "id": "2ea28a94",
   "metadata": {},
   "outputs": [
    {
     "name": "stdout",
     "output_type": "stream",
     "text": [
      "Hello, Python\n",
      "Hello, World\n",
      "Hello, Python\n",
      "Hello, World\n"
     ]
    }
   ],
   "source": [
    "# 함수 사용 = 함수 호출\n",
    "my_hello(2)"
   ]
  },
  {
   "cell_type": "code",
   "execution_count": 7,
   "id": "331084b9",
   "metadata": {},
   "outputs": [
    {
     "data": {
      "text/plain": [
       "<function __main__.my_hello(cnt)>"
      ]
     },
     "execution_count": 7,
     "metadata": {},
     "output_type": "execute_result"
    }
   ],
   "source": [
    "my_hello"
   ]
  },
  {
   "cell_type": "code",
   "execution_count": 8,
   "id": "23d76343",
   "metadata": {},
   "outputs": [
    {
     "data": {
      "text/plain": [
       "'__main__'"
      ]
     },
     "execution_count": 8,
     "metadata": {},
     "output_type": "execute_result"
    }
   ],
   "source": [
    "__name__"
   ]
  },
  {
   "cell_type": "code",
   "execution_count": 1,
   "id": "d86b754e",
   "metadata": {},
   "outputs": [
    {
     "ename": "NameError",
     "evalue": "name 'my_hello' is not defined",
     "output_type": "error",
     "traceback": [
      "\u001b[1;31m---------------------------------------------------------------------------\u001b[0m",
      "\u001b[1;31mNameError\u001b[0m                                 Traceback (most recent call last)",
      "Cell \u001b[1;32mIn[1], line 2\u001b[0m\n\u001b[0;32m      1\u001b[0m \u001b[38;5;28;01mif\u001b[39;00m \u001b[38;5;18m__name__\u001b[39m\u001b[38;5;241m==\u001b[39m\u001b[38;5;124m'\u001b[39m\u001b[38;5;124m__main__\u001b[39m\u001b[38;5;124m'\u001b[39m:\n\u001b[1;32m----> 2\u001b[0m     \u001b[43mmy_hello\u001b[49m(\u001b[38;5;241m2\u001b[39m)\n",
      "\u001b[1;31mNameError\u001b[0m: name 'my_hello' is not defined"
     ]
    }
   ],
   "source": [
    "if __name__=='__main__':\n",
    "    my_hello(2)"
   ]
  },
  {
   "cell_type": "code",
   "execution_count": 1,
   "id": "f809e4cb",
   "metadata": {},
   "outputs": [],
   "source": [
    "import ch05 # ch05모듈을 load"
   ]
  },
  {
   "cell_type": "code",
   "execution_count": 2,
   "id": "093d595f",
   "metadata": {},
   "outputs": [
    {
     "name": "stdout",
     "output_type": "stream",
     "text": [
      "Hello, Python\n",
      "Hello, World\n",
      "Hello, Python\n",
      "Hello, World\n"
     ]
    }
   ],
   "source": [
    "ch05.my_hello(2)"
   ]
  },
  {
   "cell_type": "code",
   "execution_count": 3,
   "id": "4e2790ca",
   "metadata": {},
   "outputs": [],
   "source": [
    "from ch05 import my_hello # ch05모듈안의 my_hello load"
   ]
  },
  {
   "cell_type": "code",
   "execution_count": 4,
   "id": "24bd55eb",
   "metadata": {},
   "outputs": [
    {
     "name": "stdout",
     "output_type": "stream",
     "text": [
      "Hello, Python\n",
      "Hello, World\n",
      "Hello, Python\n",
      "Hello, World\n"
     ]
    }
   ],
   "source": [
    "my_hello(2)"
   ]
  },
  {
   "cell_type": "markdown",
   "id": "ad63e635",
   "metadata": {},
   "source": [
    "## 1.2 docstring"
   ]
  },
  {
   "cell_type": "code",
   "execution_count": 7,
   "id": "c87e1a0e",
   "metadata": {},
   "outputs": [],
   "source": [
    "def my_function():\n",
    "    '''\n",
    "    함수의 첫라인에 독스트링을 포함할 수 있습니다\n",
    "    독스트링은 함수의 설명서를 달아주는 역할\n",
    "    주석보다 많은 기능(shift+tab으로 독스트링을 볼 수 있음)\n",
    "    '''\n",
    "    pass"
   ]
  },
  {
   "cell_type": "code",
   "execution_count": 8,
   "id": "582ef5b0",
   "metadata": {},
   "outputs": [
    {
     "name": "stdout",
     "output_type": "stream",
     "text": [
      "\n",
      "    함수의 첫라인에 독스트링을 포함할 수 있습니다\n",
      "    독스트링은 함수의 설명서를 달아주는 역할\n",
      "    주석보다 많은 기능(shift+tab으로 독스트링을 볼 수 있음)\n",
      "    \n"
     ]
    }
   ],
   "source": [
    "print(my_function.__doc__)"
   ]
  },
  {
   "cell_type": "code",
   "execution_count": 9,
   "id": "3b7b314f",
   "metadata": {},
   "outputs": [],
   "source": [
    "def fibonacci(n):\n",
    "    a, b = 0, 1\n",
    "    while a < n:\n",
    "        print(a, end=\" \")\n",
    "        a, b = b, a+b\n",
    "    print() # 개행"
   ]
  },
  {
   "cell_type": "code",
   "execution_count": 11,
   "id": "e2c10cbc",
   "metadata": {},
   "outputs": [
    {
     "name": "stdout",
     "output_type": "stream",
     "text": [
      "0 1 1 2 3 5 8 \n"
     ]
    }
   ],
   "source": [
    "fibonacci(10)"
   ]
  },
  {
   "cell_type": "code",
   "execution_count": 14,
   "id": "4bb8def0",
   "metadata": {},
   "outputs": [
    {
     "ename": "NameError",
     "evalue": "name 'a' is not defined",
     "output_type": "error",
     "traceback": [
      "\u001b[1;31m---------------------------------------------------------------------------\u001b[0m",
      "\u001b[1;31mNameError\u001b[0m                                 Traceback (most recent call last)",
      "Cell \u001b[1;32mIn[14], line 1\u001b[0m\n\u001b[1;32m----> 1\u001b[0m \u001b[43ma\u001b[49m, b\n",
      "\u001b[1;31mNameError\u001b[0m: name 'a' is not defined"
     ]
    }
   ],
   "source": [
    "a, b"
   ]
  },
  {
   "cell_type": "markdown",
   "id": "fb95b054",
   "metadata": {},
   "source": [
    "## 1.3 지역변수(local var)와 전역변수(global var)"
   ]
  },
  {
   "cell_type": "code",
   "execution_count": 19,
   "id": "606ad9d0",
   "metadata": {},
   "outputs": [
    {
     "name": "stdout",
     "output_type": "stream",
     "text": [
      "함수 안 : 100\n",
      "함수 밖 : 100\n"
     ]
    }
   ],
   "source": [
    "global_var = 100 # 전역변수\n",
    "def func1():\n",
    "    print('함수 안 :', global_var)\n",
    "func1()\n",
    "print('함수 밖 :', global_var)"
   ]
  },
  {
   "cell_type": "code",
   "execution_count": 21,
   "id": "fda60c7c",
   "metadata": {},
   "outputs": [
    {
     "name": "stdout",
     "output_type": "stream",
     "text": [
      "함수 안 : 200\n"
     ]
    },
    {
     "ename": "NameError",
     "evalue": "name 'local_var' is not defined",
     "output_type": "error",
     "traceback": [
      "\u001b[1;31m---------------------------------------------------------------------------\u001b[0m",
      "\u001b[1;31mNameError\u001b[0m                                 Traceback (most recent call last)",
      "Cell \u001b[1;32mIn[21], line 5\u001b[0m\n\u001b[0;32m      3\u001b[0m     \u001b[38;5;28mprint\u001b[39m(\u001b[38;5;124m'\u001b[39m\u001b[38;5;124m함수 안 :\u001b[39m\u001b[38;5;124m'\u001b[39m, local_var)\n\u001b[0;32m      4\u001b[0m func2()\n\u001b[1;32m----> 5\u001b[0m \u001b[38;5;28mprint\u001b[39m(\u001b[38;5;124m'\u001b[39m\u001b[38;5;124m함수 밖 :\u001b[39m\u001b[38;5;124m'\u001b[39m, \u001b[43mlocal_var\u001b[49m)\n",
      "\u001b[1;31mNameError\u001b[0m: name 'local_var' is not defined"
     ]
    }
   ],
   "source": [
    "def func2():\n",
    "    local_var = 200 # 지역변수(함수 안에서만 사용할 수 있는 변수)\n",
    "    print('함수 안 :', local_var)\n",
    "func2()\n",
    "print('함수 밖 :', local_var)"
   ]
  },
  {
   "cell_type": "code",
   "execution_count": 26,
   "id": "933cf826",
   "metadata": {},
   "outputs": [
    {
     "name": "stdout",
     "output_type": "stream",
     "text": [
      "함수 안(지역변수 g_var) : 200\n",
      "함수 밖(전역변수 g_var) : 100\n"
     ]
    }
   ],
   "source": [
    "g_var = 100 # 전역변수\n",
    "def func3():\n",
    "    g_var = 200 # 지역변수(변수 선언과 할당)\n",
    "    print('함수 안(지역변수 g_var) :', g_var)\n",
    "func3()\n",
    "print('함수 밖(전역변수 g_var) :', g_var)"
   ]
  },
  {
   "cell_type": "code",
   "execution_count": 29,
   "id": "84fdb3de",
   "metadata": {},
   "outputs": [
    {
     "ename": "UnboundLocalError",
     "evalue": "local variable 'g_var' referenced before assignment",
     "output_type": "error",
     "traceback": [
      "\u001b[1;31m---------------------------------------------------------------------------\u001b[0m",
      "\u001b[1;31mUnboundLocalError\u001b[0m                         Traceback (most recent call last)",
      "Cell \u001b[1;32mIn[29], line 5\u001b[0m\n\u001b[0;32m      3\u001b[0m     \u001b[38;5;28mprint\u001b[39m(\u001b[38;5;124m'\u001b[39m\u001b[38;5;124m함수 안 g_var :\u001b[39m\u001b[38;5;124m'\u001b[39m, g_var)\n\u001b[0;32m      4\u001b[0m     g_var \u001b[38;5;241m=\u001b[39m \u001b[38;5;241m200\u001b[39m \u001b[38;5;66;03m# 지역변수\u001b[39;00m\n\u001b[1;32m----> 5\u001b[0m \u001b[43mfunc4\u001b[49m\u001b[43m(\u001b[49m\u001b[43m)\u001b[49m\n",
      "Cell \u001b[1;32mIn[29], line 3\u001b[0m, in \u001b[0;36mfunc4\u001b[1;34m()\u001b[0m\n\u001b[0;32m      2\u001b[0m \u001b[38;5;28;01mdef\u001b[39;00m \u001b[38;5;21mfunc4\u001b[39m():\n\u001b[1;32m----> 3\u001b[0m     \u001b[38;5;28mprint\u001b[39m(\u001b[38;5;124m'\u001b[39m\u001b[38;5;124m함수 안 g_var :\u001b[39m\u001b[38;5;124m'\u001b[39m, \u001b[43mg_var\u001b[49m)\n\u001b[0;32m      4\u001b[0m     g_var \u001b[38;5;241m=\u001b[39m \u001b[38;5;241m200\u001b[39m\n",
      "\u001b[1;31mUnboundLocalError\u001b[0m: local variable 'g_var' referenced before assignment"
     ]
    }
   ],
   "source": [
    "# 렉시컬 특성\n",
    "g_var = 100 # 전역변수\n",
    "def func4():\n",
    "    print('함수 안 g_var :', g_var)\n",
    "    g_var = 200 # 지역변수\n",
    "func4()"
   ]
  },
  {
   "cell_type": "code",
   "execution_count": 30,
   "id": "f4cf76d3",
   "metadata": {},
   "outputs": [
    {
     "name": "stdout",
     "output_type": "stream",
     "text": [
      "함수 안 g_var : 100\n",
      "함수 밖 g_var : 200\n"
     ]
    }
   ],
   "source": [
    "# 렉시컬 특성\n",
    "g_var = 100 # 전역변수\n",
    "def func4():\n",
    "    global g_var # func4함수내의 g_var는 전역변수를 쓴다\n",
    "    print('함수 안 g_var :', g_var)\n",
    "    g_var = 200 # 전역변수\n",
    "func4()\n",
    "print('함수 밖 g_var :', g_var)"
   ]
  },
  {
   "cell_type": "markdown",
   "id": "75fc6dc4",
   "metadata": {},
   "source": [
    "## 1.4 값에 의한 호출\n",
    "- 함수의 매개변수(인수)로 전달되는 변수가 스칼라 변수(문자, 숫자, 논리형)일 때"
   ]
  },
  {
   "cell_type": "code",
   "execution_count": 31,
   "id": "6bd12c68",
   "metadata": {},
   "outputs": [
    {
     "data": {
      "text/plain": [
       "2134914197296"
      ]
     },
     "execution_count": 31,
     "metadata": {},
     "output_type": "execute_result"
    }
   ],
   "source": [
    "foo = 'a' # 전역변수\n",
    "id(foo)"
   ]
  },
  {
   "cell_type": "code",
   "execution_count": 41,
   "id": "75146713",
   "metadata": {},
   "outputs": [
    {
     "name": "stdout",
     "output_type": "stream",
     "text": [
      "Before : a  id(f) 2134914197296\n",
      "After : aaa  id(f) 2135029390000\n"
     ]
    }
   ],
   "source": [
    "def func1(f): # 매개변수 f는 지역변수\n",
    "    print('Before :', f, ' id(f)', id(f))\n",
    "    f = f * 3\n",
    "    print('After :', f, ' id(f)', id(f))\n",
    "func1(foo)"
   ]
  },
  {
   "cell_type": "code",
   "execution_count": 44,
   "id": "63d9a921",
   "metadata": {},
   "outputs": [
    {
     "name": "stdout",
     "output_type": "stream",
     "text": [
      "a 2134914197296\n"
     ]
    }
   ],
   "source": [
    "print(foo, id(foo))"
   ]
  },
  {
   "cell_type": "markdown",
   "id": "bab0e0db",
   "metadata": {},
   "source": [
    "## 1.5 참조에 의한 호출\n",
    "- 함수의 매개변수(인자)로 전달되는 변수가 리스트, 튜플, 셋, 딕셔너리 등의 객체일 경우"
   ]
  },
  {
   "cell_type": "code",
   "execution_count": 40,
   "id": "9b31c481",
   "metadata": {},
   "outputs": [
    {
     "data": {
      "text/plain": [
       "2135029091456"
      ]
     },
     "execution_count": 40,
     "metadata": {},
     "output_type": "execute_result"
    }
   ],
   "source": [
    "L = [1, 2, 3]\n",
    "id(L)"
   ]
  },
  {
   "cell_type": "code",
   "execution_count": 45,
   "id": "8a8442ed",
   "metadata": {},
   "outputs": [
    {
     "name": "stdout",
     "output_type": "stream",
     "text": [
      "Before : [1, 2, 3, 4] 2135029091456\n",
      "After : [1, 2, 3, 4, 4] 2135029091456\n"
     ]
    }
   ],
   "source": [
    "def func2(f): # 매개변수는 지역변수\n",
    "    print('Before :', f, id(f))\n",
    "    f.append(4)\n",
    "    print('After :', f, id(f))\n",
    "func2(L)"
   ]
  },
  {
   "cell_type": "code",
   "execution_count": 46,
   "id": "57c78436",
   "metadata": {},
   "outputs": [
    {
     "name": "stdout",
     "output_type": "stream",
     "text": [
      "L = [1, 2, 3, 4, 4] 2135029091456\n"
     ]
    }
   ],
   "source": [
    "print('L =', L, id(L))"
   ]
  },
  {
   "cell_type": "markdown",
   "id": "95dfe972",
   "metadata": {},
   "source": [
    "# 2절 함수의 실행결과를 반환하는 return"
   ]
  },
  {
   "cell_type": "code",
   "execution_count": 51,
   "id": "83956d89",
   "metadata": {},
   "outputs": [],
   "source": [
    "def fibonacci_print(n):\n",
    "    '''\n",
    "    매개변수로 들어온 n값 미만의 피보나치 수열을 출력\n",
    "    ex. n=10이면 0 1 1 2 3 5 8을 출력\n",
    "    '''\n",
    "    a, b = 0, 1\n",
    "    while a < n:\n",
    "        print(a, end=\" \")\n",
    "        a, b = b, a+b\n",
    "    print() # 개행\n",
    "    \n",
    "def fibonacci_return(n):\n",
    "    '''\n",
    "    매개변수로 들어온 n값 미만의 피보나치 수열을 리스트로 return\n",
    "    ex. n=10이면 [0 1 1 2 3 5 8]을 return\n",
    "    '''\n",
    "    result = []\n",
    "    a, b = 0, 1\n",
    "    while a < n:\n",
    "        result.append(a)\n",
    "        a, b = b, a+b\n",
    "    return result"
   ]
  },
  {
   "cell_type": "code",
   "execution_count": 50,
   "id": "39ec7f4e",
   "metadata": {},
   "outputs": [
    {
     "name": "stdout",
     "output_type": "stream",
     "text": [
      "0 1 1 2 3 5 8 \n",
      "None\n"
     ]
    }
   ],
   "source": [
    "x = fibonacci_print(10)\n",
    "print(x)"
   ]
  },
  {
   "cell_type": "code",
   "execution_count": 52,
   "id": "512c7b0c",
   "metadata": {},
   "outputs": [
    {
     "name": "stdout",
     "output_type": "stream",
     "text": [
      "[0, 1, 1, 2, 3, 5, 8, 13, 21, 34, 55, 89]\n",
      "<class 'list'>\n"
     ]
    }
   ],
   "source": [
    "x = fibonacci_return(100)\n",
    "print(x)\n",
    "print(type(x))"
   ]
  },
  {
   "cell_type": "markdown",
   "id": "396473a6",
   "metadata": {},
   "source": [
    "## 여러개 값 return"
   ]
  },
  {
   "cell_type": "code",
   "execution_count": 53,
   "id": "4b15685f",
   "metadata": {},
   "outputs": [],
   "source": [
    "def swap(a, b):\n",
    "    '매개변수의 순서를 바꿔서 return'\n",
    "    return b, a"
   ]
  },
  {
   "cell_type": "code",
   "execution_count": 55,
   "id": "ddfbd4ff",
   "metadata": {},
   "outputs": [
    {
     "name": "stdout",
     "output_type": "stream",
     "text": [
      "함수 실행 전 x=5, y=10\n",
      "함수 실행 후 x=10, y=5\n"
     ]
    }
   ],
   "source": [
    "x, y = 5, 10\n",
    "print(f'함수 실행 전 x={x}, y={y}')\n",
    "x, y = swap(x, y)\n",
    "print(f'함수 실행 후 x={x}, y={y}')"
   ]
  },
  {
   "cell_type": "markdown",
   "id": "e20abdcd",
   "metadata": {},
   "source": [
    "# 3절 함수의 매개변수 ★\n",
    "## 3.1 기본 값을 갖는 매개변수"
   ]
  },
  {
   "cell_type": "code",
   "execution_count": 56,
   "id": "a6485de5",
   "metadata": {},
   "outputs": [],
   "source": [
    "def make_url(ip, port=80): # 순서인수 > 기본 값을 갖는 매개변수\n",
    "    return 'http://{}:{}'.format(ip, port)"
   ]
  },
  {
   "cell_type": "code",
   "execution_count": 59,
   "id": "e28dc2d1",
   "metadata": {},
   "outputs": [
    {
     "name": "stdout",
     "output_type": "stream",
     "text": [
      "http://www.naver.com:80\n",
      "http://localhost:8090\n",
      "http://localhost:8090\n"
     ]
    }
   ],
   "source": [
    "print(make_url('www.naver.com'))\n",
    "print(make_url('localhost', 8090))\n",
    "print(make_url(port=8090, ip='localhost'))"
   ]
  },
  {
   "cell_type": "markdown",
   "id": "be74f383",
   "metadata": {},
   "source": [
    "## 3.2 기본 변수를 갖는 매개변수\n",
    "- 기본 변수가 스칼라 변수일 때\n",
    "- 기본 변수가 리스트, 셋, 딕셔너리 등의 객체일 때"
   ]
  },
  {
   "cell_type": "code",
   "execution_count": 60,
   "id": "3dd4befb",
   "metadata": {},
   "outputs": [],
   "source": [
    "i = 5\n",
    "# 기본 값을 갖는 변수가 스칼라 변수일 때 : arg의 기본 값은 함수가 정의되는 시점의 값\n",
    "def func2(arg=i):\n",
    "    print('arg =', arg)"
   ]
  },
  {
   "cell_type": "code",
   "execution_count": 61,
   "id": "e08d7006",
   "metadata": {},
   "outputs": [
    {
     "name": "stdout",
     "output_type": "stream",
     "text": [
      "arg = 5\n"
     ]
    }
   ],
   "source": [
    "i = 50\n",
    "func2()"
   ]
  },
  {
   "cell_type": "code",
   "execution_count": 63,
   "id": "970772a1",
   "metadata": {},
   "outputs": [],
   "source": [
    "list_ = []\n",
    "# 기본 값을 갖는 변수가 객체(데이터구조)일 때 : arg의 기본 값은 호출되는 시점의 값\n",
    "def func3(data, L=list_):\n",
    "    'data를 L에 append'\n",
    "    L.append(data)\n",
    "    return L"
   ]
  },
  {
   "cell_type": "code",
   "execution_count": 64,
   "id": "76a45acf",
   "metadata": {},
   "outputs": [
    {
     "name": "stdout",
     "output_type": "stream",
     "text": [
      "[10]\n"
     ]
    }
   ],
   "source": [
    "print(func3(10)) # list_가 수정 : [10]"
   ]
  },
  {
   "cell_type": "code",
   "execution_count": 66,
   "id": "309e0f32",
   "metadata": {},
   "outputs": [
    {
     "name": "stdout",
     "output_type": "stream",
     "text": [
      "[10, 20]\n"
     ]
    }
   ],
   "source": [
    "print(func3(20))"
   ]
  },
  {
   "cell_type": "code",
   "execution_count": 67,
   "id": "e9d071b3",
   "metadata": {},
   "outputs": [
    {
     "data": {
      "text/plain": [
       "[10, 20]"
      ]
     },
     "execution_count": 67,
     "metadata": {},
     "output_type": "execute_result"
    }
   ],
   "source": [
    "list_"
   ]
  },
  {
   "cell_type": "code",
   "execution_count": 68,
   "id": "4ee1ede0",
   "metadata": {},
   "outputs": [],
   "source": [
    "def func4(data, L=None):\n",
    "    if L==None:\n",
    "        L = []\n",
    "    L.append(data)\n",
    "    return L"
   ]
  },
  {
   "cell_type": "code",
   "execution_count": 69,
   "id": "e3320eec",
   "metadata": {},
   "outputs": [
    {
     "name": "stdout",
     "output_type": "stream",
     "text": [
      "[10]\n",
      "[10, 20, 10]\n"
     ]
    }
   ],
   "source": [
    "print(func4(10))\n",
    "print(func4(10, list_))"
   ]
  },
  {
   "cell_type": "markdown",
   "id": "82524a52",
   "metadata": {},
   "source": [
    "## 3.3 튜플 매개변수를 이용한 가변인수 설정"
   ]
  },
  {
   "cell_type": "code",
   "execution_count": 70,
   "id": "2c087eed",
   "metadata": {},
   "outputs": [],
   "source": [
    "# 파이썬은 오버로딩(함수의 중복)을 지원하지 않음\n",
    "def add(a, b):\n",
    "    return a+b\n",
    "def add(a, b, c):\n",
    "    return a+b+c"
   ]
  },
  {
   "cell_type": "code",
   "execution_count": 71,
   "id": "5b627b23",
   "metadata": {},
   "outputs": [
    {
     "ename": "TypeError",
     "evalue": "add() takes 3 positional arguments but 4 were given",
     "output_type": "error",
     "traceback": [
      "\u001b[1;31m---------------------------------------------------------------------------\u001b[0m",
      "\u001b[1;31mTypeError\u001b[0m                                 Traceback (most recent call last)",
      "Cell \u001b[1;32mIn[71], line 1\u001b[0m\n\u001b[1;32m----> 1\u001b[0m \u001b[43madd\u001b[49m\u001b[43m(\u001b[49m\u001b[38;5;241;43m1\u001b[39;49m\u001b[43m,\u001b[49m\u001b[38;5;241;43m2\u001b[39;49m\u001b[43m,\u001b[49m\u001b[38;5;241;43m3\u001b[39;49m\u001b[43m,\u001b[49m\u001b[38;5;241;43m4\u001b[39;49m\u001b[43m)\u001b[49m\n",
      "\u001b[1;31mTypeError\u001b[0m: add() takes 3 positional arguments but 4 were given"
     ]
    }
   ],
   "source": [
    "add(1,2,3,4)"
   ]
  },
  {
   "cell_type": "code",
   "execution_count": 77,
   "id": "7dd07383",
   "metadata": {},
   "outputs": [],
   "source": [
    "# *args : 매개변수들을 하나의 튜플 변수 args로 전달받음\n",
    "def add(*args):\n",
    "    '전달받은 매개변수들의 합을 return'\n",
    "    # print('args = ', args)\n",
    "    result_tot = 0 # 누적변수\n",
    "    for data in args:\n",
    "        result_tot += data\n",
    "    return result_tot"
   ]
  },
  {
   "cell_type": "code",
   "execution_count": 80,
   "id": "b0f4829d",
   "metadata": {},
   "outputs": [
    {
     "name": "stdout",
     "output_type": "stream",
     "text": [
      "1\n",
      "3\n",
      "6\n",
      "21\n"
     ]
    }
   ],
   "source": [
    "print(add(1))\n",
    "print(add(1, 2))\n",
    "print(add(1, 2, 3))\n",
    "print(add(1, 2, 3, 6, 9))"
   ]
  },
  {
   "cell_type": "code",
   "execution_count": 81,
   "id": "de4bbf1b",
   "metadata": {},
   "outputs": [
    {
     "data": {
      "text/plain": [
       "'Python/Oracle/DL/ML'"
      ]
     },
     "execution_count": 81,
     "metadata": {},
     "output_type": "execute_result"
    }
   ],
   "source": [
    "subject = ('Python', 'Oracle', 'DL', 'ML')\n",
    "'/'.join(subject)"
   ]
  },
  {
   "cell_type": "code",
   "execution_count": 82,
   "id": "fcf92745",
   "metadata": {},
   "outputs": [],
   "source": [
    "def concat(*subject, sep):\n",
    "    return sep.join(subject)"
   ]
  },
  {
   "cell_type": "code",
   "execution_count": 83,
   "id": "f6b587ef",
   "metadata": {},
   "outputs": [
    {
     "ename": "TypeError",
     "evalue": "concat() missing 1 required keyword-only argument: 'sep'",
     "output_type": "error",
     "traceback": [
      "\u001b[1;31m---------------------------------------------------------------------------\u001b[0m",
      "\u001b[1;31mTypeError\u001b[0m                                 Traceback (most recent call last)",
      "Cell \u001b[1;32mIn[83], line 1\u001b[0m\n\u001b[1;32m----> 1\u001b[0m \u001b[43mconcat\u001b[49m\u001b[43m(\u001b[49m\u001b[38;5;124;43m'\u001b[39;49m\u001b[38;5;124;43mPython\u001b[39;49m\u001b[38;5;124;43m'\u001b[39;49m\u001b[43m,\u001b[49m\u001b[43m \u001b[49m\u001b[38;5;124;43m'\u001b[39;49m\u001b[38;5;124;43mOracle\u001b[39;49m\u001b[38;5;124;43m'\u001b[39;49m\u001b[43m,\u001b[49m\u001b[43m \u001b[49m\u001b[38;5;124;43m'\u001b[39;49m\u001b[38;5;124;43mDL\u001b[39;49m\u001b[38;5;124;43m'\u001b[39;49m\u001b[43m,\u001b[49m\u001b[43m \u001b[49m\u001b[38;5;124;43m'\u001b[39;49m\u001b[38;5;124;43mML\u001b[39;49m\u001b[38;5;124;43m'\u001b[39;49m\u001b[43m,\u001b[49m\u001b[43m \u001b[49m\u001b[38;5;124;43m'\u001b[39;49m\u001b[38;5;124;43m/\u001b[39;49m\u001b[38;5;124;43m'\u001b[39;49m\u001b[43m)\u001b[49m\n",
      "\u001b[1;31mTypeError\u001b[0m: concat() missing 1 required keyword-only argument: 'sep'"
     ]
    }
   ],
   "source": [
    "concat('Python', 'Oracle', 'DL', 'ML', '/')"
   ]
  },
  {
   "cell_type": "code",
   "execution_count": 84,
   "id": "c22a7a2e",
   "metadata": {},
   "outputs": [
    {
     "data": {
      "text/plain": [
       "'Python / Oracle / DL / ML'"
      ]
     },
     "execution_count": 84,
     "metadata": {},
     "output_type": "execute_result"
    }
   ],
   "source": [
    "# 해결책1 : 매개변수 이름을 지정해서 호출\n",
    "concat('Python', 'Oracle', 'DL', 'ML', sep=' / ')"
   ]
  },
  {
   "cell_type": "code",
   "execution_count": 85,
   "id": "3c6bddaa",
   "metadata": {},
   "outputs": [],
   "source": [
    "# 해결책2 : 기본 값을 반드시 갖는 키워드인수 사용\n",
    "def concat(*subject, sep=' ~ '):\n",
    "    return sep.join(subject)"
   ]
  },
  {
   "cell_type": "code",
   "execution_count": 87,
   "id": "5aaa8807",
   "metadata": {},
   "outputs": [
    {
     "data": {
      "text/plain": [
       "'Python / Oracle / DL / ML'"
      ]
     },
     "execution_count": 87,
     "metadata": {},
     "output_type": "execute_result"
    }
   ],
   "source": [
    "concat('Python', 'Oracle', 'DL', 'ML', sep=' / ')"
   ]
  },
  {
   "cell_type": "code",
   "execution_count": 88,
   "id": "c4078e9b",
   "metadata": {},
   "outputs": [
    {
     "name": "stdout",
     "output_type": "stream",
     "text": [
      "Python / Oracle / DL / ML\n"
     ]
    }
   ],
   "source": [
    "print('Python', 'Oracle', 'DL', 'ML', sep=' / ')"
   ]
  },
  {
   "cell_type": "code",
   "execution_count": 89,
   "id": "924dfc65",
   "metadata": {},
   "outputs": [],
   "source": [
    "# 해결책3 : sep을 순서인수로 앞에 선언\n",
    "def concat(sep, *subject):\n",
    "    return sep.join(subject)"
   ]
  },
  {
   "cell_type": "code",
   "execution_count": 90,
   "id": "bfdd119e",
   "metadata": {},
   "outputs": [
    {
     "data": {
      "text/plain": [
       "'Python/Oracle/DL/ML'"
      ]
     },
     "execution_count": 90,
     "metadata": {},
     "output_type": "execute_result"
    }
   ],
   "source": [
    "concat('/', 'Python', 'Oracle', 'DL', 'ML')"
   ]
  },
  {
   "cell_type": "markdown",
   "id": "3dc44b6d",
   "metadata": {},
   "source": [
    "## 3.4 딕셔너리 매개변수\n",
    "- 여러 개의 키워드인수를 딕셔너리 형태로 받아서 가변키워드 인수 처리"
   ]
  },
  {
   "cell_type": "code",
   "execution_count": 96,
   "id": "722d3658",
   "metadata": {},
   "outputs": [],
   "source": [
    "def func5(**kwargs):\n",
    "    print(kwargs)\n",
    "    print(type(kwargs))\n",
    "    print('이름 :', kwargs.get('name', '대마왕'))\n",
    "    print('나이 :', kwargs.get('age', 30))\n",
    "    print('주소 :', kwargs.get('address', '서울'))"
   ]
  },
  {
   "cell_type": "code",
   "execution_count": 97,
   "id": "0f8d583e",
   "metadata": {},
   "outputs": [
    {
     "name": "stdout",
     "output_type": "stream",
     "text": [
      "{'name': '홍길동', 'age': 30, 'address': '신림동'}\n",
      "<class 'dict'>\n",
      "이름 : 홍길동\n",
      "나이 : 30\n",
      "주소 : 신림동\n"
     ]
    }
   ],
   "source": [
    "func5(name='홍길동', age=30, address='신림동')"
   ]
  },
  {
   "cell_type": "code",
   "execution_count": 98,
   "id": "4eab3f4a",
   "metadata": {},
   "outputs": [
    {
     "name": "stdout",
     "output_type": "stream",
     "text": [
      "{'name': '김길동'}\n",
      "<class 'dict'>\n",
      "이름 : 김길동\n",
      "나이 : 30\n",
      "주소 : 서울\n"
     ]
    }
   ],
   "source": [
    "func5(name='김길동')"
   ]
  },
  {
   "cell_type": "markdown",
   "id": "38d1fd40",
   "metadata": {},
   "source": [
    "## 3.5 함수정의시 매개변수 순서\n",
    "- 순서인수 > 튜플매개변수(*) > 키워드인수(매개변수이름 반드시 명시) > 딕셔너리매개변수(**)"
   ]
  },
  {
   "cell_type": "code",
   "execution_count": 99,
   "id": "6b16827f",
   "metadata": {},
   "outputs": [],
   "source": [
    "def func6(a, b, *c, **d):\n",
    "    print('순서인수 a :', a)\n",
    "    print('순서인수 b :', b)\n",
    "    print('튜플인수 c :', c)\n",
    "    print('딕셔너리 인수 d :', d)"
   ]
  },
  {
   "cell_type": "code",
   "execution_count": 100,
   "id": "930475f4",
   "metadata": {},
   "outputs": [
    {
     "name": "stdout",
     "output_type": "stream",
     "text": [
      "순서인수 a : 10\n",
      "순서인수 b : 20\n",
      "튜플인수 c : (1, 2, 3, 4, 5, 6, 7, 8, 9)\n",
      "딕셔너리 인수 d : {'name': '홍길동', 'age': 30, 'address': '서울'}\n"
     ]
    }
   ],
   "source": [
    "func6(10, 20, 1, 2, 3, 4, 5, 6, 7, 8, 9, name='홍길동', age=30, address='서울')"
   ]
  },
  {
   "cell_type": "code",
   "execution_count": 101,
   "id": "c384ecbe",
   "metadata": {},
   "outputs": [],
   "source": [
    "def func7(a, b, *c, d='기본값', **e):\n",
    "    print('순서인수 a :', a)\n",
    "    print('순서인수 b :', b)\n",
    "    print('튜플인수 c :', c)\n",
    "    print('키워드인수(기본값을 갖는 인수, 호출시 매개변수명 반드시 명시) d :', d)\n",
    "    print('딕셔너리인수 e :', e)"
   ]
  },
  {
   "cell_type": "code",
   "execution_count": 102,
   "id": "76d1909a",
   "metadata": {},
   "outputs": [
    {
     "name": "stdout",
     "output_type": "stream",
     "text": [
      "순서인수 a : 10\n",
      "순서인수 b : 20\n",
      "튜플인수 c : (1, 2, 3)\n",
      "키워드인수(기본값을 갖는 인수, 호출시 매개변수명 반드시 명시) d : 딴거\n",
      "딕셔너리인수 e : {'fontsize': 12, 'fontfamily': 'consola'}\n"
     ]
    }
   ],
   "source": [
    "func7(10, 20, 1, 2, 3, d='딴거', fontsize=12, fontfamily='consola')"
   ]
  },
  {
   "cell_type": "code",
   "execution_count": 103,
   "id": "57b28b61",
   "metadata": {},
   "outputs": [
    {
     "name": "stdout",
     "output_type": "stream",
     "text": [
      "순서인수 a : 10\n",
      "순서인수 b : 20\n",
      "튜플인수 c : (1, 2, 3, '딴거')\n",
      "키워드인수(기본값을 갖는 인수, 호출시 매개변수명 반드시 명시) d : 기본값\n",
      "딕셔너리인수 e : {'fontsize': 12, 'fontfamily': 'consola'}\n"
     ]
    }
   ],
   "source": [
    "func7(10, 20, 1, 2, 3, '딴거', fontsize=12, fontfamily='consola')"
   ]
  },
  {
   "cell_type": "markdown",
   "id": "6b1c885d",
   "metadata": {},
   "source": [
    "## 3.6 인수의 언패킹\n",
    "### 튜플인수 언패킹\n",
    "- 언패킹 : 함수 호출시 매개변수 앞에 * 붙임\n",
    "- 패킹 : 함수 정의시 매개변수 앞에 * 붙임(튜플매개변수)"
   ]
  },
  {
   "cell_type": "code",
   "execution_count": 107,
   "id": "0f6c746b",
   "metadata": {},
   "outputs": [],
   "source": [
    "def add(*args):\n",
    "    print(args)\n",
    "    tot = 0\n",
    "    for num in args:\n",
    "        tot += num\n",
    "    return tot"
   ]
  },
  {
   "cell_type": "code",
   "execution_count": 108,
   "id": "84c9ed95",
   "metadata": {},
   "outputs": [
    {
     "name": "stdout",
     "output_type": "stream",
     "text": [
      "(1, 2, 3, 4)\n"
     ]
    },
    {
     "data": {
      "text/plain": [
       "10"
      ]
     },
     "execution_count": 108,
     "metadata": {},
     "output_type": "execute_result"
    }
   ],
   "source": [
    "add(1, 2, 3, 4)"
   ]
  },
  {
   "cell_type": "code",
   "execution_count": 111,
   "id": "4692c38f",
   "metadata": {},
   "outputs": [
    {
     "name": "stdout",
     "output_type": "stream",
     "text": [
      "(1, 2, 3, 4)\n"
     ]
    },
    {
     "data": {
      "text/plain": [
       "10"
      ]
     },
     "execution_count": 111,
     "metadata": {},
     "output_type": "execute_result"
    }
   ],
   "source": [
    "numbers = [1, 2, 3, 4]\n",
    "add(*numbers) # 언패킹"
   ]
  },
  {
   "cell_type": "code",
   "execution_count": 112,
   "id": "59201b86",
   "metadata": {},
   "outputs": [
    {
     "name": "stdout",
     "output_type": "stream",
     "text": [
      "(1, 2, 3, 4)\n"
     ]
    },
    {
     "data": {
      "text/plain": [
       "10"
      ]
     },
     "execution_count": 112,
     "metadata": {},
     "output_type": "execute_result"
    }
   ],
   "source": [
    "numbers = (1, 2, 3, 4)\n",
    "add(*numbers) # 언패킹"
   ]
  },
  {
   "cell_type": "markdown",
   "id": "8489ed7e",
   "metadata": {},
   "source": [
    "### 딕셔너리인수 언패킹\n",
    "- 딕셔너리 언패킹 : 함수 호출시 매개변수 앞에 ** 붙임\n",
    "- 딕셔너리 패킹 : 함수 정의시 매개변수 앞에 ** 붙임"
   ]
  },
  {
   "cell_type": "code",
   "execution_count": 115,
   "id": "b80d1b48",
   "metadata": {},
   "outputs": [],
   "source": [
    "def func5(**data):\n",
    "    print(type(data))\n",
    "    for key, item in data.items():\n",
    "        print(f'{key}:{item}')"
   ]
  },
  {
   "cell_type": "code",
   "execution_count": 116,
   "id": "2e8e5bf2",
   "metadata": {},
   "outputs": [
    {
     "name": "stdout",
     "output_type": "stream",
     "text": [
      "<class 'dict'>\n",
      "name:홍길동\n",
      "age:30\n",
      "address:신림\n"
     ]
    }
   ],
   "source": [
    "func5(name='홍길동', age=30, address='신림')"
   ]
  },
  {
   "cell_type": "code",
   "execution_count": 118,
   "id": "0fbb613f",
   "metadata": {},
   "outputs": [
    {
     "name": "stdout",
     "output_type": "stream",
     "text": [
      "<class 'dict'>\n",
      "name:홍길동\n",
      "age:30\n",
      "address:서울시 강남구\n",
      "score:900\n"
     ]
    }
   ],
   "source": [
    "customInfo = {'name':'홍길동', 'age':30, 'address':'서울시 강남구', 'score':900}\n",
    "func5(**customInfo)"
   ]
  },
  {
   "cell_type": "markdown",
   "id": "28795833",
   "metadata": {},
   "source": [
    "# 4절 람다식\n",
    "- return 한줄짜리 작은 익명함수\n",
    "## 4.1 람다식 연습"
   ]
  },
  {
   "cell_type": "code",
   "execution_count": 119,
   "id": "5c447d58",
   "metadata": {},
   "outputs": [
    {
     "data": {
      "text/plain": [
       "7"
      ]
     },
     "execution_count": 119,
     "metadata": {},
     "output_type": "execute_result"
    }
   ],
   "source": [
    "def add(a, b):\n",
    "    return a+b\n",
    "add(3, 4)"
   ]
  },
  {
   "cell_type": "code",
   "execution_count": 120,
   "id": "b91b6306",
   "metadata": {},
   "outputs": [
    {
     "data": {
      "text/plain": [
       "7"
      ]
     },
     "execution_count": 120,
     "metadata": {},
     "output_type": "execute_result"
    }
   ],
   "source": [
    "add2 = lambda a, b : a+b\n",
    "add2(3, 4)"
   ]
  },
  {
   "cell_type": "code",
   "execution_count": 121,
   "id": "7a7b1066",
   "metadata": {},
   "outputs": [
    {
     "data": {
      "text/plain": [
       "(function, function)"
      ]
     },
     "execution_count": 121,
     "metadata": {},
     "output_type": "execute_result"
    }
   ],
   "source": [
    "type(add), type(add2)"
   ]
  },
  {
   "cell_type": "code",
   "execution_count": 122,
   "id": "4f05287f",
   "metadata": {},
   "outputs": [
    {
     "data": {
      "text/plain": [
       "7"
      ]
     },
     "execution_count": 122,
     "metadata": {},
     "output_type": "execute_result"
    }
   ],
   "source": [
    "(lambda a, b : a+b)(3, 4)"
   ]
  },
  {
   "cell_type": "code",
   "execution_count": 123,
   "id": "a1dda1c2",
   "metadata": {},
   "outputs": [
    {
     "data": {
      "text/plain": [
       "('짝수', '홀수')"
      ]
     },
     "execution_count": 123,
     "metadata": {},
     "output_type": "execute_result"
    }
   ],
   "source": [
    "# ex1. 매개변수로 들어온 값이 짝수인지 홀수인지 return\n",
    "def ex1(num):\n",
    "    #if num%2:\n",
    "        #result = '홀수'\n",
    "    #else:\n",
    "        #result = '짝수'\n",
    "    return '홀수' if num%2 else '짝수'\n",
    "ex1 = lambda num : '홀수' if num%2 else '짝수'\n",
    "ex1(10), ex1(-9)"
   ]
  },
  {
   "cell_type": "code",
   "execution_count": 132,
   "id": "9e75d763",
   "metadata": {},
   "outputs": [
    {
     "data": {
      "text/plain": [
       "(1, 10)"
      ]
     },
     "execution_count": 132,
     "metadata": {},
     "output_type": "execute_result"
    }
   ],
   "source": [
    "# ex2. 두 매개변수의 차이를 return\n",
    "def diff(a, b):\n",
    "    #if a>b:\n",
    "        #result = a - b\n",
    "    #else:\n",
    "        #result = b - a\n",
    "    result = a-b if a>b else b-a\n",
    "    return result\n",
    "diff(2, 1), diff(10, 20)"
   ]
  },
  {
   "cell_type": "code",
   "execution_count": 133,
   "id": "6e43cf11",
   "metadata": {},
   "outputs": [
    {
     "data": {
      "text/plain": [
       "(1, 10)"
      ]
     },
     "execution_count": 133,
     "metadata": {},
     "output_type": "execute_result"
    }
   ],
   "source": [
    "ex2 = lambda a, b : a-b if a>b else b-a\n",
    "ex2(2, 1), ex2(10, 20)"
   ]
  },
  {
   "cell_type": "code",
   "execution_count": 135,
   "id": "081a749d",
   "metadata": {},
   "outputs": [
    {
     "data": {
      "text/plain": [
       "(1000, 'negative')"
      ]
     },
     "execution_count": 135,
     "metadata": {},
     "output_type": "execute_result"
    }
   ],
   "source": [
    "# ex3. 매개변수로 잔액을 받아 양수면 잔액을 return, 음수면 'negative'를 return\n",
    "ex3 = lambda money : money if money>0 else 'negative'\n",
    "ex3(1000), ex3(-900)"
   ]
  },
  {
   "cell_type": "code",
   "execution_count": 140,
   "id": "4e244f6d",
   "metadata": {},
   "outputs": [
    {
     "data": {
      "text/plain": [
       "('유효하지 않음', 'A팀', 'B팀', '재시험')"
      ]
     },
     "execution_count": 140,
     "metadata": {},
     "output_type": "execute_result"
    }
   ],
   "source": [
    "# ex4. 점수를 입력받아 점수가 100점이하 80점이상은 A팀, 60점이상은 B팀, 60점미만은 재시험.\n",
    "#      그 외는 유효하지 않음\n",
    "ex4 = lambda score : 'A팀' if 80<=score<=100 else \\\n",
    "                     'B팀' if 60<=score<80 else \\\n",
    "                     '재시험' if 0<=score<60 else \\\n",
    "                     '유효하지 않음'\n",
    "ex4(120), ex4(90), ex4(70), ex4(50)"
   ]
  },
  {
   "cell_type": "code",
   "execution_count": null,
   "id": "25aeb13f",
   "metadata": {},
   "outputs": [],
   "source": [
    "# ex5. safe_index를 람다식으로 만들기\n",
    "def safe_index(vector, data):\n",
    "    if data in vector:\n",
    "        return vector.index(data)\n",
    "    else:\n",
    "        return -1\n"
   ]
  },
  {
   "cell_type": "code",
   "execution_count": 141,
   "id": "aac61b8c",
   "metadata": {},
   "outputs": [
    {
     "data": {
      "text/plain": [
       "(-1, 1)"
      ]
     },
     "execution_count": 141,
     "metadata": {},
     "output_type": "execute_result"
    }
   ],
   "source": [
    "ex5 = lambda vector, data : vector.index(data) if data in vector else -1\n",
    "tup = (1, 2, 3)\n",
    "ex5(tup, 4), ex5(tup, 2)"
   ]
  },
  {
   "cell_type": "markdown",
   "id": "6eff9977",
   "metadata": {},
   "source": [
    "## 4.2 함수의 매개변수에 람다식 이용\n",
    "### (1) map"
   ]
  },
  {
   "cell_type": "code",
   "execution_count": 2,
   "id": "774ed7f5",
   "metadata": {},
   "outputs": [],
   "source": [
    "def map_template(func, L=[]):\n",
    "    '''\n",
    "    L의 모든 요소를 func()함수를 적용시켜 return\n",
    "    '''\n",
    "    result = []\n",
    "    for l in L:\n",
    "        result.append(func(l))\n",
    "    return result\n",
    "#    return [func(l) for l in L]\n"
   ]
  },
  {
   "cell_type": "code",
   "execution_count": 4,
   "id": "26628da1",
   "metadata": {},
   "outputs": [
    {
     "data": {
      "text/plain": [
       "[2, 4, 6, 8, 10, 12, 14, 16, 18, 20]"
      ]
     },
     "execution_count": 4,
     "metadata": {},
     "output_type": "execute_result"
    }
   ],
   "source": [
    "# 리스트 데이터를 가공 방법 1. map_template\n",
    "list_data = [1, 2, 3, 4, 5, 6, 7, 8, 9, 10]\n",
    "map_template(lambda x : x*2, list_data)\n",
    "#def x_2(x):\n",
    "#    return x*2\n",
    "#map_template(x_2, list_data)"
   ]
  },
  {
   "cell_type": "code",
   "execution_count": 5,
   "id": "ce1c4622",
   "metadata": {},
   "outputs": [
    {
     "data": {
      "text/plain": [
       "[2, 4, 6, 8, 10, 12, 14, 16, 18, 20]"
      ]
     },
     "execution_count": 5,
     "metadata": {},
     "output_type": "execute_result"
    }
   ],
   "source": [
    "# 리스트 데이터를 가공 방법 2. 리스트 컴프리헨션\n",
    "[l*2 for l in list_data]"
   ]
  },
  {
   "cell_type": "code",
   "execution_count": 6,
   "id": "5a36dbe5",
   "metadata": {},
   "outputs": [
    {
     "data": {
      "text/plain": [
       "[2, 4, 6, 8, 10, 12, 14, 16, 18, 20]"
      ]
     },
     "execution_count": 6,
     "metadata": {},
     "output_type": "execute_result"
    }
   ],
   "source": [
    "# 리스트 데이터를 가공 방법 3. map():파이썬 내장함수\n",
    "list(map(lambda x : x*2, list_data))"
   ]
  },
  {
   "cell_type": "code",
   "execution_count": 7,
   "id": "bf845930",
   "metadata": {},
   "outputs": [
    {
     "name": "stdout",
     "output_type": "stream",
     "text": [
      "2 4 6 8 10 12 14 16 18 20 "
     ]
    }
   ],
   "source": [
    "for item in map(lambda x : x*2, list_data):\n",
    "    print(item, end=\" \")"
   ]
  },
  {
   "cell_type": "code",
   "execution_count": 12,
   "id": "ce4e1c9a",
   "metadata": {},
   "outputs": [
    {
     "data": {
      "text/plain": [
       "[5000, 800, 1000, 6000]"
      ]
     },
     "execution_count": 12,
     "metadata": {},
     "output_type": "execute_result"
    }
   ],
   "source": [
    "'''\n",
    "예제1. prices = [5000, 800, 1000, 6000]로 바꾸시오\n",
    "'''\n",
    "prices = ['5,000', '800', '1000', '6,000']\n",
    "list(map(lambda x : int(x.replace(',', '')), prices))"
   ]
  },
  {
   "cell_type": "code",
   "execution_count": 19,
   "id": "c90bcf34",
   "metadata": {},
   "outputs": [],
   "source": [
    "'''\n",
    "예제2. member1 = [{'name':'홍길동', 'birth':'2000-01-01'},\n",
    "                  {'name':'신길동', 'birth':'1998-12-31'}]를\n",
    "        member2 = [{'name':'홍길동', 'year':2000, 'month':1, 'day':1},\n",
    "                  {'name':'신길동', 'year':1998, 'month':12, 'day':31}]를 바꿉니다\n",
    "'''\n",
    "member1 = [{'name':'홍길동', 'birth':'2000-01-01'},\n",
    "           {'name':'신길동', 'birth':'1998-12-31'}]"
   ]
  },
  {
   "cell_type": "code",
   "execution_count": 32,
   "id": "c77b6a71",
   "metadata": {},
   "outputs": [],
   "source": [
    "# '2000-01-01' => {'year':2000, 'month':1, 'day':1}\n",
    "def split_date(date):\n",
    "    split_data = date.split('-')\n",
    "    # print(split_data[0], split_data[1], split_data[2])\n",
    "    return {'year' :int(split_data[0]),\n",
    "            'month':int(split_data[1]),\n",
    "            'day'  :int(split_data[2])}"
   ]
  },
  {
   "cell_type": "code",
   "execution_count": 33,
   "id": "7b346919",
   "metadata": {},
   "outputs": [
    {
     "data": {
      "text/plain": [
       "{'year': 2000, 'month': 1, 'day': 1}"
      ]
     },
     "execution_count": 33,
     "metadata": {},
     "output_type": "execute_result"
    }
   ],
   "source": [
    "split_date('2000-01-01')"
   ]
  },
  {
   "cell_type": "code",
   "execution_count": 22,
   "id": "97a8c792",
   "metadata": {},
   "outputs": [
    {
     "data": {
      "text/plain": [
       "{'name': '홍길동', 'year': 2000, 'month': 1, 'day': 1}"
      ]
     },
     "execution_count": 22,
     "metadata": {},
     "output_type": "execute_result"
    }
   ],
   "source": [
    "def member_func(member): # {'name':'홍길동', 'birth':'2000-01-01'}\n",
    "    \"{'name':'홍길동', 'year':2000, 'month':1, 'day':1}식으로 return\"\n",
    "    return {\n",
    "        'name':member.get('name'),\n",
    "        'year':int(member['birth'].split('-')[0]),\n",
    "        'month':int(member['birth'].split('-')[1]),\n",
    "        'day':int(member['birth'].split('-')[2]),\n",
    "    }\n",
    "member_func(member1[0])"
   ]
  },
  {
   "cell_type": "code",
   "execution_count": 24,
   "id": "7161bcfd",
   "metadata": {},
   "outputs": [
    {
     "data": {
      "text/plain": [
       "[{'name': '홍길동', 'year': 2000, 'month': 1, 'day': 1},\n",
       " {'name': '신길동', 'year': 1998, 'month': 12, 'day': 31}]"
      ]
     },
     "execution_count": 24,
     "metadata": {},
     "output_type": "execute_result"
    }
   ],
   "source": [
    "member2 = list(map(lambda member : {\n",
    "                        'name':member.get('name'),\n",
    "                        'year':int(member['birth'].split('-')[0]),\n",
    "                        'month':int(member['birth'].split('-')[1]),\n",
    "                        'day':int(member['birth'].split('-')[2]),\n",
    "                        },\n",
    "         member1\n",
    "        )\n",
    "    )\n",
    "member2"
   ]
  },
  {
   "cell_type": "code",
   "execution_count": null,
   "id": "23e3a196",
   "metadata": {},
   "outputs": [],
   "source": [
    "'예제3. member2를 member1로 바꿉니다'\n"
   ]
  },
  {
   "cell_type": "code",
   "execution_count": 27,
   "id": "6e0f9125",
   "metadata": {},
   "outputs": [],
   "source": [
    "# {'year': 2000, 'month': 1, 'day': 1} => '2000-01-01'를 return하는 함수\n",
    "def join_date(data):\n",
    "    # print([data.get('year'), data.get('month'), data.get('day')])\n",
    "    year = str(data.get('year'))\n",
    "    month = data.get('month')\n",
    "    if month < 10:\n",
    "        month = '0'+ str(month)\n",
    "    else:\n",
    "        month = str(month)\n",
    "    day = data.get('day')\n",
    "    if day < 10:\n",
    "        day = '0'+ str(day)\n",
    "    else:\n",
    "        day = str(day)\n",
    "    return '-'.join([year, month, day])"
   ]
  },
  {
   "cell_type": "code",
   "execution_count": 28,
   "id": "aea2804c",
   "metadata": {},
   "outputs": [],
   "source": [
    "def join_date(data):\n",
    "    print('{}-{:02}-{:02}'.format(data.get('year'), data.get('month'), data.get('day')))"
   ]
  },
  {
   "cell_type": "code",
   "execution_count": null,
   "id": "1c2b693c",
   "metadata": {},
   "outputs": [],
   "source": [
    "def join_date(data):\n",
    "    print('{year}-{month:02}-{day:02}'.format(year=data.get('year'),\n",
    "                                      month=data.get('month'),\n",
    "                                      day=data.get('day')))"
   ]
  },
  {
   "cell_type": "code",
   "execution_count": 34,
   "id": "a1b1a5d4",
   "metadata": {},
   "outputs": [],
   "source": [
    "def join_date(data):\n",
    "    return '{year}-{month:02}-{day:02}'.format(**data)"
   ]
  },
  {
   "cell_type": "code",
   "execution_count": 35,
   "id": "420a693d",
   "metadata": {},
   "outputs": [
    {
     "data": {
      "text/plain": [
       "'2000-01-01'"
      ]
     },
     "execution_count": 35,
     "metadata": {},
     "output_type": "execute_result"
    }
   ],
   "source": [
    "join_date({'year':2000, 'month':1, 'day':1})"
   ]
  },
  {
   "cell_type": "code",
   "execution_count": 37,
   "id": "2aa286c9",
   "metadata": {},
   "outputs": [
    {
     "data": {
      "text/plain": [
       "[{'name': '홍길동', 'birth': '2000-01-01'},\n",
       " {'name': '신길동', 'birth': '1998-12-31'}]"
      ]
     },
     "execution_count": 37,
     "metadata": {},
     "output_type": "execute_result"
    }
   ],
   "source": [
    "# {'name':'홍길동', 'year':2000, 'month':1, 'day':1}(member2)를\n",
    "# {'name':'홍길동', 'birth':'2000-01-01'}으로 가공\n",
    "list(map(lambda member : {\n",
    "                        'name' : member.get('name'),\n",
    "                        'birth' : '{year}-{month:02}-{day:02}'.format(**member)\n",
    "                        },\n",
    "         member2\n",
    "))"
   ]
  },
  {
   "cell_type": "markdown",
   "id": "93b06b5f",
   "metadata": {},
   "source": [
    "### (2) filter\n",
    "- map : [1, 2, 3, 4, 5] => [2, 4, 6, 8, 10] (벡터의 모든 데이터를 가공)\n",
    "- filter : [1, 2, 3, 4, 5] => [2, 4] (원하는 정보를 추출)\n",
    "* cf. 리스트 컴프리헨션"
   ]
  },
  {
   "cell_type": "code",
   "execution_count": 38,
   "id": "ca9e90cb",
   "metadata": {},
   "outputs": [],
   "source": [
    "def filter_template(func, L=[]):\n",
    "    result = []\n",
    "    for l in L:\n",
    "        if func(l):\n",
    "            result.append(l)\n",
    "    return result"
   ]
  },
  {
   "cell_type": "code",
   "execution_count": 39,
   "id": "2cfe9990",
   "metadata": {},
   "outputs": [
    {
     "data": {
      "text/plain": [
       "(True, False)"
      ]
     },
     "execution_count": 39,
     "metadata": {},
     "output_type": "execute_result"
    }
   ],
   "source": [
    "def evenChk(value):\n",
    "    return value%2==0\n",
    "evenChk(10), evenChk(-9)"
   ]
  },
  {
   "cell_type": "code",
   "execution_count": 40,
   "id": "1f6bc9b1",
   "metadata": {},
   "outputs": [
    {
     "data": {
      "text/plain": [
       "[2, 4]"
      ]
     },
     "execution_count": 40,
     "metadata": {},
     "output_type": "execute_result"
    }
   ],
   "source": [
    "list_data = [1, 2, 3, 4, 5]\n",
    "filter_template(lambda value : value%2==0, list_data)"
   ]
  },
  {
   "cell_type": "code",
   "execution_count": 41,
   "id": "7673122a",
   "metadata": {},
   "outputs": [
    {
     "data": {
      "text/plain": [
       "[2, 4]"
      ]
     },
     "execution_count": 41,
     "metadata": {},
     "output_type": "execute_result"
    }
   ],
   "source": [
    "list(filter(lambda value : value%2==0, list_data))"
   ]
  },
  {
   "cell_type": "code",
   "execution_count": 42,
   "id": "d35d6a89",
   "metadata": {},
   "outputs": [
    {
     "data": {
      "text/plain": [
       "[2, 4]"
      ]
     },
     "execution_count": 42,
     "metadata": {},
     "output_type": "execute_result"
    }
   ],
   "source": [
    "[data for data in list_data if data%2==0]"
   ]
  },
  {
   "cell_type": "markdown",
   "id": "61901bfd",
   "metadata": {},
   "source": [
    "### (3) sort"
   ]
  },
  {
   "cell_type": "code",
   "execution_count": 44,
   "id": "b8a7fcf8",
   "metadata": {},
   "outputs": [
    {
     "data": {
      "text/plain": [
       "[(1, 'one'), (2, 'two'), (3, 'three'), (4, 'four')]"
      ]
     },
     "execution_count": 44,
     "metadata": {},
     "output_type": "execute_result"
    }
   ],
   "source": [
    "# 무조건 0번째 item 기준으로 정렬\n",
    "pairs = [(2, 'two'), (1, 'one'), (4, 'four'), (3, 'three')]\n",
    "pairs.sort()\n",
    "pairs"
   ]
  },
  {
   "cell_type": "code",
   "execution_count": 45,
   "id": "0aef89b8",
   "metadata": {},
   "outputs": [
    {
     "data": {
      "text/plain": [
       "[(4, 'four'), (1, 'one'), (3, 'three'), (2, 'two')]"
      ]
     },
     "execution_count": 45,
     "metadata": {},
     "output_type": "execute_result"
    }
   ],
   "source": [
    "# 1번째 item 기준으로 정렬(abc순)\n",
    "pairs.sort(key=lambda pair : pair[1])\n",
    "pairs"
   ]
  },
  {
   "cell_type": "code",
   "execution_count": 43,
   "id": "ecea5827",
   "metadata": {},
   "outputs": [
    {
     "data": {
      "text/plain": [
       "[[10, 1], [9, 9, 9, 9, 9], [1, 100]]"
      ]
     },
     "execution_count": 43,
     "metadata": {},
     "output_type": "execute_result"
    }
   ],
   "source": [
    "# 무조건 0번째 item 기준으로 정렬\n",
    "number2d = [[9,9,9,9,9],[1, 100],[10, 1]]\n",
    "number2d.sort(reverse=True)\n",
    "number2d"
   ]
  },
  {
   "cell_type": "code",
   "execution_count": 50,
   "id": "19146298",
   "metadata": {},
   "outputs": [
    {
     "data": {
      "text/plain": [
       "6"
      ]
     },
     "execution_count": 50,
     "metadata": {},
     "output_type": "execute_result"
    }
   ],
   "source": [
    "# 리스트를 매개변수로 받아 합을 return\n",
    "(lambda item : sum(item))([1,2,3])"
   ]
  },
  {
   "cell_type": "code",
   "execution_count": 49,
   "id": "593cc07a",
   "metadata": {},
   "outputs": [
    {
     "data": {
      "text/plain": [
       "[[1, 100], [9, 9, 9, 9, 9], [10, 1]]"
      ]
     },
     "execution_count": 49,
     "metadata": {},
     "output_type": "execute_result"
    }
   ],
   "source": [
    "# 합이 큰 순으로 정렬\n",
    "number2d.sort(key = lambda item : sum(item), reverse=True)\n",
    "number2d"
   ]
  },
  {
   "cell_type": "code",
   "execution_count": 58,
   "id": "aaecf369",
   "metadata": {},
   "outputs": [],
   "source": [
    "students = [\n",
    "    {'name':'홍길동', 'score':90},\n",
    "    {'name':'김길동', 'score':50},\n",
    "    {'name':'윤길동', 'score':99},\n",
    "    {'score':100}\n",
    "]"
   ]
  },
  {
   "cell_type": "code",
   "execution_count": 59,
   "id": "002202a4",
   "metadata": {},
   "outputs": [
    {
     "data": {
      "text/plain": [
       "[{'name': '김길동', 'score': 50},\n",
       " {'name': '윤길동', 'score': 99},\n",
       " {'name': '홍길동', 'score': 90},\n",
       " {'score': 100}]"
      ]
     },
     "execution_count": 59,
     "metadata": {},
     "output_type": "execute_result"
    }
   ],
   "source": [
    "# 이름순으로 정렬(ㄱㄴㄷ순)\n",
    "students.sort(key = lambda data : data.get('name','힣'))\n",
    "students"
   ]
  },
  {
   "cell_type": "code",
   "execution_count": 61,
   "id": "1eb24c52",
   "metadata": {},
   "outputs": [
    {
     "data": {
      "text/plain": [
       "[{'score': 100},\n",
       " {'name': '윤길동', 'score': 99},\n",
       " {'name': '홍길동', 'score': 90},\n",
       " {'name': '김길동', 'score': 50}]"
      ]
     },
     "execution_count": 61,
     "metadata": {},
     "output_type": "execute_result"
    }
   ],
   "source": [
    "# score순으로 정렬(내림차순정렬)\n",
    "students.sort(key = lambda data : data.get('score', 0), reverse=True)\n",
    "students"
   ]
  },
  {
   "cell_type": "code",
   "execution_count": 92,
   "id": "49e9e40e",
   "metadata": {},
   "outputs": [],
   "source": [
    "# 책제목순 정렬(ㄱㄴㄷ순), 저자순 정렬(ㄱㄴㄷ순), 가격순 오름차순 정렬\n",
    "books = [\n",
    "    {'no':1, 'title':'강남 아파트 인사이트', 'writer':'오스틀', 'price':'25,200'},\n",
    "    {'no':2, 'title':'단 한번의 삶', 'writer':'김영하', 'price':'18,100'},\n",
    "    {'no':3, 'title':'흔한남매 19', 'writer':'백난도', 'price':'14,220'},\n",
    "    {'no':4, 'title':'가격이잘못', 'writer':'홍길동', 'price':'-'},\n",
    "    {'no':5, 'title':'가격이숫자', 'writer':'신길동', 'price':900},\n",
    "    {'no':6, 'title':'가격이없음', 'writer':'김길동'},\n",
    "]"
   ]
  },
  {
   "cell_type": "code",
   "execution_count": 82,
   "id": "49e91597",
   "metadata": {},
   "outputs": [
    {
     "data": {
      "text/plain": [
       "[{'no': 5, 'title': '가격이숫자', 'writer': '신길동', 'price': 900},\n",
       " {'no': 6, 'title': '가격이없음', 'writer': '김길동'},\n",
       " {'no': 4, 'title': '가격이잘못', 'writer': '홍길동', 'price': '-'},\n",
       " {'no': 1, 'title': '강남 아파트 인사이트', 'writer': '오스틀', 'price': '25,200'},\n",
       " {'no': 2, 'title': '단 한번의 삶', 'writer': '김영하', 'price': '18,100'},\n",
       " {'no': 3, 'title': '흔한남매 19', 'writer': '백난도', 'price': '14,220'}]"
      ]
     },
     "execution_count": 82,
     "metadata": {},
     "output_type": "execute_result"
    }
   ],
   "source": [
    "books.sort(key = lambda book : book.get('title'))\n",
    "books"
   ]
  },
  {
   "cell_type": "code",
   "execution_count": 83,
   "id": "50e9c9a4",
   "metadata": {},
   "outputs": [
    {
     "data": {
      "text/plain": [
       "[{'no': 6, 'title': '가격이없음', 'writer': '김길동'},\n",
       " {'no': 2, 'title': '단 한번의 삶', 'writer': '김영하', 'price': '18,100'},\n",
       " {'no': 3, 'title': '흔한남매 19', 'writer': '백난도', 'price': '14,220'},\n",
       " {'no': 5, 'title': '가격이숫자', 'writer': '신길동', 'price': 900},\n",
       " {'no': 1, 'title': '강남 아파트 인사이트', 'writer': '오스틀', 'price': '25,200'},\n",
       " {'no': 4, 'title': '가격이잘못', 'writer': '홍길동', 'price': '-'}]"
      ]
     },
     "execution_count": 83,
     "metadata": {},
     "output_type": "execute_result"
    }
   ],
   "source": [
    "books.sort(key = lambda book : book.get('writer'))\n",
    "books"
   ]
  },
  {
   "cell_type": "code",
   "execution_count": 84,
   "id": "8b58bd21",
   "metadata": {},
   "outputs": [
    {
     "ename": "TypeError",
     "evalue": "'<' not supported between instances of 'str' and 'int'",
     "output_type": "error",
     "traceback": [
      "\u001b[1;31m---------------------------------------------------------------------------\u001b[0m",
      "\u001b[1;31mTypeError\u001b[0m                                 Traceback (most recent call last)",
      "Cell \u001b[1;32mIn[84], line 1\u001b[0m\n\u001b[1;32m----> 1\u001b[0m \u001b[43mbooks\u001b[49m\u001b[38;5;241;43m.\u001b[39;49m\u001b[43msort\u001b[49m\u001b[43m(\u001b[49m\u001b[43mkey\u001b[49m\u001b[43m \u001b[49m\u001b[38;5;241;43m=\u001b[39;49m\u001b[43m \u001b[49m\u001b[38;5;28;43;01mlambda\u001b[39;49;00m\u001b[43m \u001b[49m\u001b[43mbook\u001b[49m\u001b[43m \u001b[49m\u001b[43m:\u001b[49m\u001b[43m \u001b[49m\u001b[43mbook\u001b[49m\u001b[38;5;241;43m.\u001b[39;49m\u001b[43mget\u001b[49m\u001b[43m(\u001b[49m\u001b[38;5;124;43m'\u001b[39;49m\u001b[38;5;124;43mprice\u001b[39;49m\u001b[38;5;124;43m'\u001b[39;49m\u001b[43m,\u001b[49m\u001b[43m \u001b[49m\u001b[38;5;241;43m0\u001b[39;49m\u001b[43m)\u001b[49m\u001b[43m)\u001b[49m\n\u001b[0;32m      2\u001b[0m books\n",
      "\u001b[1;31mTypeError\u001b[0m: '<' not supported between instances of 'str' and 'int'"
     ]
    }
   ],
   "source": [
    "books.sort(key = lambda book : book.get('price', 0))\n",
    "books"
   ]
  },
  {
   "cell_type": "code",
   "execution_count": 85,
   "id": "1258055e",
   "metadata": {},
   "outputs": [],
   "source": [
    "# '14,000' -> 14000 / '2000' -> 2000 / 800 -> 800 / '-' -> 0\n",
    "def parse_int(price):\n",
    "    # print(type(price))\n",
    "    if isinstance(price, str) and price.replace(',', '').isdigit():\n",
    "        return int(price.replace(',', ''))\n",
    "    elif isinstance(price, int):\n",
    "        return price\n",
    "    else:\n",
    "        return 0"
   ]
  },
  {
   "cell_type": "code",
   "execution_count": 86,
   "id": "faa528a4",
   "metadata": {},
   "outputs": [
    {
     "data": {
      "text/plain": [
       "(8000, 8000, 800, 0)"
      ]
     },
     "execution_count": 86,
     "metadata": {},
     "output_type": "execute_result"
    }
   ],
   "source": [
    "parse_int('8,000'), parse_int('8000'), parse_int(800), parse_int('-')"
   ]
  },
  {
   "cell_type": "code",
   "execution_count": 98,
   "id": "052e578f",
   "metadata": {},
   "outputs": [
    {
     "data": {
      "text/plain": [
       "(25200, 0, 14220)"
      ]
     },
     "execution_count": 98,
     "metadata": {},
     "output_type": "execute_result"
    }
   ],
   "source": [
    "# {'no': 6, 'title': '가격이없음', 'writer': '김길동'} => 0 return\n",
    "# {'no': 3, 'title': '흔한남매 19', 'writer': '백난도', 'price': '14,220'} => 14220\n",
    "# {'no': 5, 'title': '가격이숫자', 'writer': '신길동', 'price': 900} => 900\n",
    "def parse_int(book):\n",
    "    if isinstance(book.get('price'), str) and \\\n",
    "            book.get('price').replace(',', '').isdigit(): # isdigit() : 문자열이 숫자문자열인지 여부\n",
    "        return int(book.get('price').replace(',', ''))\n",
    "    elif isinstance(book.get('price'), int):\n",
    "        return book.get('price')\n",
    "    else:\n",
    "        return 0\n",
    "parse_int(books[0]), parse_int(books[3]), parse_int(books[2])"
   ]
  },
  {
   "cell_type": "code",
   "execution_count": 100,
   "id": "2d11a45d",
   "metadata": {},
   "outputs": [],
   "source": [
    "books = [\n",
    "    {'no':1, 'title':'강남 아파트 인사이트', 'writer':'오스틀', 'price':'25,200'},\n",
    "    {'no':2, 'title':'단 한번의 삶', 'writer':'김영하', 'price':'18,100'},\n",
    "    {'no':3, 'title':'흔한남매 19', 'writer':'백난도', 'price':'14,220'},\n",
    "    {'no':4, 'title':'가격이잘못', 'writer':'홍길동', 'price':'-'},\n",
    "    {'no':5, 'title':'가격이숫자', 'writer':'신길동', 'price':900},\n",
    "    {'no':6, 'title':'가격이없음', 'writer':'김길동'},\n",
    "]\n",
    "copy_books = books.copy() # 깊은 복사"
   ]
  },
  {
   "cell_type": "code",
   "execution_count": 101,
   "id": "4dd43f36",
   "metadata": {},
   "outputs": [],
   "source": [
    "copy_books.sort(key = lambda book :\n",
    "                int(book.get('price').replace(',', '')) \\\n",
    "                    if isinstance(book.get('price'), str) and \\\n",
    "                        book.get('price').replace(',', '').isdigit() else \\\n",
    "                book.get('price') if isinstance(book.get('price'), int) else \\\n",
    "                0\n",
    "               )"
   ]
  },
  {
   "cell_type": "code",
   "execution_count": 106,
   "id": "632d9625",
   "metadata": {},
   "outputs": [
    {
     "data": {
      "text/plain": [
       "0"
      ]
     },
     "execution_count": 106,
     "metadata": {},
     "output_type": "execute_result"
    }
   ],
   "source": [
    "# 람다식 테스트 확인\n",
    "(lambda book :\n",
    "                int(book.get('price').replace(',', '')) \\\n",
    "                    if isinstance(book.get('price'), str) and \\\n",
    "                        book.get('price').replace(',', '').isdigit() else \\\n",
    "                book.get('price') if isinstance(book.get('price'), int) else \\\n",
    "                0)(copy_books[0])"
   ]
  },
  {
   "cell_type": "code",
   "execution_count": 102,
   "id": "8a5a9a35",
   "metadata": {},
   "outputs": [
    {
     "data": {
      "text/plain": [
       "[{'no': 4, 'title': '가격이잘못', 'writer': '홍길동', 'price': '-'},\n",
       " {'no': 6, 'title': '가격이없음', 'writer': '김길동'},\n",
       " {'no': 5, 'title': '가격이숫자', 'writer': '신길동', 'price': 900},\n",
       " {'no': 3, 'title': '흔한남매 19', 'writer': '백난도', 'price': '14,220'},\n",
       " {'no': 2, 'title': '단 한번의 삶', 'writer': '김영하', 'price': '18,100'},\n",
       " {'no': 1, 'title': '강남 아파트 인사이트', 'writer': '오스틀', 'price': '25,200'}]"
      ]
     },
     "execution_count": 102,
     "metadata": {},
     "output_type": "execute_result"
    }
   ],
   "source": [
    "copy_books"
   ]
  },
  {
   "cell_type": "code",
   "execution_count": 103,
   "id": "a7f3f077",
   "metadata": {},
   "outputs": [
    {
     "data": {
      "text/plain": [
       "[{'no': 1, 'title': '강남 아파트 인사이트', 'writer': '오스틀', 'price': '25,200'},\n",
       " {'no': 2, 'title': '단 한번의 삶', 'writer': '김영하', 'price': '18,100'},\n",
       " {'no': 3, 'title': '흔한남매 19', 'writer': '백난도', 'price': '14,220'},\n",
       " {'no': 4, 'title': '가격이잘못', 'writer': '홍길동', 'price': '-'},\n",
       " {'no': 5, 'title': '가격이숫자', 'writer': '신길동', 'price': 900},\n",
       " {'no': 6, 'title': '가격이없음', 'writer': '김길동'}]"
      ]
     },
     "execution_count": 103,
     "metadata": {},
     "output_type": "execute_result"
    }
   ],
   "source": [
    "books # 원본"
   ]
  },
  {
   "cell_type": "markdown",
   "id": "0da5ee2f",
   "metadata": {},
   "source": [
    "## 4.3 return문에 람다식 이용"
   ]
  },
  {
   "cell_type": "code",
   "execution_count": 107,
   "id": "1030e68e",
   "metadata": {},
   "outputs": [],
   "source": [
    "# 함수를 return\n",
    "def make_box(shape): # shape : [l] => len가 l인 list를 생성하는 함수 return\n",
    "                     #         [r, c] => r행 c열인 2차원 list를 생성하는 함수 return\n",
    "                     #         [d, r, c] => d면 r행 c열 3차원 list를 생성하는 함수 return\n",
    "    def box(init_value):\n",
    "        if len(shape)==1:\n",
    "            return [init_value]*shape[0]\n",
    "        elif len(shape)==2:\n",
    "            return [[init_value]*shape[1]]*shape[0]\n",
    "    return box"
   ]
  },
  {
   "cell_type": "code",
   "execution_count": 111,
   "id": "6eaf63cf",
   "metadata": {},
   "outputs": [],
   "source": [
    "def make_box(shape):\n",
    "    if len(shape)==1:\n",
    "        return lambda init_value : [init_value]*shape[0]\n",
    "    elif len(shape)==2:\n",
    "        return lambda init_value : [[init_value]*shape[1]]*shape[0]"
   ]
  },
  {
   "cell_type": "code",
   "execution_count": 109,
   "id": "7e7a9736",
   "metadata": {},
   "outputs": [
    {
     "data": {
      "text/plain": [
       "[[3, 3, 3], [3, 3, 3]]"
      ]
     },
     "execution_count": 109,
     "metadata": {},
     "output_type": "execute_result"
    }
   ],
   "source": [
    "line_func = make_box([2, 3])\n",
    "line_func(3)"
   ]
  },
  {
   "cell_type": "code",
   "execution_count": 110,
   "id": "2582d602",
   "metadata": {},
   "outputs": [
    {
     "data": {
      "text/plain": [
       "[3, 3, 3, 3, 3, 3, 3, 3, 3, 3]"
      ]
     },
     "execution_count": 110,
     "metadata": {},
     "output_type": "execute_result"
    }
   ],
   "source": [
    "line_func1 = make_box([10])\n",
    "line_func1(3)"
   ]
  },
  {
   "cell_type": "markdown",
   "id": "d0447dab",
   "metadata": {},
   "source": [
    "# 5절 파이썬 내장함수\n",
    "- import하지 않고 바로 사용 가능한 함수\n",
    "- 키워드처럼 간주되므로, 식별자(변수명, 함수명, 클래스명)로 사용하는 것을 피한다"
   ]
  },
  {
   "cell_type": "code",
   "execution_count": 112,
   "id": "e1c94f79",
   "metadata": {
    "collapsed": true
   },
   "outputs": [
    {
     "data": {
      "text/plain": [
       "{'__name__': '__main__',\n",
       " '__doc__': \"\\n예제2. member1 = [{'name':'홍길동', 'birth':'2000-01-01'},\\n                  {'name':'신길동', 'birth':'1998-12-31'}]를\\n        member2 = [{'name':'홍길동', 'year':2000, 'month':1, 'day':1},\\n                  {'name':'신길동', 'year':1998, 'month':12, 'day':31}]를 바꿉니다\\n\",\n",
       " '__package__': None,\n",
       " '__loader__': None,\n",
       " '__spec__': None,\n",
       " '__builtin__': <module 'builtins' (built-in)>,\n",
       " '__builtins__': <module 'builtins' (built-in)>,\n",
       " '_ih': ['',\n",
       "  'from IPython.display import display, HTML\\ndisplay(HTML(\"\"\"\\n<style>\\ndiv.container{width:86% !important;}\\ndiv.cell.code_cell.rendered{width:100%;}\\ndiv.CodeMirror{font-family:Consolas; font-size:15pt;}\\ndiv.output{font-size:12pt; font-weight:bold;}\\ndiv.input{font-family:Consolas; font-size:12pt;}\\ndiv.prompt{min-width:70px;}\\ndiv#toc-wrapper {padding-top:120px;}\\ndiv.text_cell_render ul li{font-size:12pt;padding:5px;}\\ntable.dataframe{font-size:15px;}\\n</style>\\n\"\"\"))',\n",
       "  \"def map_template(func, L=[]):\\n    '''\\n    L의 모든 요소를 func()함수를 적용시켜 return\\n    '''\\n    result = []\\n    for l in L:\\n        result.append(func(l))\\n    return result\\n#    return [func(l) for l in L]\",\n",
       "  'list_data = [1, 2, 3, 4, 5, 6, 7, 8, 9, 10]\\ndef x_2(x):\\n    return x*2\\nmap_template(x_2, list_data)',\n",
       "  '# 리스트 데이터를 가공 방법 1. map\\nlist_data = [1, 2, 3, 4, 5, 6, 7, 8, 9, 10]\\nmap_template(lambda x : x*2, list_data)\\n#def x_2(x):\\n#    return x*2\\n#map_template(x_2, list_data)',\n",
       "  '# 리스트 데이터를 가공 방법 2. 리스트 컴프리헨션\\n[l*2 for l in list_data]',\n",
       "  '# 리스트 데이터를 가공 방법 3. map():파이썬 내장함수\\nlist(map(lambda x : x*2, list_data))',\n",
       "  'for item in map(lambda x : x*2, list_data):\\n    print(item, end=\" \")',\n",
       "  \"'''\\n예제1. prices = [5000, 800, 1000, 6000]로 바꾸시오\\n'''\\nprices = ['5,000', '800', '1000', '6,000']\\nlist(map(lambda x : x.replace(',', ''), prices))\",\n",
       "  \"'''\\n예제1. prices = [5000, 800, 1000, 6000]로 바꾸시오\\n'''\\nprices = ['5,000', '800', '1000', '6,000']\\nlist(map(lambda int(x) : x.replace(',', ''), prices))\",\n",
       "  \"'''\\n예제1. prices = [5000, 800, 1000, 6000]로 바꾸시오\\n'''\\nprices = ['5,000', '800', '1000', '6,000']\\nlist(int(map(lambda x : x.replace(',', ''), prices)))\",\n",
       "  \"'''\\n예제1. prices = [5000, 800, 1000, 6000]로 바꾸시오\\n'''\\nprices = ['5,000', '800', '1000', '6,000']\\nlist(map(lambda x : x.replace(',', ''), prices))\",\n",
       "  \"'''\\n예제1. prices = [5000, 800, 1000, 6000]로 바꾸시오\\n'''\\nprices = ['5,000', '800', '1000', '6,000']\\nlist(map(lambda x : int(x.replace(',', '')), prices))\",\n",
       "  \"# '2000-01-01' => {'year':2000, 'month':1, 'day':1}\\ndef split_data(date):\\n    split_data = date.split('-')\",\n",
       "  'def member_func(member): # {\\'name\\':\\'홍길동\\', \\'birth\\':\\'2000-01-01\\'}\\n    \"{\\'name\\':\\'홍길동\\', \\'year\\':2000, \\'month\\':1, \\'day\\':1}식으로 return\"\\n    return {\\n        \\'name\\':member.get[\\'name\\'],\\n        \\'year\\':int(member[\\'birth\\'].split(\\'-\\')[0]),\\n        \\'month\\':int(member[\\'birth\\'].split(\\'-\\')[1]),\\n        \\'day\\':int(member[\\'birth\\'].split(\\'-\\')[2])\\n    }\\nmember_func(member1)',\n",
       "  \"'''\\n예제2. member1 = [{'name':'홍길동', 'birth':'2000-01-01'},\\n                  {'name':'신길동', 'birth':'1998-12-31'}]를\\n        member2 = [{'name':'홍길동', 'year':2000, 'month':1, 'day':1},\\n                  {'name':'신길동', 'year':1998, 'month':12, 'day':31}]를 바꿉니다\\n'''\\nmember1 = [{'name':'홍길동', 'birth':'2000-01-01'},\\n           {'name':'신길동', 'birth':'1998-12-31'}]\",\n",
       "  'def member_func(member): # {\\'name\\':\\'홍길동\\', \\'birth\\':\\'2000-01-01\\'}\\n    \"{\\'name\\':\\'홍길동\\', \\'year\\':2000, \\'month\\':1, \\'day\\':1}식으로 return\"\\n    return {\\n        \\'name\\':member.get[\\'name\\'],\\n        \\'year\\':int(member[\\'birth\\'].split(\\'-\\')[0]),\\n        \\'month\\':int(member[\\'birth\\'].split(\\'-\\')[1]),\\n        \\'day\\':int(member[\\'birth\\'].split(\\'-\\')[2])\\n    }\\nmember_func(member1)',\n",
       "  'def member_func(member): # {\\'name\\':\\'홍길동\\', \\'birth\\':\\'2000-01-01\\'}\\n    \"{\\'name\\':\\'홍길동\\', \\'year\\':2000, \\'month\\':1, \\'day\\':1}식으로 return\"\\n    return {\\n        \\'name\\':member.get[\\'name\\'],\\n        \\'year\\':int(member[\\'birth\\'].split(\\'-\\')[0]),\\n        \\'month\\':int(member[\\'birth\\'].split(\\'-\\')[1]),\\n        \\'day\\':int(member[\\'birth\\'].split(\\'-\\')[2])\\n    }\\nmember_func(member1[0])',\n",
       "  'def member_func(member): # {\\'name\\':\\'홍길동\\', \\'birth\\':\\'2000-01-01\\'}\\n    \"{\\'name\\':\\'홍길동\\', \\'year\\':2000, \\'month\\':1, \\'day\\':1}식으로 return\"\\n    return {\\n        \\'name\\':member.get[\\'name\\'],\\n        \\'year\\':int(member[\\'birth\\'].split(\\'-\\')[0]),\\n        \\'month\\':int(member[\\'birth\\'].split(\\'-\\')[1]),\\n        \\'day\\':int(member[\\'birth\\'].split(\\'-\\')[2]),\\n    }\\nmember_func(member1[0])',\n",
       "  \"'''\\n예제2. member1 = [{'name':'홍길동', 'birth':'2000-01-01'},\\n                  {'name':'신길동', 'birth':'1998-12-31'}]를\\n        member2 = [{'name':'홍길동', 'year':2000, 'month':1, 'day':1},\\n                  {'name':'신길동', 'year':1998, 'month':12, 'day':31}]를 바꿉니다\\n'''\\nmember1 = [{'name':'홍길동', 'birth':'2000-01-01'},\\n           {'name':'신길동', 'birth':'1998-12-31'}]\",\n",
       "  'def member_func(member): # {\\'name\\':\\'홍길동\\', \\'birth\\':\\'2000-01-01\\'}\\n    \"{\\'name\\':\\'홍길동\\', \\'year\\':2000, \\'month\\':1, \\'day\\':1}식으로 return\"\\n    return {\\n        \\'name\\':member.get[\\'name\\'],\\n        \\'year\\':int(member[\\'birth\\'].split(\\'-\\')[0]),\\n        \\'month\\':int(member[\\'birth\\'].split(\\'-\\')[1]),\\n        \\'day\\':int(member[\\'birth\\'].split(\\'-\\')[2]),\\n    }\\nmember_func(member1[0])',\n",
       "  'def member_func(member): # {\\'name\\':\\'홍길동\\', \\'birth\\':\\'2000-01-01\\'}\\n    \"{\\'name\\':\\'홍길동\\', \\'year\\':2000, \\'month\\':1, \\'day\\':1}식으로 return\"\\n    return {\\n        \\'name\\':member.get()\\'name\\'),\\n        \\'year\\':int(member[\\'birth\\'].split(\\'-\\')[0]),\\n        \\'month\\':int(member[\\'birth\\'].split(\\'-\\')[1]),\\n        \\'day\\':int(member[\\'birth\\'].split(\\'-\\')[2]),\\n    }\\nmember_func(member1[0])',\n",
       "  'def member_func(member): # {\\'name\\':\\'홍길동\\', \\'birth\\':\\'2000-01-01\\'}\\n    \"{\\'name\\':\\'홍길동\\', \\'year\\':2000, \\'month\\':1, \\'day\\':1}식으로 return\"\\n    return {\\n        \\'name\\':member.get(\\'name\\'),\\n        \\'year\\':int(member[\\'birth\\'].split(\\'-\\')[0]),\\n        \\'month\\':int(member[\\'birth\\'].split(\\'-\\')[1]),\\n        \\'day\\':int(member[\\'birth\\'].split(\\'-\\')[2]),\\n    }\\nmember_func(member1[0])',\n",
       "  \"member2 = list(map(lambda member : {\\n                        'name':member.get('name'),\\n                        'year':int(member['birth'].split('-')[0]),\\n                        'month':int(member['birth'].split('-')[1]),\\n                        'day':int(member['birth'].split('-')[2]),\\n                        },\\n         member1\\n        )\\n    )\",\n",
       "  \"member2 = list(map(lambda member : {\\n                        'name':member.get('name'),\\n                        'year':int(member['birth'].split('-')[0]),\\n                        'month':int(member['birth'].split('-')[1]),\\n                        'day':int(member['birth'].split('-')[2]),\\n                        },\\n         member1\\n        )\\n    )\\nmember2\",\n",
       "  \"# {'year': 2000, 'month': 1, 'day': 1} => '2000-01-01'를 return하는 함수\\ndef birth_date(date):\\n    birth_data = date.values()\\n    return '-'.join(birth_data)\\nbirth_date(member2)\",\n",
       "  \"# {'year': 2000, 'month': 1, 'day': 1} => '2000-01-01'를 return하는 함수\\ndef birth_date(date):\\n    birth_data = date.values()\\n    return '-'.join(birth_data)\\nbirth_date(member2[0])\",\n",
       "  \"# {'year': 2000, 'month': 1, 'day': 1} => '2000-01-01'를 return하는 함수\\ndef join_date(data):\\n    # print([data.get('year'), data.get('month'), data.get('day')])\\n    year = str(data.get('year'))\\n    month = data.get('month')\\n    if month < 10:\\n        month = '0'+ str(month)\\n    else:\\n        month = str(month)\\n    day = data.get('day')\\n    if day < 10:\\n        day = '0'+ str(day)\\n    else:\\n        day = str(day)\\n    return '-'.join([year, month, data.get('day')])\",\n",
       "  \"def join_date(data):\\n    print('{}-{:02}-{:02}'.format(data.get('year'), data.get('month'), data.get('day')))\",\n",
       "  \"join_date({'year':2000, 'month':1, 'day':1})\",\n",
       "  'split_date(member1)',\n",
       "  \"split_date('2000-01-01')\",\n",
       "  \"# '2000-01-01' => {'year':2000, 'month':1, 'day':1}\\ndef split_date(date):\\n    split_data = date.split('-')\\n    # print(split_data[0], split_data[1], split_data[2])\\n    return {'year' :int(split_data[0]),\\n            'month':int(split_data[1]),\\n            'day'  :int(split_data[2])}\",\n",
       "  \"split_date('2000-01-01')\",\n",
       "  \"def join_date(data):\\n    return '{year}-{month:02}-{day:02}'.format(**data)\",\n",
       "  \"join_date({'year':2000, 'month':1, 'day':1})\",\n",
       "  \"# {'name':'홍길동', 'year':2000, 'month':1, 'day':1}(member2)를\\n# {'name':'홍길동', 'birth':'2000-01-01'}으로 가공\\nlist(map(lambda member : {\\n                        'name' : member.get('name'),\\n                        'birth' : '{year}-{month:02}-{day:02}'.format(**data)\\n                        }\\n        ))\",\n",
       "  \"# {'name':'홍길동', 'year':2000, 'month':1, 'day':1}(member2)를\\n# {'name':'홍길동', 'birth':'2000-01-01'}으로 가공\\nlist(map(lambda member : {\\n                        'name' : member.get('name'),\\n                        'birth' : '{year}-{month:02}-{day:02}'.format(**member)\\n                        },\\n         member2\\n))\",\n",
       "  'def filter_template(func, L=[]):\\n    result = []\\n    for l in L:\\n        if func(l):\\n            result.append(l)\\n    return result',\n",
       "  'def evenChk(value):\\n    return value%2==0\\nevenChk(10), evenChk(-9)',\n",
       "  'list_data = [1, 2, 3, 4, 5]\\nfilter_template(lambda value : value%2==0, list_data)',\n",
       "  'list(filter(lambda value : value%2==0, list_data))',\n",
       "  '[data for data in list_data if data%2==0]',\n",
       "  '# 무조건 0번 item 기준으로 정렬\\nnumber2d = [[9,9,9,9,9],[1, 100],[10, 1]]\\nnumber2d.sort(reverse=True)\\nnumber2d',\n",
       "  \"pairs = [(2, 'two'), (1, 'one'), (4, 'four'), (3, 'three')]\\npairs.sort()\\npairs\",\n",
       "  '# 1번째 item 기준으로 정렬(abc순)\\npairs.sort(key=lambda pair : pair[1])\\npairs',\n",
       "  '# 합이 큰 순으로 정렬\\nnumber2d.sort(key = lambda item : sum(item), reverse=True)\\nnumber2d',\n",
       "  '# 리스트를 매개변수로 받아 합을 return\\n(lambda item : sum(item))([1,2,3])',\n",
       "  '# 합이 큰 순으로 정렬\\nnumber2d.sort(key = lambda item : sum(item), reverse=True)\\nnumber2d',\n",
       "  '# 합이 큰 순으로 정렬\\nnumber2d.sort(key = lambda item : sum(item), reverse=True)\\nnumber2d',\n",
       "  '# 리스트를 매개변수로 받아 합을 return\\n(lambda item : sum(item))([1,2,3])',\n",
       "  \"students = [\\n    {'name':'홍길동', 'score':90},\\n    {'name':'김길동', 'score':50},\\n    {'name':'윤길동', 'score':99},\\n]\",\n",
       "  \"# 이름순으로 정렬(ㄱㄴㄷ순)\\nstudents.sort(key = lambda data : data.get('name'))\",\n",
       "  \"# 이름순으로 정렬(ㄱㄴㄷ순)\\nstudents.sort(key = lambda data : data.get('name'))\\nstudents\",\n",
       "  '# 이름순으로 정렬(ㄱㄴㄷ순)\\nstudents.sort(key = lambda data : data.values)\\nstudents',\n",
       "  '# 이름순으로 정렬(ㄱㄴㄷ순)\\nstudents.sort(key = lambda data : data.values(0))\\nstudents',\n",
       "  '# 이름순으로 정렬(ㄱㄴㄷ순)\\nstudents.sort(key = lambda data : )\\nstudents',\n",
       "  \"# 이름순으로 정렬(ㄱㄴㄷ순)\\nstudents.sort(key = lambda data : data.get('name'))\\nstudents\",\n",
       "  \"students = [\\n    {'name':'홍길동', 'score':90},\\n    {'name':'김길동', 'score':50},\\n    {'name':'윤길동', 'score':99},\\n    {'score':100}\\n]\",\n",
       "  \"# 이름순으로 정렬(ㄱㄴㄷ순)\\nstudents.sort(key = lambda data : data.get('name','힣'))\\nstudents\",\n",
       "  \"# score순으로 정렬(내림차순정렬)\\nstudents.sort(key = lambda data : data.get('score', 0), reverse=True)\",\n",
       "  \"# score순으로 정렬(내림차순정렬)\\nstudents.sort(key = lambda data : data.get('score', 0), reverse=True)\\nstudents\",\n",
       "  \"# 책제목순 정렬(ㄱㄴㄷ순), 저자순 정렬(ㄱㄴㄷ순), 가격순 오름차순 정렬\\nbooks = [\\n    {'no':1, 'title':'강남 아파트 인사이트', 'writer':'오스틀', 'price':'25,200'},\\n    {'no':2, 'title':'단 한번의 삶', 'writer':'김영하', 'price':'18,100'},\\n    {'no':3, 'title':'흔한남매 19', 'writer':'백난도', 'price':'14,220'},\\n    {'no':4, 'title':'가격이잘못', 'writer':'홍길동', 'price':'-'},\\n    {'no':5, 'title':'가격이숫자', 'writer':'신길동', 'price':900},\\n    {'no':6, 'title':'가격이없음', 'writer':'김길동'},\\n]\",\n",
       "  \"books.sort(key = lambda book : book.get('title'))\\nbooks\",\n",
       "  \"books.sort(key = lambda book : book.get('writer'))\\nbooks\",\n",
       "  \"# 책제목순 정렬(ㄱㄴㄷ순), 저자순 정렬(ㄱㄴㄷ순), 가격순 오름차순 정렬\\nbooks = [\\n    {'no':1, 'title':'강남 아파트 인사이트', 'writer':'오스틀', 'price':'25,200'},\\n    {'no':2, 'title':'단 한번의 삶', 'writer':'김영하', 'price':'18,100'},\\n    {'no':3, 'title':'흔한남매 19', 'writer':'백난도', 'price':'14220'},\\n    {'no':4, 'title':'가격이잘못', 'writer':'홍길동', 'price':'-'},\\n    {'no':5, 'title':'가격이숫자', 'writer':'신길동', 'price':900},\\n    {'no':6, 'title':'가격이없음', 'writer':'김길동'},\\n]\",\n",
       "  \"books.sort(key = lambda book : book.get('title'))\\nbooks\",\n",
       "  \"books.sort(key = lambda book : book.get('writer'))\\nbooks\",\n",
       "  \"books.sort(key = lambda book : book.get('price', 0))\\nbooks\",\n",
       "  \"# '14,000' -> 14000 / 800 -> 800 / '-' -> 0\\ndef parse_int(price):\\n    print(type(price))\",\n",
       "  'parse_int(800)',\n",
       "  \"# '14,000' -> 14000 / 800 -> 800 / '-' -> 0\\ndef parse_int(price):\\n    # print(type(price))\\n    if isinstance(price, int):\\n        return price\",\n",
       "  'parse_int(800)',\n",
       "  \"# '14,000' -> 14000 / '2000' -> 2000 / 800 -> 800 / '-' -> 0\\ndef parse_int(price):\\n    # print(type(price))\\n    if isinstance(price, str) and price.replace(',', '').isdigit():\\n        return int(price.replace(',', ''))\\n    elif isinstance(price, int):\\n        return price\",\n",
       "  'parse_int(8000)',\n",
       "  \"parse_int('8000')\",\n",
       "  \"parse_int('8,000')\",\n",
       "  \"parse_int('8,000'), parse_int('8000'), parse_int(800)\",\n",
       "  \"parse_int('8,000'), parse_int('8000'), parse_int(800), parse_int('-')\",\n",
       "  \"# '14,000' -> 14000 / '2000' -> 2000 / 800 -> 800 / '-' -> 0\\ndef parse_int(price):\\n    # print(type(price))\\n    if isinstance(price, str) and price.replace(',', '').isdigit():\\n        return int(price.replace(',', ''))\\n    elif isinstance(price, int):\\n        return price\\n    else:\\n        return 0\",\n",
       "  \"parse_int('8,000'), parse_int('8000'), parse_int(800), parse_int('-')\",\n",
       "  \"# 책제목순 정렬(ㄱㄴㄷ순), 저자순 정렬(ㄱㄴㄷ순), 가격순 오름차순 정렬\\nbooks = [\\n    {'no':1, 'title':'강남 아파트 인사이트', 'writer':'오스틀', 'price':'25,200'},\\n    {'no':2, 'title':'단 한번의 삶', 'writer':'김영하', 'price':'18,100'},\\n    {'no':3, 'title':'흔한남매 19', 'writer':'백난도', 'price':'14,220'},\\n    {'no':4, 'title':'가격이잘못', 'writer':'홍길동', 'price':'-'},\\n    {'no':5, 'title':'가격이숫자', 'writer':'신길동', 'price':900},\\n    {'no':6, 'title':'가격이없음', 'writer':'김길동'},\\n]\",\n",
       "  \"books.sort(key = lambda book : book.get('title'))\\nbooks\",\n",
       "  \"books.sort(key = lambda book : book.get('writer'))\\nbooks\",\n",
       "  \"books.sort(key = lambda book : book.get('price', 0))\\nbooks\",\n",
       "  \"# '14,000' -> 14000 / '2000' -> 2000 / 800 -> 800 / '-' -> 0\\ndef parse_int(price):\\n    # print(type(price))\\n    if isinstance(price, str) and price.replace(',', '').isdigit():\\n        return int(price.replace(',', ''))\\n    elif isinstance(price, int):\\n        return price\\n    else:\\n        return 0\",\n",
       "  \"parse_int('8,000'), parse_int('8000'), parse_int(800), parse_int('-')\",\n",
       "  \"# {'no': 6, 'title': '가격이없음', 'writer': '김길동'} => 0 return\\n# {'no': 3, 'title': '흔한남매 19', 'writer': '백난도', 'price': '14,220'} => 14220\\n# 'no': 5, 'title': '가격이숫자', 'writer': '신길동', 'price': 900} => 900\",\n",
       "  \"# {'no': 6, 'title': '가격이없음', 'writer': '김길동'} => 0 return\\n# {'no': 3, 'title': '흔한남매 19', 'writer': '백난도', 'price': '14,220'} => 14220\\n# 'no': 5, 'title': '가격이숫자', 'writer': '신길동', 'price': 900} => 900\\ndef parse_int(book):\\n    if isinstance(book.get('price'), str) and \\\\\\n            book.get('price').replace(',', '').isdigit():\\n        return int(book.get(price).replace(',', ''))\\n    elif isinstance(book.get('price'), int):\\n        return book.get('price')\\n    else:\\n        return 0\\nparse_int(books[0])\",\n",
       "  \"# {'no': 6, 'title': '가격이없음', 'writer': '김길동'} => 0 return\\n# {'no': 3, 'title': '흔한남매 19', 'writer': '백난도', 'price': '14,220'} => 14220\\n# 'no': 5, 'title': '가격이숫자', 'writer': '신길동', 'price': 900} => 900\\ndef parse_int(book):\\n    if isinstance(book.get('price'), str) and \\\\\\n            book.get('price').replace(',', '').isdigit():\\n        return int(book.get(price).replace(',', ''))\\n    elif isinstance(book.get('price'), int):\\n        return book.get('price')\\n    else:\\n        return 0\\nparse_int(books[0]), parse_int(books[3]), parse_int(books[2])\",\n",
       "  \"# {'no': 6, 'title': '가격이없음', 'writer': '김길동'} => 0 return\\n# {'no': 3, 'title': '흔한남매 19', 'writer': '백난도', 'price': '14,220'} => 14220\\n# 'no': 5, 'title': '가격이숫자', 'writer': '신길동', 'price': 900} => 900\\ndef parse_int(book):\\n    if isinstance(book.get('price'), str) and \\\\\\n            book.get('price').replace(',', '').isdigit():\\n        return int(book.get(price).replace(',', ''))\\n    elif isinstance(book.get('price'), int):\\n        return book.get('price')\\n    else:\\n        return 0\\nparse_int(books[0]), parse_int(books[3])\",\n",
       "  \"# {'no': 6, 'title': '가격이없음', 'writer': '김길동'} => 0 return\\n# {'no': 3, 'title': '흔한남매 19', 'writer': '백난도', 'price': '14,220'} => 14220\\n# 'no': 5, 'title': '가격이숫자', 'writer': '신길동', 'price': 900} => 900\\ndef parse_int(book):\\n    if isinstance(book.get('price'), str) and \\\\\\n            book.get('price').replace(',', '').isdigit():\\n        return int(book.get(price).replace(',', ''))\\n    elif isinstance(book.get('price'), int):\\n        return book.get('price')\\n    else:\\n        return 0\\nparse_int(books[0]), parse_int(books[3]), parse_int(books[2])\",\n",
       "  \"# 책제목순 정렬(ㄱㄴㄷ순), 저자순 정렬(ㄱㄴㄷ순), 가격순 오름차순 정렬\\nbooks = [\\n    {'no':1, 'title':'강남 아파트 인사이트', 'writer':'오스틀', 'price':'25,200'},\\n    {'no':2, 'title':'단 한번의 삶', 'writer':'김영하', 'price':'18,100'},\\n    {'no':3, 'title':'흔한남매 19', 'writer':'백난도', 'price':'14,220'},\\n    {'no':4, 'title':'가격이잘못', 'writer':'홍길동', 'price':'-'},\\n    {'no':5, 'title':'가격이숫자', 'writer':'신길동', 'price':900},\\n    {'no':6, 'title':'가격이없음', 'writer':'김길동'},\\n]\",\n",
       "  \"# {'no': 6, 'title': '가격이없음', 'writer': '김길동'} => 0 return\\n# {'no': 3, 'title': '흔한남매 19', 'writer': '백난도', 'price': '14,220'} => 14220\\n# 'no': 5, 'title': '가격이숫자', 'writer': '신길동', 'price': 900} => 900\\ndef parse_int(book):\\n    if isinstance(book.get('price'), str) and \\\\\\n            book.get('price').replace(',', '').isdigit():\\n        return int(book.get(price).replace(',', ''))\\n    elif isinstance(book.get('price'), int):\\n        return book.get('price')\\n    else:\\n        return 0\\nparse_int(books[0]), parse_int(books[3]), parse_int(books[2])\",\n",
       "  \"# {'no': 6, 'title': '가격이없음', 'writer': '김길동'} => 0 return\\n# {'no': 3, 'title': '흔한남매 19', 'writer': '백난도', 'price': '14,220'} => 14220\\n# 'no': 5, 'title': '가격이숫자', 'writer': '신길동', 'price': 900} => 900\\ndef parse_int(book):\\n    if isinstance(book.get('price'), str) and \\\\\\n            book.get('price').replace(',', '').isdigit():\\n        return int(book.get(price).replace(',', ''))\\n    elif isinstance(book.get('price'), int):\\n        return book.get('price')\\n    else:\\n        return 0\\nparse_int(books[0]), parse_int(books[3]), parse_int(books[2])\",\n",
       "  \"# {'no': 6, 'title': '가격이없음', 'writer': '김길동'} => 0 return\\n# {'no': 3, 'title': '흔한남매 19', 'writer': '백난도', 'price': '14,220'} => 14220\\n# 'no': 5, 'title': '가격이숫자', 'writer': '신길동', 'price': 900} => 900\\ndef parse_int(book):\\n    if isinstance(book.get('price'), str) and \\\\\\n            book.get('price').replace(',', '').isdigit():\\n        return int(book.get(price).replace(',', ''))\\n    elif isinstance(book.get('price'), int):\\n        return book.get('price')\\n    else:\\n        return 0\\nparse_int(books[0]), parse_int(books[3]), parse_int(books[2]), parse_int(books[6])\",\n",
       "  \"# {'no': 6, 'title': '가격이없음', 'writer': '김길동'} => 0 return\\n# {'no': 3, 'title': '흔한남매 19', 'writer': '백난도', 'price': '14,220'} => 14220\\n# 'no': 5, 'title': '가격이숫자', 'writer': '신길동', 'price': 900} => 900\\ndef parse_int(book):\\n    if isinstance(book.get('price'), str) and \\\\\\n            book.get('price').replace(',', '').isdigit():\\n        return int(book.get(price).replace(',', ''))\\n    elif isinstance(book.get('price'), int):\\n        return book.get('price')\\n    else:\\n        return 0\\nparse_int(books[0]), parse_int(books[3]), parse_int(books[2])\",\n",
       "  \"# {'no': 6, 'title': '가격이없음', 'writer': '김길동'} => 0 return\\n# {'no': 3, 'title': '흔한남매 19', 'writer': '백난도', 'price': '14,220'} => 14220\\n# 'no': 5, 'title': '가격이숫자', 'writer': '신길동', 'price': 900} => 900\\ndef parse_int(book):\\n    if isinstance(book.get('price'), str) and \\\\\\n            book.get('price').replace(',', '').isdigit():\\n        return int(book.get('price').replace(',', ''))\\n    elif isinstance(book.get('price'), int):\\n        return book.get('price')\\n    else:\\n        return 0\\nparse_int(books[0]), parse_int(books[3]), parse_int(books[2])\",\n",
       "  \"# {'no': 6, 'title': '가격이없음', 'writer': '김길동'} => 0 return\\n# {'no': 3, 'title': '흔한남매 19', 'writer': '백난도', 'price': '14,220'} => 14220\\n# {'no': 5, 'title': '가격이숫자', 'writer': '신길동', 'price': 900} => 900\\ndef parse_int(book):\\n    if isinstance(book.get('price'), str) and \\\\\\n            book.get('price').replace(',', '').isdigit(): # isdigit() : 문자열이 숫자문자열인지 여부\\n        return int(book.get('price').replace(',', ''))\\n    elif isinstance(book.get('price'), int):\\n        return book.get('price')\\n    else:\\n        return 0\\nparse_int(books[0]), parse_int(books[3]), parse_int(books[2])\",\n",
       "  \"books = [\\n    {'no':1, 'title':'강남 아파트 인사이트', 'writer':'오스틀', 'price':'25,200'},\\n    {'no':2, 'title':'단 한번의 삶', 'writer':'김영하', 'price':'18,100'},\\n    {'no':3, 'title':'흔한남매 19', 'writer':'백난도', 'price':'14,220'},\\n    {'no':4, 'title':'가격이잘못', 'writer':'홍길동', 'price':'-'},\\n    {'no':5, 'title':'가격이숫자', 'writer':'신길동', 'price':900},\\n    {'no':6, 'title':'가격이없음', 'writer':'김길동'},\\n]\",\n",
       "  \"books = [\\n    {'no':1, 'title':'강남 아파트 인사이트', 'writer':'오스틀', 'price':'25,200'},\\n    {'no':2, 'title':'단 한번의 삶', 'writer':'김영하', 'price':'18,100'},\\n    {'no':3, 'title':'흔한남매 19', 'writer':'백난도', 'price':'14,220'},\\n    {'no':4, 'title':'가격이잘못', 'writer':'홍길동', 'price':'-'},\\n    {'no':5, 'title':'가격이숫자', 'writer':'신길동', 'price':900},\\n    {'no':6, 'title':'가격이없음', 'writer':'김길동'},\\n]\\ncopy_books = books.copy()\",\n",
       "  \"copy_books.sort(key = lambda book :\\n                int(book.get('price').replace(',', '')) \\\\\\n                    if isinstance(book.get('price'), str) and \\\\\\n                        book.get('price').replace(',', '').isdigit() else \\\\\\n                book.get('price') if isinstance(book.get('price'), int) else \\\\\\n                0\\n               )\",\n",
       "  'copy_books',\n",
       "  'books',\n",
       "  \"(lambda book :\\n                int(book.get('price').replace(',', '')) \\\\\\n                    if isinstance(book.get('price'), str) and \\\\\\n                        book.get('price').replace(',', '').isdigit() else \\\\\\n                book.get('price') if isinstance(book.get('price'), int) else \\\\\\n                0)(books[0])\",\n",
       "  \"# 람다식 테스트 확인\\n(lambda book :\\n                int(book.get('price').replace(',', '')) \\\\\\n                    if isinstance(book.get('price'), str) and \\\\\\n                        book.get('price').replace(',', '').isdigit() else \\\\\\n                book.get('price') if isinstance(book.get('price'), int) else \\\\\\n                0)(books[0])\",\n",
       "  \"# 람다식 테스트 확인\\n(lambda book :\\n                int(book.get('price').replace(',', '')) \\\\\\n                    if isinstance(book.get('price'), str) and \\\\\\n                        book.get('price').replace(',', '').isdigit() else \\\\\\n                book.get('price') if isinstance(book.get('price'), int) else \\\\\\n                0)(copy_books[0])\",\n",
       "  '# 함수를 return\\ndef make_box(shape): # shape : [l] => len가 l인 list를 생성하는 함수 return\\n                     #         [r, c] => r행 c열인 2차원 list를 생성하는 함수 return\\n                     #         [d, r, c] => d면 r행 c열 3차원 list를 생성하는 함수 return\\n    def box(init_value):\\n        if len(shape)==1:\\n            return [init_value]*shape[0]\\n        elif len(shape)==2:\\n            return [[init_value]*shape[1]]*shape[0]\\n    return box',\n",
       "  'line_func = make_box([2, 3])',\n",
       "  'line_func = make_box([2, 3])\\nline_func(3)',\n",
       "  'line_func1 = make_box([10])\\nline_func1(3)',\n",
       "  'def make_box(shape):\\n    if len(shape)==1:\\n        return lambda init_value : [init_value]*shape[0]\\n    elif len(shape)==2:\\n        return lambda init_value : [[init_value]*shape[1]]*shape[0]',\n",
       "  'globals() # 전역변수 리스트'],\n",
       " '_oh': {3: [2, 4, 6, 8, 10, 12, 14, 16, 18, 20],\n",
       "  4: [2, 4, 6, 8, 10, 12, 14, 16, 18, 20],\n",
       "  5: [2, 4, 6, 8, 10, 12, 14, 16, 18, 20],\n",
       "  6: [2, 4, 6, 8, 10, 12, 14, 16, 18, 20],\n",
       "  8: ['5000', '800', '1000', '6000'],\n",
       "  11: ['5000', '800', '1000', '6000'],\n",
       "  12: [5000, 800, 1000, 6000],\n",
       "  22: {'name': '홍길동', 'year': 2000, 'month': 1, 'day': 1},\n",
       "  24: [{'name': '홍길동', 'year': 2000, 'month': 1, 'day': 1},\n",
       "   {'name': '신길동', 'year': 1998, 'month': 12, 'day': 31}],\n",
       "  33: {'year': 2000, 'month': 1, 'day': 1},\n",
       "  35: '2000-01-01',\n",
       "  37: [{'name': '홍길동', 'birth': '2000-01-01'},\n",
       "   {'name': '신길동', 'birth': '1998-12-31'}],\n",
       "  39: (True, False),\n",
       "  40: [2, 4],\n",
       "  41: [2, 4],\n",
       "  42: [2, 4],\n",
       "  43: [[1, 100], [9, 9, 9, 9, 9], [10, 1]],\n",
       "  44: [(4, 'four'), (1, 'one'), (3, 'three'), (2, 'two')],\n",
       "  45: [(4, 'four'), (1, 'one'), (3, 'three'), (2, 'two')],\n",
       "  46: [[1, 100], [9, 9, 9, 9, 9], [10, 1]],\n",
       "  47: 6,\n",
       "  48: [[1, 100], [9, 9, 9, 9, 9], [10, 1]],\n",
       "  49: [[1, 100], [9, 9, 9, 9, 9], [10, 1]],\n",
       "  50: 6,\n",
       "  53: [{'name': '김길동', 'score': 50},\n",
       "   {'name': '윤길동', 'score': 99},\n",
       "   {'name': '홍길동', 'score': 90}],\n",
       "  57: [{'name': '김길동', 'score': 50},\n",
       "   {'name': '윤길동', 'score': 99},\n",
       "   {'name': '홍길동', 'score': 90}],\n",
       "  59: [{'score': 100},\n",
       "   {'name': '윤길동', 'score': 99},\n",
       "   {'name': '홍길동', 'score': 90},\n",
       "   {'name': '김길동', 'score': 50}],\n",
       "  61: [{'score': 100},\n",
       "   {'name': '윤길동', 'score': 99},\n",
       "   {'name': '홍길동', 'score': 90},\n",
       "   {'name': '김길동', 'score': 50}],\n",
       "  63: [{'no': 6, 'title': '가격이없음', 'writer': '김길동'},\n",
       "   {'no': 2, 'title': '단 한번의 삶', 'writer': '김영하', 'price': '18,100'},\n",
       "   {'no': 3, 'title': '흔한남매 19', 'writer': '백난도', 'price': '14,220'},\n",
       "   {'no': 5, 'title': '가격이숫자', 'writer': '신길동', 'price': 900},\n",
       "   {'no': 1, 'title': '강남 아파트 인사이트', 'writer': '오스틀', 'price': '25,200'},\n",
       "   {'no': 4, 'title': '가격이잘못', 'writer': '홍길동', 'price': '-'}],\n",
       "  64: [{'no': 6, 'title': '가격이없음', 'writer': '김길동'},\n",
       "   {'no': 2, 'title': '단 한번의 삶', 'writer': '김영하', 'price': '18,100'},\n",
       "   {'no': 3, 'title': '흔한남매 19', 'writer': '백난도', 'price': '14,220'},\n",
       "   {'no': 5, 'title': '가격이숫자', 'writer': '신길동', 'price': 900},\n",
       "   {'no': 1, 'title': '강남 아파트 인사이트', 'writer': '오스틀', 'price': '25,200'},\n",
       "   {'no': 4, 'title': '가격이잘못', 'writer': '홍길동', 'price': '-'}],\n",
       "  66: [{'no': 6, 'title': '가격이없음', 'writer': '김길동'},\n",
       "   {'no': 2, 'title': '단 한번의 삶', 'writer': '김영하', 'price': '18,100'},\n",
       "   {'no': 3, 'title': '흔한남매 19', 'writer': '백난도', 'price': '14220'},\n",
       "   {'no': 5, 'title': '가격이숫자', 'writer': '신길동', 'price': 900},\n",
       "   {'no': 1, 'title': '강남 아파트 인사이트', 'writer': '오스틀', 'price': '25,200'},\n",
       "   {'no': 4, 'title': '가격이잘못', 'writer': '홍길동', 'price': '-'}],\n",
       "  67: [{'no': 6, 'title': '가격이없음', 'writer': '김길동'},\n",
       "   {'no': 2, 'title': '단 한번의 삶', 'writer': '김영하', 'price': '18,100'},\n",
       "   {'no': 3, 'title': '흔한남매 19', 'writer': '백난도', 'price': '14220'},\n",
       "   {'no': 5, 'title': '가격이숫자', 'writer': '신길동', 'price': 900},\n",
       "   {'no': 1, 'title': '강남 아파트 인사이트', 'writer': '오스틀', 'price': '25,200'},\n",
       "   {'no': 4, 'title': '가격이잘못', 'writer': '홍길동', 'price': '-'}],\n",
       "  72: 800,\n",
       "  74: 8000,\n",
       "  75: 8000,\n",
       "  76: 8000,\n",
       "  77: (8000, 8000, 800),\n",
       "  78: (8000, 8000, 800, None),\n",
       "  80: (8000, 8000, 800, 0),\n",
       "  82: [{'no': 6, 'title': '가격이없음', 'writer': '김길동'},\n",
       "   {'no': 2, 'title': '단 한번의 삶', 'writer': '김영하', 'price': '18,100'},\n",
       "   {'no': 3, 'title': '흔한남매 19', 'writer': '백난도', 'price': '14,220'},\n",
       "   {'no': 5, 'title': '가격이숫자', 'writer': '신길동', 'price': 900},\n",
       "   {'no': 1, 'title': '강남 아파트 인사이트', 'writer': '오스틀', 'price': '25,200'},\n",
       "   {'no': 4, 'title': '가격이잘못', 'writer': '홍길동', 'price': '-'}],\n",
       "  83: [{'no': 6, 'title': '가격이없음', 'writer': '김길동'},\n",
       "   {'no': 2, 'title': '단 한번의 삶', 'writer': '김영하', 'price': '18,100'},\n",
       "   {'no': 3, 'title': '흔한남매 19', 'writer': '백난도', 'price': '14,220'},\n",
       "   {'no': 5, 'title': '가격이숫자', 'writer': '신길동', 'price': 900},\n",
       "   {'no': 1, 'title': '강남 아파트 인사이트', 'writer': '오스틀', 'price': '25,200'},\n",
       "   {'no': 4, 'title': '가격이잘못', 'writer': '홍길동', 'price': '-'}],\n",
       "  86: (8000, 8000, 800, 0),\n",
       "  88: 0,\n",
       "  90: (0, 900),\n",
       "  97: (25200, 0, 14220),\n",
       "  98: (25200, 0, 14220),\n",
       "  102: [{'no': 4, 'title': '가격이잘못', 'writer': '홍길동', 'price': '-'},\n",
       "   {'no': 6, 'title': '가격이없음', 'writer': '김길동'},\n",
       "   {'no': 5, 'title': '가격이숫자', 'writer': '신길동', 'price': 900},\n",
       "   {'no': 3, 'title': '흔한남매 19', 'writer': '백난도', 'price': '14,220'},\n",
       "   {'no': 2, 'title': '단 한번의 삶', 'writer': '김영하', 'price': '18,100'},\n",
       "   {'no': 1, 'title': '강남 아파트 인사이트', 'writer': '오스틀', 'price': '25,200'}],\n",
       "  103: [{'no': 1, 'title': '강남 아파트 인사이트', 'writer': '오스틀', 'price': '25,200'},\n",
       "   {'no': 2, 'title': '단 한번의 삶', 'writer': '김영하', 'price': '18,100'},\n",
       "   {'no': 3, 'title': '흔한남매 19', 'writer': '백난도', 'price': '14,220'},\n",
       "   {'no': 4, 'title': '가격이잘못', 'writer': '홍길동', 'price': '-'},\n",
       "   {'no': 5, 'title': '가격이숫자', 'writer': '신길동', 'price': 900},\n",
       "   {'no': 6, 'title': '가격이없음', 'writer': '김길동'}],\n",
       "  104: 25200,\n",
       "  105: 25200,\n",
       "  106: 0,\n",
       "  109: [[3, 3, 3], [3, 3, 3]],\n",
       "  110: [3, 3, 3, 3, 3, 3, 3, 3, 3, 3]},\n",
       " '_dh': [WindowsPath('C:/ai_x/source/01_python')],\n",
       " 'In': ['',\n",
       "  'from IPython.display import display, HTML\\ndisplay(HTML(\"\"\"\\n<style>\\ndiv.container{width:86% !important;}\\ndiv.cell.code_cell.rendered{width:100%;}\\ndiv.CodeMirror{font-family:Consolas; font-size:15pt;}\\ndiv.output{font-size:12pt; font-weight:bold;}\\ndiv.input{font-family:Consolas; font-size:12pt;}\\ndiv.prompt{min-width:70px;}\\ndiv#toc-wrapper {padding-top:120px;}\\ndiv.text_cell_render ul li{font-size:12pt;padding:5px;}\\ntable.dataframe{font-size:15px;}\\n</style>\\n\"\"\"))',\n",
       "  \"def map_template(func, L=[]):\\n    '''\\n    L의 모든 요소를 func()함수를 적용시켜 return\\n    '''\\n    result = []\\n    for l in L:\\n        result.append(func(l))\\n    return result\\n#    return [func(l) for l in L]\",\n",
       "  'list_data = [1, 2, 3, 4, 5, 6, 7, 8, 9, 10]\\ndef x_2(x):\\n    return x*2\\nmap_template(x_2, list_data)',\n",
       "  '# 리스트 데이터를 가공 방법 1. map\\nlist_data = [1, 2, 3, 4, 5, 6, 7, 8, 9, 10]\\nmap_template(lambda x : x*2, list_data)\\n#def x_2(x):\\n#    return x*2\\n#map_template(x_2, list_data)',\n",
       "  '# 리스트 데이터를 가공 방법 2. 리스트 컴프리헨션\\n[l*2 for l in list_data]',\n",
       "  '# 리스트 데이터를 가공 방법 3. map():파이썬 내장함수\\nlist(map(lambda x : x*2, list_data))',\n",
       "  'for item in map(lambda x : x*2, list_data):\\n    print(item, end=\" \")',\n",
       "  \"'''\\n예제1. prices = [5000, 800, 1000, 6000]로 바꾸시오\\n'''\\nprices = ['5,000', '800', '1000', '6,000']\\nlist(map(lambda x : x.replace(',', ''), prices))\",\n",
       "  \"'''\\n예제1. prices = [5000, 800, 1000, 6000]로 바꾸시오\\n'''\\nprices = ['5,000', '800', '1000', '6,000']\\nlist(map(lambda int(x) : x.replace(',', ''), prices))\",\n",
       "  \"'''\\n예제1. prices = [5000, 800, 1000, 6000]로 바꾸시오\\n'''\\nprices = ['5,000', '800', '1000', '6,000']\\nlist(int(map(lambda x : x.replace(',', ''), prices)))\",\n",
       "  \"'''\\n예제1. prices = [5000, 800, 1000, 6000]로 바꾸시오\\n'''\\nprices = ['5,000', '800', '1000', '6,000']\\nlist(map(lambda x : x.replace(',', ''), prices))\",\n",
       "  \"'''\\n예제1. prices = [5000, 800, 1000, 6000]로 바꾸시오\\n'''\\nprices = ['5,000', '800', '1000', '6,000']\\nlist(map(lambda x : int(x.replace(',', '')), prices))\",\n",
       "  \"# '2000-01-01' => {'year':2000, 'month':1, 'day':1}\\ndef split_data(date):\\n    split_data = date.split('-')\",\n",
       "  'def member_func(member): # {\\'name\\':\\'홍길동\\', \\'birth\\':\\'2000-01-01\\'}\\n    \"{\\'name\\':\\'홍길동\\', \\'year\\':2000, \\'month\\':1, \\'day\\':1}식으로 return\"\\n    return {\\n        \\'name\\':member.get[\\'name\\'],\\n        \\'year\\':int(member[\\'birth\\'].split(\\'-\\')[0]),\\n        \\'month\\':int(member[\\'birth\\'].split(\\'-\\')[1]),\\n        \\'day\\':int(member[\\'birth\\'].split(\\'-\\')[2])\\n    }\\nmember_func(member1)',\n",
       "  \"'''\\n예제2. member1 = [{'name':'홍길동', 'birth':'2000-01-01'},\\n                  {'name':'신길동', 'birth':'1998-12-31'}]를\\n        member2 = [{'name':'홍길동', 'year':2000, 'month':1, 'day':1},\\n                  {'name':'신길동', 'year':1998, 'month':12, 'day':31}]를 바꿉니다\\n'''\\nmember1 = [{'name':'홍길동', 'birth':'2000-01-01'},\\n           {'name':'신길동', 'birth':'1998-12-31'}]\",\n",
       "  'def member_func(member): # {\\'name\\':\\'홍길동\\', \\'birth\\':\\'2000-01-01\\'}\\n    \"{\\'name\\':\\'홍길동\\', \\'year\\':2000, \\'month\\':1, \\'day\\':1}식으로 return\"\\n    return {\\n        \\'name\\':member.get[\\'name\\'],\\n        \\'year\\':int(member[\\'birth\\'].split(\\'-\\')[0]),\\n        \\'month\\':int(member[\\'birth\\'].split(\\'-\\')[1]),\\n        \\'day\\':int(member[\\'birth\\'].split(\\'-\\')[2])\\n    }\\nmember_func(member1)',\n",
       "  'def member_func(member): # {\\'name\\':\\'홍길동\\', \\'birth\\':\\'2000-01-01\\'}\\n    \"{\\'name\\':\\'홍길동\\', \\'year\\':2000, \\'month\\':1, \\'day\\':1}식으로 return\"\\n    return {\\n        \\'name\\':member.get[\\'name\\'],\\n        \\'year\\':int(member[\\'birth\\'].split(\\'-\\')[0]),\\n        \\'month\\':int(member[\\'birth\\'].split(\\'-\\')[1]),\\n        \\'day\\':int(member[\\'birth\\'].split(\\'-\\')[2])\\n    }\\nmember_func(member1[0])',\n",
       "  'def member_func(member): # {\\'name\\':\\'홍길동\\', \\'birth\\':\\'2000-01-01\\'}\\n    \"{\\'name\\':\\'홍길동\\', \\'year\\':2000, \\'month\\':1, \\'day\\':1}식으로 return\"\\n    return {\\n        \\'name\\':member.get[\\'name\\'],\\n        \\'year\\':int(member[\\'birth\\'].split(\\'-\\')[0]),\\n        \\'month\\':int(member[\\'birth\\'].split(\\'-\\')[1]),\\n        \\'day\\':int(member[\\'birth\\'].split(\\'-\\')[2]),\\n    }\\nmember_func(member1[0])',\n",
       "  \"'''\\n예제2. member1 = [{'name':'홍길동', 'birth':'2000-01-01'},\\n                  {'name':'신길동', 'birth':'1998-12-31'}]를\\n        member2 = [{'name':'홍길동', 'year':2000, 'month':1, 'day':1},\\n                  {'name':'신길동', 'year':1998, 'month':12, 'day':31}]를 바꿉니다\\n'''\\nmember1 = [{'name':'홍길동', 'birth':'2000-01-01'},\\n           {'name':'신길동', 'birth':'1998-12-31'}]\",\n",
       "  'def member_func(member): # {\\'name\\':\\'홍길동\\', \\'birth\\':\\'2000-01-01\\'}\\n    \"{\\'name\\':\\'홍길동\\', \\'year\\':2000, \\'month\\':1, \\'day\\':1}식으로 return\"\\n    return {\\n        \\'name\\':member.get[\\'name\\'],\\n        \\'year\\':int(member[\\'birth\\'].split(\\'-\\')[0]),\\n        \\'month\\':int(member[\\'birth\\'].split(\\'-\\')[1]),\\n        \\'day\\':int(member[\\'birth\\'].split(\\'-\\')[2]),\\n    }\\nmember_func(member1[0])',\n",
       "  'def member_func(member): # {\\'name\\':\\'홍길동\\', \\'birth\\':\\'2000-01-01\\'}\\n    \"{\\'name\\':\\'홍길동\\', \\'year\\':2000, \\'month\\':1, \\'day\\':1}식으로 return\"\\n    return {\\n        \\'name\\':member.get()\\'name\\'),\\n        \\'year\\':int(member[\\'birth\\'].split(\\'-\\')[0]),\\n        \\'month\\':int(member[\\'birth\\'].split(\\'-\\')[1]),\\n        \\'day\\':int(member[\\'birth\\'].split(\\'-\\')[2]),\\n    }\\nmember_func(member1[0])',\n",
       "  'def member_func(member): # {\\'name\\':\\'홍길동\\', \\'birth\\':\\'2000-01-01\\'}\\n    \"{\\'name\\':\\'홍길동\\', \\'year\\':2000, \\'month\\':1, \\'day\\':1}식으로 return\"\\n    return {\\n        \\'name\\':member.get(\\'name\\'),\\n        \\'year\\':int(member[\\'birth\\'].split(\\'-\\')[0]),\\n        \\'month\\':int(member[\\'birth\\'].split(\\'-\\')[1]),\\n        \\'day\\':int(member[\\'birth\\'].split(\\'-\\')[2]),\\n    }\\nmember_func(member1[0])',\n",
       "  \"member2 = list(map(lambda member : {\\n                        'name':member.get('name'),\\n                        'year':int(member['birth'].split('-')[0]),\\n                        'month':int(member['birth'].split('-')[1]),\\n                        'day':int(member['birth'].split('-')[2]),\\n                        },\\n         member1\\n        )\\n    )\",\n",
       "  \"member2 = list(map(lambda member : {\\n                        'name':member.get('name'),\\n                        'year':int(member['birth'].split('-')[0]),\\n                        'month':int(member['birth'].split('-')[1]),\\n                        'day':int(member['birth'].split('-')[2]),\\n                        },\\n         member1\\n        )\\n    )\\nmember2\",\n",
       "  \"# {'year': 2000, 'month': 1, 'day': 1} => '2000-01-01'를 return하는 함수\\ndef birth_date(date):\\n    birth_data = date.values()\\n    return '-'.join(birth_data)\\nbirth_date(member2)\",\n",
       "  \"# {'year': 2000, 'month': 1, 'day': 1} => '2000-01-01'를 return하는 함수\\ndef birth_date(date):\\n    birth_data = date.values()\\n    return '-'.join(birth_data)\\nbirth_date(member2[0])\",\n",
       "  \"# {'year': 2000, 'month': 1, 'day': 1} => '2000-01-01'를 return하는 함수\\ndef join_date(data):\\n    # print([data.get('year'), data.get('month'), data.get('day')])\\n    year = str(data.get('year'))\\n    month = data.get('month')\\n    if month < 10:\\n        month = '0'+ str(month)\\n    else:\\n        month = str(month)\\n    day = data.get('day')\\n    if day < 10:\\n        day = '0'+ str(day)\\n    else:\\n        day = str(day)\\n    return '-'.join([year, month, data.get('day')])\",\n",
       "  \"def join_date(data):\\n    print('{}-{:02}-{:02}'.format(data.get('year'), data.get('month'), data.get('day')))\",\n",
       "  \"join_date({'year':2000, 'month':1, 'day':1})\",\n",
       "  'split_date(member1)',\n",
       "  \"split_date('2000-01-01')\",\n",
       "  \"# '2000-01-01' => {'year':2000, 'month':1, 'day':1}\\ndef split_date(date):\\n    split_data = date.split('-')\\n    # print(split_data[0], split_data[1], split_data[2])\\n    return {'year' :int(split_data[0]),\\n            'month':int(split_data[1]),\\n            'day'  :int(split_data[2])}\",\n",
       "  \"split_date('2000-01-01')\",\n",
       "  \"def join_date(data):\\n    return '{year}-{month:02}-{day:02}'.format(**data)\",\n",
       "  \"join_date({'year':2000, 'month':1, 'day':1})\",\n",
       "  \"# {'name':'홍길동', 'year':2000, 'month':1, 'day':1}(member2)를\\n# {'name':'홍길동', 'birth':'2000-01-01'}으로 가공\\nlist(map(lambda member : {\\n                        'name' : member.get('name'),\\n                        'birth' : '{year}-{month:02}-{day:02}'.format(**data)\\n                        }\\n        ))\",\n",
       "  \"# {'name':'홍길동', 'year':2000, 'month':1, 'day':1}(member2)를\\n# {'name':'홍길동', 'birth':'2000-01-01'}으로 가공\\nlist(map(lambda member : {\\n                        'name' : member.get('name'),\\n                        'birth' : '{year}-{month:02}-{day:02}'.format(**member)\\n                        },\\n         member2\\n))\",\n",
       "  'def filter_template(func, L=[]):\\n    result = []\\n    for l in L:\\n        if func(l):\\n            result.append(l)\\n    return result',\n",
       "  'def evenChk(value):\\n    return value%2==0\\nevenChk(10), evenChk(-9)',\n",
       "  'list_data = [1, 2, 3, 4, 5]\\nfilter_template(lambda value : value%2==0, list_data)',\n",
       "  'list(filter(lambda value : value%2==0, list_data))',\n",
       "  '[data for data in list_data if data%2==0]',\n",
       "  '# 무조건 0번 item 기준으로 정렬\\nnumber2d = [[9,9,9,9,9],[1, 100],[10, 1]]\\nnumber2d.sort(reverse=True)\\nnumber2d',\n",
       "  \"pairs = [(2, 'two'), (1, 'one'), (4, 'four'), (3, 'three')]\\npairs.sort()\\npairs\",\n",
       "  '# 1번째 item 기준으로 정렬(abc순)\\npairs.sort(key=lambda pair : pair[1])\\npairs',\n",
       "  '# 합이 큰 순으로 정렬\\nnumber2d.sort(key = lambda item : sum(item), reverse=True)\\nnumber2d',\n",
       "  '# 리스트를 매개변수로 받아 합을 return\\n(lambda item : sum(item))([1,2,3])',\n",
       "  '# 합이 큰 순으로 정렬\\nnumber2d.sort(key = lambda item : sum(item), reverse=True)\\nnumber2d',\n",
       "  '# 합이 큰 순으로 정렬\\nnumber2d.sort(key = lambda item : sum(item), reverse=True)\\nnumber2d',\n",
       "  '# 리스트를 매개변수로 받아 합을 return\\n(lambda item : sum(item))([1,2,3])',\n",
       "  \"students = [\\n    {'name':'홍길동', 'score':90},\\n    {'name':'김길동', 'score':50},\\n    {'name':'윤길동', 'score':99},\\n]\",\n",
       "  \"# 이름순으로 정렬(ㄱㄴㄷ순)\\nstudents.sort(key = lambda data : data.get('name'))\",\n",
       "  \"# 이름순으로 정렬(ㄱㄴㄷ순)\\nstudents.sort(key = lambda data : data.get('name'))\\nstudents\",\n",
       "  '# 이름순으로 정렬(ㄱㄴㄷ순)\\nstudents.sort(key = lambda data : data.values)\\nstudents',\n",
       "  '# 이름순으로 정렬(ㄱㄴㄷ순)\\nstudents.sort(key = lambda data : data.values(0))\\nstudents',\n",
       "  '# 이름순으로 정렬(ㄱㄴㄷ순)\\nstudents.sort(key = lambda data : )\\nstudents',\n",
       "  \"# 이름순으로 정렬(ㄱㄴㄷ순)\\nstudents.sort(key = lambda data : data.get('name'))\\nstudents\",\n",
       "  \"students = [\\n    {'name':'홍길동', 'score':90},\\n    {'name':'김길동', 'score':50},\\n    {'name':'윤길동', 'score':99},\\n    {'score':100}\\n]\",\n",
       "  \"# 이름순으로 정렬(ㄱㄴㄷ순)\\nstudents.sort(key = lambda data : data.get('name','힣'))\\nstudents\",\n",
       "  \"# score순으로 정렬(내림차순정렬)\\nstudents.sort(key = lambda data : data.get('score', 0), reverse=True)\",\n",
       "  \"# score순으로 정렬(내림차순정렬)\\nstudents.sort(key = lambda data : data.get('score', 0), reverse=True)\\nstudents\",\n",
       "  \"# 책제목순 정렬(ㄱㄴㄷ순), 저자순 정렬(ㄱㄴㄷ순), 가격순 오름차순 정렬\\nbooks = [\\n    {'no':1, 'title':'강남 아파트 인사이트', 'writer':'오스틀', 'price':'25,200'},\\n    {'no':2, 'title':'단 한번의 삶', 'writer':'김영하', 'price':'18,100'},\\n    {'no':3, 'title':'흔한남매 19', 'writer':'백난도', 'price':'14,220'},\\n    {'no':4, 'title':'가격이잘못', 'writer':'홍길동', 'price':'-'},\\n    {'no':5, 'title':'가격이숫자', 'writer':'신길동', 'price':900},\\n    {'no':6, 'title':'가격이없음', 'writer':'김길동'},\\n]\",\n",
       "  \"books.sort(key = lambda book : book.get('title'))\\nbooks\",\n",
       "  \"books.sort(key = lambda book : book.get('writer'))\\nbooks\",\n",
       "  \"# 책제목순 정렬(ㄱㄴㄷ순), 저자순 정렬(ㄱㄴㄷ순), 가격순 오름차순 정렬\\nbooks = [\\n    {'no':1, 'title':'강남 아파트 인사이트', 'writer':'오스틀', 'price':'25,200'},\\n    {'no':2, 'title':'단 한번의 삶', 'writer':'김영하', 'price':'18,100'},\\n    {'no':3, 'title':'흔한남매 19', 'writer':'백난도', 'price':'14220'},\\n    {'no':4, 'title':'가격이잘못', 'writer':'홍길동', 'price':'-'},\\n    {'no':5, 'title':'가격이숫자', 'writer':'신길동', 'price':900},\\n    {'no':6, 'title':'가격이없음', 'writer':'김길동'},\\n]\",\n",
       "  \"books.sort(key = lambda book : book.get('title'))\\nbooks\",\n",
       "  \"books.sort(key = lambda book : book.get('writer'))\\nbooks\",\n",
       "  \"books.sort(key = lambda book : book.get('price', 0))\\nbooks\",\n",
       "  \"# '14,000' -> 14000 / 800 -> 800 / '-' -> 0\\ndef parse_int(price):\\n    print(type(price))\",\n",
       "  'parse_int(800)',\n",
       "  \"# '14,000' -> 14000 / 800 -> 800 / '-' -> 0\\ndef parse_int(price):\\n    # print(type(price))\\n    if isinstance(price, int):\\n        return price\",\n",
       "  'parse_int(800)',\n",
       "  \"# '14,000' -> 14000 / '2000' -> 2000 / 800 -> 800 / '-' -> 0\\ndef parse_int(price):\\n    # print(type(price))\\n    if isinstance(price, str) and price.replace(',', '').isdigit():\\n        return int(price.replace(',', ''))\\n    elif isinstance(price, int):\\n        return price\",\n",
       "  'parse_int(8000)',\n",
       "  \"parse_int('8000')\",\n",
       "  \"parse_int('8,000')\",\n",
       "  \"parse_int('8,000'), parse_int('8000'), parse_int(800)\",\n",
       "  \"parse_int('8,000'), parse_int('8000'), parse_int(800), parse_int('-')\",\n",
       "  \"# '14,000' -> 14000 / '2000' -> 2000 / 800 -> 800 / '-' -> 0\\ndef parse_int(price):\\n    # print(type(price))\\n    if isinstance(price, str) and price.replace(',', '').isdigit():\\n        return int(price.replace(',', ''))\\n    elif isinstance(price, int):\\n        return price\\n    else:\\n        return 0\",\n",
       "  \"parse_int('8,000'), parse_int('8000'), parse_int(800), parse_int('-')\",\n",
       "  \"# 책제목순 정렬(ㄱㄴㄷ순), 저자순 정렬(ㄱㄴㄷ순), 가격순 오름차순 정렬\\nbooks = [\\n    {'no':1, 'title':'강남 아파트 인사이트', 'writer':'오스틀', 'price':'25,200'},\\n    {'no':2, 'title':'단 한번의 삶', 'writer':'김영하', 'price':'18,100'},\\n    {'no':3, 'title':'흔한남매 19', 'writer':'백난도', 'price':'14,220'},\\n    {'no':4, 'title':'가격이잘못', 'writer':'홍길동', 'price':'-'},\\n    {'no':5, 'title':'가격이숫자', 'writer':'신길동', 'price':900},\\n    {'no':6, 'title':'가격이없음', 'writer':'김길동'},\\n]\",\n",
       "  \"books.sort(key = lambda book : book.get('title'))\\nbooks\",\n",
       "  \"books.sort(key = lambda book : book.get('writer'))\\nbooks\",\n",
       "  \"books.sort(key = lambda book : book.get('price', 0))\\nbooks\",\n",
       "  \"# '14,000' -> 14000 / '2000' -> 2000 / 800 -> 800 / '-' -> 0\\ndef parse_int(price):\\n    # print(type(price))\\n    if isinstance(price, str) and price.replace(',', '').isdigit():\\n        return int(price.replace(',', ''))\\n    elif isinstance(price, int):\\n        return price\\n    else:\\n        return 0\",\n",
       "  \"parse_int('8,000'), parse_int('8000'), parse_int(800), parse_int('-')\",\n",
       "  \"# {'no': 6, 'title': '가격이없음', 'writer': '김길동'} => 0 return\\n# {'no': 3, 'title': '흔한남매 19', 'writer': '백난도', 'price': '14,220'} => 14220\\n# 'no': 5, 'title': '가격이숫자', 'writer': '신길동', 'price': 900} => 900\",\n",
       "  \"# {'no': 6, 'title': '가격이없음', 'writer': '김길동'} => 0 return\\n# {'no': 3, 'title': '흔한남매 19', 'writer': '백난도', 'price': '14,220'} => 14220\\n# 'no': 5, 'title': '가격이숫자', 'writer': '신길동', 'price': 900} => 900\\ndef parse_int(book):\\n    if isinstance(book.get('price'), str) and \\\\\\n            book.get('price').replace(',', '').isdigit():\\n        return int(book.get(price).replace(',', ''))\\n    elif isinstance(book.get('price'), int):\\n        return book.get('price')\\n    else:\\n        return 0\\nparse_int(books[0])\",\n",
       "  \"# {'no': 6, 'title': '가격이없음', 'writer': '김길동'} => 0 return\\n# {'no': 3, 'title': '흔한남매 19', 'writer': '백난도', 'price': '14,220'} => 14220\\n# 'no': 5, 'title': '가격이숫자', 'writer': '신길동', 'price': 900} => 900\\ndef parse_int(book):\\n    if isinstance(book.get('price'), str) and \\\\\\n            book.get('price').replace(',', '').isdigit():\\n        return int(book.get(price).replace(',', ''))\\n    elif isinstance(book.get('price'), int):\\n        return book.get('price')\\n    else:\\n        return 0\\nparse_int(books[0]), parse_int(books[3]), parse_int(books[2])\",\n",
       "  \"# {'no': 6, 'title': '가격이없음', 'writer': '김길동'} => 0 return\\n# {'no': 3, 'title': '흔한남매 19', 'writer': '백난도', 'price': '14,220'} => 14220\\n# 'no': 5, 'title': '가격이숫자', 'writer': '신길동', 'price': 900} => 900\\ndef parse_int(book):\\n    if isinstance(book.get('price'), str) and \\\\\\n            book.get('price').replace(',', '').isdigit():\\n        return int(book.get(price).replace(',', ''))\\n    elif isinstance(book.get('price'), int):\\n        return book.get('price')\\n    else:\\n        return 0\\nparse_int(books[0]), parse_int(books[3])\",\n",
       "  \"# {'no': 6, 'title': '가격이없음', 'writer': '김길동'} => 0 return\\n# {'no': 3, 'title': '흔한남매 19', 'writer': '백난도', 'price': '14,220'} => 14220\\n# 'no': 5, 'title': '가격이숫자', 'writer': '신길동', 'price': 900} => 900\\ndef parse_int(book):\\n    if isinstance(book.get('price'), str) and \\\\\\n            book.get('price').replace(',', '').isdigit():\\n        return int(book.get(price).replace(',', ''))\\n    elif isinstance(book.get('price'), int):\\n        return book.get('price')\\n    else:\\n        return 0\\nparse_int(books[0]), parse_int(books[3]), parse_int(books[2])\",\n",
       "  \"# 책제목순 정렬(ㄱㄴㄷ순), 저자순 정렬(ㄱㄴㄷ순), 가격순 오름차순 정렬\\nbooks = [\\n    {'no':1, 'title':'강남 아파트 인사이트', 'writer':'오스틀', 'price':'25,200'},\\n    {'no':2, 'title':'단 한번의 삶', 'writer':'김영하', 'price':'18,100'},\\n    {'no':3, 'title':'흔한남매 19', 'writer':'백난도', 'price':'14,220'},\\n    {'no':4, 'title':'가격이잘못', 'writer':'홍길동', 'price':'-'},\\n    {'no':5, 'title':'가격이숫자', 'writer':'신길동', 'price':900},\\n    {'no':6, 'title':'가격이없음', 'writer':'김길동'},\\n]\",\n",
       "  \"# {'no': 6, 'title': '가격이없음', 'writer': '김길동'} => 0 return\\n# {'no': 3, 'title': '흔한남매 19', 'writer': '백난도', 'price': '14,220'} => 14220\\n# 'no': 5, 'title': '가격이숫자', 'writer': '신길동', 'price': 900} => 900\\ndef parse_int(book):\\n    if isinstance(book.get('price'), str) and \\\\\\n            book.get('price').replace(',', '').isdigit():\\n        return int(book.get(price).replace(',', ''))\\n    elif isinstance(book.get('price'), int):\\n        return book.get('price')\\n    else:\\n        return 0\\nparse_int(books[0]), parse_int(books[3]), parse_int(books[2])\",\n",
       "  \"# {'no': 6, 'title': '가격이없음', 'writer': '김길동'} => 0 return\\n# {'no': 3, 'title': '흔한남매 19', 'writer': '백난도', 'price': '14,220'} => 14220\\n# 'no': 5, 'title': '가격이숫자', 'writer': '신길동', 'price': 900} => 900\\ndef parse_int(book):\\n    if isinstance(book.get('price'), str) and \\\\\\n            book.get('price').replace(',', '').isdigit():\\n        return int(book.get(price).replace(',', ''))\\n    elif isinstance(book.get('price'), int):\\n        return book.get('price')\\n    else:\\n        return 0\\nparse_int(books[0]), parse_int(books[3]), parse_int(books[2])\",\n",
       "  \"# {'no': 6, 'title': '가격이없음', 'writer': '김길동'} => 0 return\\n# {'no': 3, 'title': '흔한남매 19', 'writer': '백난도', 'price': '14,220'} => 14220\\n# 'no': 5, 'title': '가격이숫자', 'writer': '신길동', 'price': 900} => 900\\ndef parse_int(book):\\n    if isinstance(book.get('price'), str) and \\\\\\n            book.get('price').replace(',', '').isdigit():\\n        return int(book.get(price).replace(',', ''))\\n    elif isinstance(book.get('price'), int):\\n        return book.get('price')\\n    else:\\n        return 0\\nparse_int(books[0]), parse_int(books[3]), parse_int(books[2]), parse_int(books[6])\",\n",
       "  \"# {'no': 6, 'title': '가격이없음', 'writer': '김길동'} => 0 return\\n# {'no': 3, 'title': '흔한남매 19', 'writer': '백난도', 'price': '14,220'} => 14220\\n# 'no': 5, 'title': '가격이숫자', 'writer': '신길동', 'price': 900} => 900\\ndef parse_int(book):\\n    if isinstance(book.get('price'), str) and \\\\\\n            book.get('price').replace(',', '').isdigit():\\n        return int(book.get(price).replace(',', ''))\\n    elif isinstance(book.get('price'), int):\\n        return book.get('price')\\n    else:\\n        return 0\\nparse_int(books[0]), parse_int(books[3]), parse_int(books[2])\",\n",
       "  \"# {'no': 6, 'title': '가격이없음', 'writer': '김길동'} => 0 return\\n# {'no': 3, 'title': '흔한남매 19', 'writer': '백난도', 'price': '14,220'} => 14220\\n# 'no': 5, 'title': '가격이숫자', 'writer': '신길동', 'price': 900} => 900\\ndef parse_int(book):\\n    if isinstance(book.get('price'), str) and \\\\\\n            book.get('price').replace(',', '').isdigit():\\n        return int(book.get('price').replace(',', ''))\\n    elif isinstance(book.get('price'), int):\\n        return book.get('price')\\n    else:\\n        return 0\\nparse_int(books[0]), parse_int(books[3]), parse_int(books[2])\",\n",
       "  \"# {'no': 6, 'title': '가격이없음', 'writer': '김길동'} => 0 return\\n# {'no': 3, 'title': '흔한남매 19', 'writer': '백난도', 'price': '14,220'} => 14220\\n# {'no': 5, 'title': '가격이숫자', 'writer': '신길동', 'price': 900} => 900\\ndef parse_int(book):\\n    if isinstance(book.get('price'), str) and \\\\\\n            book.get('price').replace(',', '').isdigit(): # isdigit() : 문자열이 숫자문자열인지 여부\\n        return int(book.get('price').replace(',', ''))\\n    elif isinstance(book.get('price'), int):\\n        return book.get('price')\\n    else:\\n        return 0\\nparse_int(books[0]), parse_int(books[3]), parse_int(books[2])\",\n",
       "  \"books = [\\n    {'no':1, 'title':'강남 아파트 인사이트', 'writer':'오스틀', 'price':'25,200'},\\n    {'no':2, 'title':'단 한번의 삶', 'writer':'김영하', 'price':'18,100'},\\n    {'no':3, 'title':'흔한남매 19', 'writer':'백난도', 'price':'14,220'},\\n    {'no':4, 'title':'가격이잘못', 'writer':'홍길동', 'price':'-'},\\n    {'no':5, 'title':'가격이숫자', 'writer':'신길동', 'price':900},\\n    {'no':6, 'title':'가격이없음', 'writer':'김길동'},\\n]\",\n",
       "  \"books = [\\n    {'no':1, 'title':'강남 아파트 인사이트', 'writer':'오스틀', 'price':'25,200'},\\n    {'no':2, 'title':'단 한번의 삶', 'writer':'김영하', 'price':'18,100'},\\n    {'no':3, 'title':'흔한남매 19', 'writer':'백난도', 'price':'14,220'},\\n    {'no':4, 'title':'가격이잘못', 'writer':'홍길동', 'price':'-'},\\n    {'no':5, 'title':'가격이숫자', 'writer':'신길동', 'price':900},\\n    {'no':6, 'title':'가격이없음', 'writer':'김길동'},\\n]\\ncopy_books = books.copy()\",\n",
       "  \"copy_books.sort(key = lambda book :\\n                int(book.get('price').replace(',', '')) \\\\\\n                    if isinstance(book.get('price'), str) and \\\\\\n                        book.get('price').replace(',', '').isdigit() else \\\\\\n                book.get('price') if isinstance(book.get('price'), int) else \\\\\\n                0\\n               )\",\n",
       "  'copy_books',\n",
       "  'books',\n",
       "  \"(lambda book :\\n                int(book.get('price').replace(',', '')) \\\\\\n                    if isinstance(book.get('price'), str) and \\\\\\n                        book.get('price').replace(',', '').isdigit() else \\\\\\n                book.get('price') if isinstance(book.get('price'), int) else \\\\\\n                0)(books[0])\",\n",
       "  \"# 람다식 테스트 확인\\n(lambda book :\\n                int(book.get('price').replace(',', '')) \\\\\\n                    if isinstance(book.get('price'), str) and \\\\\\n                        book.get('price').replace(',', '').isdigit() else \\\\\\n                book.get('price') if isinstance(book.get('price'), int) else \\\\\\n                0)(books[0])\",\n",
       "  \"# 람다식 테스트 확인\\n(lambda book :\\n                int(book.get('price').replace(',', '')) \\\\\\n                    if isinstance(book.get('price'), str) and \\\\\\n                        book.get('price').replace(',', '').isdigit() else \\\\\\n                book.get('price') if isinstance(book.get('price'), int) else \\\\\\n                0)(copy_books[0])\",\n",
       "  '# 함수를 return\\ndef make_box(shape): # shape : [l] => len가 l인 list를 생성하는 함수 return\\n                     #         [r, c] => r행 c열인 2차원 list를 생성하는 함수 return\\n                     #         [d, r, c] => d면 r행 c열 3차원 list를 생성하는 함수 return\\n    def box(init_value):\\n        if len(shape)==1:\\n            return [init_value]*shape[0]\\n        elif len(shape)==2:\\n            return [[init_value]*shape[1]]*shape[0]\\n    return box',\n",
       "  'line_func = make_box([2, 3])',\n",
       "  'line_func = make_box([2, 3])\\nline_func(3)',\n",
       "  'line_func1 = make_box([10])\\nline_func1(3)',\n",
       "  'def make_box(shape):\\n    if len(shape)==1:\\n        return lambda init_value : [init_value]*shape[0]\\n    elif len(shape)==2:\\n        return lambda init_value : [[init_value]*shape[1]]*shape[0]',\n",
       "  'globals() # 전역변수 리스트'],\n",
       " 'Out': {3: [2, 4, 6, 8, 10, 12, 14, 16, 18, 20],\n",
       "  4: [2, 4, 6, 8, 10, 12, 14, 16, 18, 20],\n",
       "  5: [2, 4, 6, 8, 10, 12, 14, 16, 18, 20],\n",
       "  6: [2, 4, 6, 8, 10, 12, 14, 16, 18, 20],\n",
       "  8: ['5000', '800', '1000', '6000'],\n",
       "  11: ['5000', '800', '1000', '6000'],\n",
       "  12: [5000, 800, 1000, 6000],\n",
       "  22: {'name': '홍길동', 'year': 2000, 'month': 1, 'day': 1},\n",
       "  24: [{'name': '홍길동', 'year': 2000, 'month': 1, 'day': 1},\n",
       "   {'name': '신길동', 'year': 1998, 'month': 12, 'day': 31}],\n",
       "  33: {'year': 2000, 'month': 1, 'day': 1},\n",
       "  35: '2000-01-01',\n",
       "  37: [{'name': '홍길동', 'birth': '2000-01-01'},\n",
       "   {'name': '신길동', 'birth': '1998-12-31'}],\n",
       "  39: (True, False),\n",
       "  40: [2, 4],\n",
       "  41: [2, 4],\n",
       "  42: [2, 4],\n",
       "  43: [[1, 100], [9, 9, 9, 9, 9], [10, 1]],\n",
       "  44: [(4, 'four'), (1, 'one'), (3, 'three'), (2, 'two')],\n",
       "  45: [(4, 'four'), (1, 'one'), (3, 'three'), (2, 'two')],\n",
       "  46: [[1, 100], [9, 9, 9, 9, 9], [10, 1]],\n",
       "  47: 6,\n",
       "  48: [[1, 100], [9, 9, 9, 9, 9], [10, 1]],\n",
       "  49: [[1, 100], [9, 9, 9, 9, 9], [10, 1]],\n",
       "  50: 6,\n",
       "  53: [{'name': '김길동', 'score': 50},\n",
       "   {'name': '윤길동', 'score': 99},\n",
       "   {'name': '홍길동', 'score': 90}],\n",
       "  57: [{'name': '김길동', 'score': 50},\n",
       "   {'name': '윤길동', 'score': 99},\n",
       "   {'name': '홍길동', 'score': 90}],\n",
       "  59: [{'score': 100},\n",
       "   {'name': '윤길동', 'score': 99},\n",
       "   {'name': '홍길동', 'score': 90},\n",
       "   {'name': '김길동', 'score': 50}],\n",
       "  61: [{'score': 100},\n",
       "   {'name': '윤길동', 'score': 99},\n",
       "   {'name': '홍길동', 'score': 90},\n",
       "   {'name': '김길동', 'score': 50}],\n",
       "  63: [{'no': 6, 'title': '가격이없음', 'writer': '김길동'},\n",
       "   {'no': 2, 'title': '단 한번의 삶', 'writer': '김영하', 'price': '18,100'},\n",
       "   {'no': 3, 'title': '흔한남매 19', 'writer': '백난도', 'price': '14,220'},\n",
       "   {'no': 5, 'title': '가격이숫자', 'writer': '신길동', 'price': 900},\n",
       "   {'no': 1, 'title': '강남 아파트 인사이트', 'writer': '오스틀', 'price': '25,200'},\n",
       "   {'no': 4, 'title': '가격이잘못', 'writer': '홍길동', 'price': '-'}],\n",
       "  64: [{'no': 6, 'title': '가격이없음', 'writer': '김길동'},\n",
       "   {'no': 2, 'title': '단 한번의 삶', 'writer': '김영하', 'price': '18,100'},\n",
       "   {'no': 3, 'title': '흔한남매 19', 'writer': '백난도', 'price': '14,220'},\n",
       "   {'no': 5, 'title': '가격이숫자', 'writer': '신길동', 'price': 900},\n",
       "   {'no': 1, 'title': '강남 아파트 인사이트', 'writer': '오스틀', 'price': '25,200'},\n",
       "   {'no': 4, 'title': '가격이잘못', 'writer': '홍길동', 'price': '-'}],\n",
       "  66: [{'no': 6, 'title': '가격이없음', 'writer': '김길동'},\n",
       "   {'no': 2, 'title': '단 한번의 삶', 'writer': '김영하', 'price': '18,100'},\n",
       "   {'no': 3, 'title': '흔한남매 19', 'writer': '백난도', 'price': '14220'},\n",
       "   {'no': 5, 'title': '가격이숫자', 'writer': '신길동', 'price': 900},\n",
       "   {'no': 1, 'title': '강남 아파트 인사이트', 'writer': '오스틀', 'price': '25,200'},\n",
       "   {'no': 4, 'title': '가격이잘못', 'writer': '홍길동', 'price': '-'}],\n",
       "  67: [{'no': 6, 'title': '가격이없음', 'writer': '김길동'},\n",
       "   {'no': 2, 'title': '단 한번의 삶', 'writer': '김영하', 'price': '18,100'},\n",
       "   {'no': 3, 'title': '흔한남매 19', 'writer': '백난도', 'price': '14220'},\n",
       "   {'no': 5, 'title': '가격이숫자', 'writer': '신길동', 'price': 900},\n",
       "   {'no': 1, 'title': '강남 아파트 인사이트', 'writer': '오스틀', 'price': '25,200'},\n",
       "   {'no': 4, 'title': '가격이잘못', 'writer': '홍길동', 'price': '-'}],\n",
       "  72: 800,\n",
       "  74: 8000,\n",
       "  75: 8000,\n",
       "  76: 8000,\n",
       "  77: (8000, 8000, 800),\n",
       "  78: (8000, 8000, 800, None),\n",
       "  80: (8000, 8000, 800, 0),\n",
       "  82: [{'no': 6, 'title': '가격이없음', 'writer': '김길동'},\n",
       "   {'no': 2, 'title': '단 한번의 삶', 'writer': '김영하', 'price': '18,100'},\n",
       "   {'no': 3, 'title': '흔한남매 19', 'writer': '백난도', 'price': '14,220'},\n",
       "   {'no': 5, 'title': '가격이숫자', 'writer': '신길동', 'price': 900},\n",
       "   {'no': 1, 'title': '강남 아파트 인사이트', 'writer': '오스틀', 'price': '25,200'},\n",
       "   {'no': 4, 'title': '가격이잘못', 'writer': '홍길동', 'price': '-'}],\n",
       "  83: [{'no': 6, 'title': '가격이없음', 'writer': '김길동'},\n",
       "   {'no': 2, 'title': '단 한번의 삶', 'writer': '김영하', 'price': '18,100'},\n",
       "   {'no': 3, 'title': '흔한남매 19', 'writer': '백난도', 'price': '14,220'},\n",
       "   {'no': 5, 'title': '가격이숫자', 'writer': '신길동', 'price': 900},\n",
       "   {'no': 1, 'title': '강남 아파트 인사이트', 'writer': '오스틀', 'price': '25,200'},\n",
       "   {'no': 4, 'title': '가격이잘못', 'writer': '홍길동', 'price': '-'}],\n",
       "  86: (8000, 8000, 800, 0),\n",
       "  88: 0,\n",
       "  90: (0, 900),\n",
       "  97: (25200, 0, 14220),\n",
       "  98: (25200, 0, 14220),\n",
       "  102: [{'no': 4, 'title': '가격이잘못', 'writer': '홍길동', 'price': '-'},\n",
       "   {'no': 6, 'title': '가격이없음', 'writer': '김길동'},\n",
       "   {'no': 5, 'title': '가격이숫자', 'writer': '신길동', 'price': 900},\n",
       "   {'no': 3, 'title': '흔한남매 19', 'writer': '백난도', 'price': '14,220'},\n",
       "   {'no': 2, 'title': '단 한번의 삶', 'writer': '김영하', 'price': '18,100'},\n",
       "   {'no': 1, 'title': '강남 아파트 인사이트', 'writer': '오스틀', 'price': '25,200'}],\n",
       "  103: [{'no': 1, 'title': '강남 아파트 인사이트', 'writer': '오스틀', 'price': '25,200'},\n",
       "   {'no': 2, 'title': '단 한번의 삶', 'writer': '김영하', 'price': '18,100'},\n",
       "   {'no': 3, 'title': '흔한남매 19', 'writer': '백난도', 'price': '14,220'},\n",
       "   {'no': 4, 'title': '가격이잘못', 'writer': '홍길동', 'price': '-'},\n",
       "   {'no': 5, 'title': '가격이숫자', 'writer': '신길동', 'price': 900},\n",
       "   {'no': 6, 'title': '가격이없음', 'writer': '김길동'}],\n",
       "  104: 25200,\n",
       "  105: 25200,\n",
       "  106: 0,\n",
       "  109: [[3, 3, 3], [3, 3, 3]],\n",
       "  110: [3, 3, 3, 3, 3, 3, 3, 3, 3, 3]},\n",
       " 'get_ipython': <bound method InteractiveShell.get_ipython of <ipykernel.zmqshell.ZMQInteractiveShell object at 0x00000118359AFD60>>,\n",
       " 'exit': <IPython.core.autocall.ZMQExitAutocall at 0x118359bf5e0>,\n",
       " 'quit': <IPython.core.autocall.ZMQExitAutocall at 0x118359bf5e0>,\n",
       " 'open': <function io.open(file, mode='r', buffering=-1, encoding=None, errors=None, newline=None, closefd=True, opener=None)>,\n",
       " '_': [3, 3, 3, 3, 3, 3, 3, 3, 3, 3],\n",
       " '__': [[3, 3, 3], [3, 3, 3]],\n",
       " '___': 0,\n",
       " '_i': 'def make_box(shape):\\n    if len(shape)==1:\\n        return lambda init_value : [init_value]*shape[0]\\n    elif len(shape)==2:\\n        return lambda init_value : [[init_value]*shape[1]]*shape[0]',\n",
       " '_ii': 'line_func1 = make_box([10])\\nline_func1(3)',\n",
       " '_iii': 'line_func = make_box([2, 3])\\nline_func(3)',\n",
       " '_i1': 'from IPython.display import display, HTML\\ndisplay(HTML(\"\"\"\\n<style>\\ndiv.container{width:86% !important;}\\ndiv.cell.code_cell.rendered{width:100%;}\\ndiv.CodeMirror{font-family:Consolas; font-size:15pt;}\\ndiv.output{font-size:12pt; font-weight:bold;}\\ndiv.input{font-family:Consolas; font-size:12pt;}\\ndiv.prompt{min-width:70px;}\\ndiv#toc-wrapper {padding-top:120px;}\\ndiv.text_cell_render ul li{font-size:12pt;padding:5px;}\\ntable.dataframe{font-size:15px;}\\n</style>\\n\"\"\"))',\n",
       " 'display': <function IPython.core.display_functions.display(*objs, include=None, exclude=None, metadata=None, transient=None, display_id=None, raw=False, clear=False, **kwargs)>,\n",
       " 'HTML': IPython.core.display.HTML,\n",
       " '_i2': \"def map_template(func, L=[]):\\n    '''\\n    L의 모든 요소를 func()함수를 적용시켜 return\\n    '''\\n    result = []\\n    for l in L:\\n        result.append(func(l))\\n    return result\\n#    return [func(l) for l in L]\",\n",
       " 'map_template': <function __main__.map_template(func, L=[])>,\n",
       " '_i3': 'list_data = [1, 2, 3, 4, 5, 6, 7, 8, 9, 10]\\ndef x_2(x):\\n    return x*2\\nmap_template(x_2, list_data)',\n",
       " 'list_data': [1, 2, 3, 4, 5],\n",
       " 'x_2': <function __main__.x_2(x)>,\n",
       " '_3': [2, 4, 6, 8, 10, 12, 14, 16, 18, 20],\n",
       " '_i4': '# 리스트 데이터를 가공 방법 1. map\\nlist_data = [1, 2, 3, 4, 5, 6, 7, 8, 9, 10]\\nmap_template(lambda x : x*2, list_data)\\n#def x_2(x):\\n#    return x*2\\n#map_template(x_2, list_data)',\n",
       " '_4': [2, 4, 6, 8, 10, 12, 14, 16, 18, 20],\n",
       " '_i5': '# 리스트 데이터를 가공 방법 2. 리스트 컴프리헨션\\n[l*2 for l in list_data]',\n",
       " '_5': [2, 4, 6, 8, 10, 12, 14, 16, 18, 20],\n",
       " '_i6': '# 리스트 데이터를 가공 방법 3. map():파이썬 내장함수\\nlist(map(lambda x : x*2, list_data))',\n",
       " '_6': [2, 4, 6, 8, 10, 12, 14, 16, 18, 20],\n",
       " '_i7': 'for item in map(lambda x : x*2, list_data):\\n    print(item, end=\" \")',\n",
       " 'item': 20,\n",
       " '_i8': \"'''\\n예제1. prices = [5000, 800, 1000, 6000]로 바꾸시오\\n'''\\nprices = ['5,000', '800', '1000', '6,000']\\nlist(map(lambda x : x.replace(',', ''), prices))\",\n",
       " 'prices': ['5,000', '800', '1000', '6,000'],\n",
       " '_8': ['5000', '800', '1000', '6000'],\n",
       " '_i9': \"'''\\n예제1. prices = [5000, 800, 1000, 6000]로 바꾸시오\\n'''\\nprices = ['5,000', '800', '1000', '6,000']\\nlist(map(lambda int(x) : x.replace(',', ''), prices))\",\n",
       " '_i10': \"'''\\n예제1. prices = [5000, 800, 1000, 6000]로 바꾸시오\\n'''\\nprices = ['5,000', '800', '1000', '6,000']\\nlist(int(map(lambda x : x.replace(',', ''), prices)))\",\n",
       " '_i11': \"'''\\n예제1. prices = [5000, 800, 1000, 6000]로 바꾸시오\\n'''\\nprices = ['5,000', '800', '1000', '6,000']\\nlist(map(lambda x : x.replace(',', ''), prices))\",\n",
       " '_11': ['5000', '800', '1000', '6000'],\n",
       " '_i12': \"'''\\n예제1. prices = [5000, 800, 1000, 6000]로 바꾸시오\\n'''\\nprices = ['5,000', '800', '1000', '6,000']\\nlist(map(lambda x : int(x.replace(',', '')), prices))\",\n",
       " '_12': [5000, 800, 1000, 6000],\n",
       " '_i13': \"# '2000-01-01' => {'year':2000, 'month':1, 'day':1}\\ndef split_data(date):\\n    split_data = date.split('-')\",\n",
       " 'split_data': <function __main__.split_data(date)>,\n",
       " '_i14': 'def member_func(member): # {\\'name\\':\\'홍길동\\', \\'birth\\':\\'2000-01-01\\'}\\n    \"{\\'name\\':\\'홍길동\\', \\'year\\':2000, \\'month\\':1, \\'day\\':1}식으로 return\"\\n    return {\\n        \\'name\\':member.get[\\'name\\'],\\n        \\'year\\':int(member[\\'birth\\'].split(\\'-\\')[0]),\\n        \\'month\\':int(member[\\'birth\\'].split(\\'-\\')[1]),\\n        \\'day\\':int(member[\\'birth\\'].split(\\'-\\')[2])\\n    }\\nmember_func(member1)',\n",
       " 'member_func': <function __main__.member_func(member)>,\n",
       " '_i15': \"'''\\n예제2. member1 = [{'name':'홍길동', 'birth':'2000-01-01'},\\n                  {'name':'신길동', 'birth':'1998-12-31'}]를\\n        member2 = [{'name':'홍길동', 'year':2000, 'month':1, 'day':1},\\n                  {'name':'신길동', 'year':1998, 'month':12, 'day':31}]를 바꿉니다\\n'''\\nmember1 = [{'name':'홍길동', 'birth':'2000-01-01'},\\n           {'name':'신길동', 'birth':'1998-12-31'}]\",\n",
       " 'member1': [{'name': '홍길동', 'birth': '2000-01-01'},\n",
       "  {'name': '신길동', 'birth': '1998-12-31'}],\n",
       " '_i16': 'def member_func(member): # {\\'name\\':\\'홍길동\\', \\'birth\\':\\'2000-01-01\\'}\\n    \"{\\'name\\':\\'홍길동\\', \\'year\\':2000, \\'month\\':1, \\'day\\':1}식으로 return\"\\n    return {\\n        \\'name\\':member.get[\\'name\\'],\\n        \\'year\\':int(member[\\'birth\\'].split(\\'-\\')[0]),\\n        \\'month\\':int(member[\\'birth\\'].split(\\'-\\')[1]),\\n        \\'day\\':int(member[\\'birth\\'].split(\\'-\\')[2])\\n    }\\nmember_func(member1)',\n",
       " '_i17': 'def member_func(member): # {\\'name\\':\\'홍길동\\', \\'birth\\':\\'2000-01-01\\'}\\n    \"{\\'name\\':\\'홍길동\\', \\'year\\':2000, \\'month\\':1, \\'day\\':1}식으로 return\"\\n    return {\\n        \\'name\\':member.get[\\'name\\'],\\n        \\'year\\':int(member[\\'birth\\'].split(\\'-\\')[0]),\\n        \\'month\\':int(member[\\'birth\\'].split(\\'-\\')[1]),\\n        \\'day\\':int(member[\\'birth\\'].split(\\'-\\')[2])\\n    }\\nmember_func(member1[0])',\n",
       " '_i18': 'def member_func(member): # {\\'name\\':\\'홍길동\\', \\'birth\\':\\'2000-01-01\\'}\\n    \"{\\'name\\':\\'홍길동\\', \\'year\\':2000, \\'month\\':1, \\'day\\':1}식으로 return\"\\n    return {\\n        \\'name\\':member.get[\\'name\\'],\\n        \\'year\\':int(member[\\'birth\\'].split(\\'-\\')[0]),\\n        \\'month\\':int(member[\\'birth\\'].split(\\'-\\')[1]),\\n        \\'day\\':int(member[\\'birth\\'].split(\\'-\\')[2]),\\n    }\\nmember_func(member1[0])',\n",
       " '_i19': \"'''\\n예제2. member1 = [{'name':'홍길동', 'birth':'2000-01-01'},\\n                  {'name':'신길동', 'birth':'1998-12-31'}]를\\n        member2 = [{'name':'홍길동', 'year':2000, 'month':1, 'day':1},\\n                  {'name':'신길동', 'year':1998, 'month':12, 'day':31}]를 바꿉니다\\n'''\\nmember1 = [{'name':'홍길동', 'birth':'2000-01-01'},\\n           {'name':'신길동', 'birth':'1998-12-31'}]\",\n",
       " '_i20': 'def member_func(member): # {\\'name\\':\\'홍길동\\', \\'birth\\':\\'2000-01-01\\'}\\n    \"{\\'name\\':\\'홍길동\\', \\'year\\':2000, \\'month\\':1, \\'day\\':1}식으로 return\"\\n    return {\\n        \\'name\\':member.get[\\'name\\'],\\n        \\'year\\':int(member[\\'birth\\'].split(\\'-\\')[0]),\\n        \\'month\\':int(member[\\'birth\\'].split(\\'-\\')[1]),\\n        \\'day\\':int(member[\\'birth\\'].split(\\'-\\')[2]),\\n    }\\nmember_func(member1[0])',\n",
       " '_i21': 'def member_func(member): # {\\'name\\':\\'홍길동\\', \\'birth\\':\\'2000-01-01\\'}\\n    \"{\\'name\\':\\'홍길동\\', \\'year\\':2000, \\'month\\':1, \\'day\\':1}식으로 return\"\\n    return {\\n        \\'name\\':member.get()\\'name\\'),\\n        \\'year\\':int(member[\\'birth\\'].split(\\'-\\')[0]),\\n        \\'month\\':int(member[\\'birth\\'].split(\\'-\\')[1]),\\n        \\'day\\':int(member[\\'birth\\'].split(\\'-\\')[2]),\\n    }\\nmember_func(member1[0])',\n",
       " '_i22': 'def member_func(member): # {\\'name\\':\\'홍길동\\', \\'birth\\':\\'2000-01-01\\'}\\n    \"{\\'name\\':\\'홍길동\\', \\'year\\':2000, \\'month\\':1, \\'day\\':1}식으로 return\"\\n    return {\\n        \\'name\\':member.get(\\'name\\'),\\n        \\'year\\':int(member[\\'birth\\'].split(\\'-\\')[0]),\\n        \\'month\\':int(member[\\'birth\\'].split(\\'-\\')[1]),\\n        \\'day\\':int(member[\\'birth\\'].split(\\'-\\')[2]),\\n    }\\nmember_func(member1[0])',\n",
       " '_22': {'name': '홍길동', 'year': 2000, 'month': 1, 'day': 1},\n",
       " '_i23': \"member2 = list(map(lambda member : {\\n                        'name':member.get('name'),\\n                        'year':int(member['birth'].split('-')[0]),\\n                        'month':int(member['birth'].split('-')[1]),\\n                        'day':int(member['birth'].split('-')[2]),\\n                        },\\n         member1\\n        )\\n    )\",\n",
       " 'member2': [{'name': '홍길동', 'year': 2000, 'month': 1, 'day': 1},\n",
       "  {'name': '신길동', 'year': 1998, 'month': 12, 'day': 31}],\n",
       " '_i24': \"member2 = list(map(lambda member : {\\n                        'name':member.get('name'),\\n                        'year':int(member['birth'].split('-')[0]),\\n                        'month':int(member['birth'].split('-')[1]),\\n                        'day':int(member['birth'].split('-')[2]),\\n                        },\\n         member1\\n        )\\n    )\\nmember2\",\n",
       " '_24': [{'name': '홍길동', 'year': 2000, 'month': 1, 'day': 1},\n",
       "  {'name': '신길동', 'year': 1998, 'month': 12, 'day': 31}],\n",
       " '_i25': \"# {'year': 2000, 'month': 1, 'day': 1} => '2000-01-01'를 return하는 함수\\ndef birth_date(date):\\n    birth_data = date.values()\\n    return '-'.join(birth_data)\\nbirth_date(member2)\",\n",
       " 'birth_date': <function __main__.birth_date(date)>,\n",
       " '_i26': \"# {'year': 2000, 'month': 1, 'day': 1} => '2000-01-01'를 return하는 함수\\ndef birth_date(date):\\n    birth_data = date.values()\\n    return '-'.join(birth_data)\\nbirth_date(member2[0])\",\n",
       " '_i27': \"# {'year': 2000, 'month': 1, 'day': 1} => '2000-01-01'를 return하는 함수\\ndef join_date(data):\\n    # print([data.get('year'), data.get('month'), data.get('day')])\\n    year = str(data.get('year'))\\n    month = data.get('month')\\n    if month < 10:\\n        month = '0'+ str(month)\\n    else:\\n        month = str(month)\\n    day = data.get('day')\\n    if day < 10:\\n        day = '0'+ str(day)\\n    else:\\n        day = str(day)\\n    return '-'.join([year, month, data.get('day')])\",\n",
       " 'join_date': <function __main__.join_date(data)>,\n",
       " '_i28': \"def join_date(data):\\n    print('{}-{:02}-{:02}'.format(data.get('year'), data.get('month'), data.get('day')))\",\n",
       " '_i29': \"join_date({'year':2000, 'month':1, 'day':1})\",\n",
       " '_i30': 'split_date(member1)',\n",
       " '_i31': \"split_date('2000-01-01')\",\n",
       " '_i32': \"# '2000-01-01' => {'year':2000, 'month':1, 'day':1}\\ndef split_date(date):\\n    split_data = date.split('-')\\n    # print(split_data[0], split_data[1], split_data[2])\\n    return {'year' :int(split_data[0]),\\n            'month':int(split_data[1]),\\n            'day'  :int(split_data[2])}\",\n",
       " 'split_date': <function __main__.split_date(date)>,\n",
       " '_i33': \"split_date('2000-01-01')\",\n",
       " '_33': {'year': 2000, 'month': 1, 'day': 1},\n",
       " '_i34': \"def join_date(data):\\n    return '{year}-{month:02}-{day:02}'.format(**data)\",\n",
       " '_i35': \"join_date({'year':2000, 'month':1, 'day':1})\",\n",
       " '_35': '2000-01-01',\n",
       " '_i36': \"# {'name':'홍길동', 'year':2000, 'month':1, 'day':1}(member2)를\\n# {'name':'홍길동', 'birth':'2000-01-01'}으로 가공\\nlist(map(lambda member : {\\n                        'name' : member.get('name'),\\n                        'birth' : '{year}-{month:02}-{day:02}'.format(**data)\\n                        }\\n        ))\",\n",
       " '_i37': \"# {'name':'홍길동', 'year':2000, 'month':1, 'day':1}(member2)를\\n# {'name':'홍길동', 'birth':'2000-01-01'}으로 가공\\nlist(map(lambda member : {\\n                        'name' : member.get('name'),\\n                        'birth' : '{year}-{month:02}-{day:02}'.format(**member)\\n                        },\\n         member2\\n))\",\n",
       " '_37': [{'name': '홍길동', 'birth': '2000-01-01'},\n",
       "  {'name': '신길동', 'birth': '1998-12-31'}],\n",
       " '_i38': 'def filter_template(func, L=[]):\\n    result = []\\n    for l in L:\\n        if func(l):\\n            result.append(l)\\n    return result',\n",
       " 'filter_template': <function __main__.filter_template(func, L=[])>,\n",
       " '_i39': 'def evenChk(value):\\n    return value%2==0\\nevenChk(10), evenChk(-9)',\n",
       " 'evenChk': <function __main__.evenChk(value)>,\n",
       " '_39': (True, False),\n",
       " '_i40': 'list_data = [1, 2, 3, 4, 5]\\nfilter_template(lambda value : value%2==0, list_data)',\n",
       " '_40': [2, 4],\n",
       " '_i41': 'list(filter(lambda value : value%2==0, list_data))',\n",
       " '_41': [2, 4],\n",
       " '_i42': '[data for data in list_data if data%2==0]',\n",
       " '_42': [2, 4],\n",
       " '_i43': '# 무조건 0번 item 기준으로 정렬\\nnumber2d = [[9,9,9,9,9],[1, 100],[10, 1]]\\nnumber2d.sort(reverse=True)\\nnumber2d',\n",
       " 'number2d': [[1, 100], [9, 9, 9, 9, 9], [10, 1]],\n",
       " '_43': [[1, 100], [9, 9, 9, 9, 9], [10, 1]],\n",
       " '_i44': \"pairs = [(2, 'two'), (1, 'one'), (4, 'four'), (3, 'three')]\\npairs.sort()\\npairs\",\n",
       " 'pairs': [(4, 'four'), (1, 'one'), (3, 'three'), (2, 'two')],\n",
       " '_44': [(4, 'four'), (1, 'one'), (3, 'three'), (2, 'two')],\n",
       " '_i45': '# 1번째 item 기준으로 정렬(abc순)\\npairs.sort(key=lambda pair : pair[1])\\npairs',\n",
       " '_45': [(4, 'four'), (1, 'one'), (3, 'three'), (2, 'two')],\n",
       " '_i46': '# 합이 큰 순으로 정렬\\nnumber2d.sort(key = lambda item : sum(item), reverse=True)\\nnumber2d',\n",
       " '_46': [[1, 100], [9, 9, 9, 9, 9], [10, 1]],\n",
       " '_i47': '# 리스트를 매개변수로 받아 합을 return\\n(lambda item : sum(item))([1,2,3])',\n",
       " '_47': 6,\n",
       " '_i48': '# 합이 큰 순으로 정렬\\nnumber2d.sort(key = lambda item : sum(item), reverse=True)\\nnumber2d',\n",
       " '_48': [[1, 100], [9, 9, 9, 9, 9], [10, 1]],\n",
       " '_i49': '# 합이 큰 순으로 정렬\\nnumber2d.sort(key = lambda item : sum(item), reverse=True)\\nnumber2d',\n",
       " '_49': [[1, 100], [9, 9, 9, 9, 9], [10, 1]],\n",
       " '_i50': '# 리스트를 매개변수로 받아 합을 return\\n(lambda item : sum(item))([1,2,3])',\n",
       " '_50': 6,\n",
       " '_i51': \"students = [\\n    {'name':'홍길동', 'score':90},\\n    {'name':'김길동', 'score':50},\\n    {'name':'윤길동', 'score':99},\\n]\",\n",
       " 'students': [{'score': 100},\n",
       "  {'name': '윤길동', 'score': 99},\n",
       "  {'name': '홍길동', 'score': 90},\n",
       "  {'name': '김길동', 'score': 50}],\n",
       " '_i52': \"# 이름순으로 정렬(ㄱㄴㄷ순)\\nstudents.sort(key = lambda data : data.get('name'))\",\n",
       " '_i53': \"# 이름순으로 정렬(ㄱㄴㄷ순)\\nstudents.sort(key = lambda data : data.get('name'))\\nstudents\",\n",
       " '_53': [{'name': '김길동', 'score': 50},\n",
       "  {'name': '윤길동', 'score': 99},\n",
       "  {'name': '홍길동', 'score': 90}],\n",
       " '_i54': '# 이름순으로 정렬(ㄱㄴㄷ순)\\nstudents.sort(key = lambda data : data.values)\\nstudents',\n",
       " '_i55': '# 이름순으로 정렬(ㄱㄴㄷ순)\\nstudents.sort(key = lambda data : data.values(0))\\nstudents',\n",
       " '_i56': '# 이름순으로 정렬(ㄱㄴㄷ순)\\nstudents.sort(key = lambda data : )\\nstudents',\n",
       " '_i57': \"# 이름순으로 정렬(ㄱㄴㄷ순)\\nstudents.sort(key = lambda data : data.get('name'))\\nstudents\",\n",
       " '_57': [{'name': '김길동', 'score': 50},\n",
       "  {'name': '윤길동', 'score': 99},\n",
       "  {'name': '홍길동', 'score': 90}],\n",
       " '_i58': \"students = [\\n    {'name':'홍길동', 'score':90},\\n    {'name':'김길동', 'score':50},\\n    {'name':'윤길동', 'score':99},\\n    {'score':100}\\n]\",\n",
       " '_i59': \"# 이름순으로 정렬(ㄱㄴㄷ순)\\nstudents.sort(key = lambda data : data.get('name','힣'))\\nstudents\",\n",
       " '_59': [{'score': 100},\n",
       "  {'name': '윤길동', 'score': 99},\n",
       "  {'name': '홍길동', 'score': 90},\n",
       "  {'name': '김길동', 'score': 50}],\n",
       " '_i60': \"# score순으로 정렬(내림차순정렬)\\nstudents.sort(key = lambda data : data.get('score', 0), reverse=True)\",\n",
       " '_i61': \"# score순으로 정렬(내림차순정렬)\\nstudents.sort(key = lambda data : data.get('score', 0), reverse=True)\\nstudents\",\n",
       " '_61': [{'score': 100},\n",
       "  {'name': '윤길동', 'score': 99},\n",
       "  {'name': '홍길동', 'score': 90},\n",
       "  {'name': '김길동', 'score': 50}],\n",
       " '_i62': \"# 책제목순 정렬(ㄱㄴㄷ순), 저자순 정렬(ㄱㄴㄷ순), 가격순 오름차순 정렬\\nbooks = [\\n    {'no':1, 'title':'강남 아파트 인사이트', 'writer':'오스틀', 'price':'25,200'},\\n    {'no':2, 'title':'단 한번의 삶', 'writer':'김영하', 'price':'18,100'},\\n    {'no':3, 'title':'흔한남매 19', 'writer':'백난도', 'price':'14,220'},\\n    {'no':4, 'title':'가격이잘못', 'writer':'홍길동', 'price':'-'},\\n    {'no':5, 'title':'가격이숫자', 'writer':'신길동', 'price':900},\\n    {'no':6, 'title':'가격이없음', 'writer':'김길동'},\\n]\",\n",
       " 'books': [{'no': 1,\n",
       "   'title': '강남 아파트 인사이트',\n",
       "   'writer': '오스틀',\n",
       "   'price': '25,200'},\n",
       "  {'no': 2, 'title': '단 한번의 삶', 'writer': '김영하', 'price': '18,100'},\n",
       "  {'no': 3, 'title': '흔한남매 19', 'writer': '백난도', 'price': '14,220'},\n",
       "  {'no': 4, 'title': '가격이잘못', 'writer': '홍길동', 'price': '-'},\n",
       "  {'no': 5, 'title': '가격이숫자', 'writer': '신길동', 'price': 900},\n",
       "  {'no': 6, 'title': '가격이없음', 'writer': '김길동'}],\n",
       " '_i63': \"books.sort(key = lambda book : book.get('title'))\\nbooks\",\n",
       " '_63': [{'no': 6, 'title': '가격이없음', 'writer': '김길동'},\n",
       "  {'no': 2, 'title': '단 한번의 삶', 'writer': '김영하', 'price': '18,100'},\n",
       "  {'no': 3, 'title': '흔한남매 19', 'writer': '백난도', 'price': '14,220'},\n",
       "  {'no': 5, 'title': '가격이숫자', 'writer': '신길동', 'price': 900},\n",
       "  {'no': 1, 'title': '강남 아파트 인사이트', 'writer': '오스틀', 'price': '25,200'},\n",
       "  {'no': 4, 'title': '가격이잘못', 'writer': '홍길동', 'price': '-'}],\n",
       " '_i64': \"books.sort(key = lambda book : book.get('writer'))\\nbooks\",\n",
       " '_64': [{'no': 6, 'title': '가격이없음', 'writer': '김길동'},\n",
       "  {'no': 2, 'title': '단 한번의 삶', 'writer': '김영하', 'price': '18,100'},\n",
       "  {'no': 3, 'title': '흔한남매 19', 'writer': '백난도', 'price': '14,220'},\n",
       "  {'no': 5, 'title': '가격이숫자', 'writer': '신길동', 'price': 900},\n",
       "  {'no': 1, 'title': '강남 아파트 인사이트', 'writer': '오스틀', 'price': '25,200'},\n",
       "  {'no': 4, 'title': '가격이잘못', 'writer': '홍길동', 'price': '-'}],\n",
       " '_i65': \"# 책제목순 정렬(ㄱㄴㄷ순), 저자순 정렬(ㄱㄴㄷ순), 가격순 오름차순 정렬\\nbooks = [\\n    {'no':1, 'title':'강남 아파트 인사이트', 'writer':'오스틀', 'price':'25,200'},\\n    {'no':2, 'title':'단 한번의 삶', 'writer':'김영하', 'price':'18,100'},\\n    {'no':3, 'title':'흔한남매 19', 'writer':'백난도', 'price':'14220'},\\n    {'no':4, 'title':'가격이잘못', 'writer':'홍길동', 'price':'-'},\\n    {'no':5, 'title':'가격이숫자', 'writer':'신길동', 'price':900},\\n    {'no':6, 'title':'가격이없음', 'writer':'김길동'},\\n]\",\n",
       " '_i66': \"books.sort(key = lambda book : book.get('title'))\\nbooks\",\n",
       " '_66': [{'no': 6, 'title': '가격이없음', 'writer': '김길동'},\n",
       "  {'no': 2, 'title': '단 한번의 삶', 'writer': '김영하', 'price': '18,100'},\n",
       "  {'no': 3, 'title': '흔한남매 19', 'writer': '백난도', 'price': '14220'},\n",
       "  {'no': 5, 'title': '가격이숫자', 'writer': '신길동', 'price': 900},\n",
       "  {'no': 1, 'title': '강남 아파트 인사이트', 'writer': '오스틀', 'price': '25,200'},\n",
       "  {'no': 4, 'title': '가격이잘못', 'writer': '홍길동', 'price': '-'}],\n",
       " '_i67': \"books.sort(key = lambda book : book.get('writer'))\\nbooks\",\n",
       " '_67': [{'no': 6, 'title': '가격이없음', 'writer': '김길동'},\n",
       "  {'no': 2, 'title': '단 한번의 삶', 'writer': '김영하', 'price': '18,100'},\n",
       "  {'no': 3, 'title': '흔한남매 19', 'writer': '백난도', 'price': '14220'},\n",
       "  {'no': 5, 'title': '가격이숫자', 'writer': '신길동', 'price': 900},\n",
       "  {'no': 1, 'title': '강남 아파트 인사이트', 'writer': '오스틀', 'price': '25,200'},\n",
       "  {'no': 4, 'title': '가격이잘못', 'writer': '홍길동', 'price': '-'}],\n",
       " '_i68': \"books.sort(key = lambda book : book.get('price', 0))\\nbooks\",\n",
       " '_i69': \"# '14,000' -> 14000 / 800 -> 800 / '-' -> 0\\ndef parse_int(price):\\n    print(type(price))\",\n",
       " 'parse_int': <function __main__.parse_int(book)>,\n",
       " '_i70': 'parse_int(800)',\n",
       " '_i71': \"# '14,000' -> 14000 / 800 -> 800 / '-' -> 0\\ndef parse_int(price):\\n    # print(type(price))\\n    if isinstance(price, int):\\n        return price\",\n",
       " '_i72': 'parse_int(800)',\n",
       " '_72': 800,\n",
       " '_i73': \"# '14,000' -> 14000 / '2000' -> 2000 / 800 -> 800 / '-' -> 0\\ndef parse_int(price):\\n    # print(type(price))\\n    if isinstance(price, str) and price.replace(',', '').isdigit():\\n        return int(price.replace(',', ''))\\n    elif isinstance(price, int):\\n        return price\",\n",
       " '_i74': 'parse_int(8000)',\n",
       " '_74': 8000,\n",
       " '_i75': \"parse_int('8000')\",\n",
       " '_75': 8000,\n",
       " '_i76': \"parse_int('8,000')\",\n",
       " '_76': 8000,\n",
       " '_i77': \"parse_int('8,000'), parse_int('8000'), parse_int(800)\",\n",
       " '_77': (8000, 8000, 800),\n",
       " '_i78': \"parse_int('8,000'), parse_int('8000'), parse_int(800), parse_int('-')\",\n",
       " '_78': (8000, 8000, 800, None),\n",
       " '_i79': \"# '14,000' -> 14000 / '2000' -> 2000 / 800 -> 800 / '-' -> 0\\ndef parse_int(price):\\n    # print(type(price))\\n    if isinstance(price, str) and price.replace(',', '').isdigit():\\n        return int(price.replace(',', ''))\\n    elif isinstance(price, int):\\n        return price\\n    else:\\n        return 0\",\n",
       " '_i80': \"parse_int('8,000'), parse_int('8000'), parse_int(800), parse_int('-')\",\n",
       " '_80': (8000, 8000, 800, 0),\n",
       " '_i81': \"# 책제목순 정렬(ㄱㄴㄷ순), 저자순 정렬(ㄱㄴㄷ순), 가격순 오름차순 정렬\\nbooks = [\\n    {'no':1, 'title':'강남 아파트 인사이트', 'writer':'오스틀', 'price':'25,200'},\\n    {'no':2, 'title':'단 한번의 삶', 'writer':'김영하', 'price':'18,100'},\\n    {'no':3, 'title':'흔한남매 19', 'writer':'백난도', 'price':'14,220'},\\n    {'no':4, 'title':'가격이잘못', 'writer':'홍길동', 'price':'-'},\\n    {'no':5, 'title':'가격이숫자', 'writer':'신길동', 'price':900},\\n    {'no':6, 'title':'가격이없음', 'writer':'김길동'},\\n]\",\n",
       " '_i82': \"books.sort(key = lambda book : book.get('title'))\\nbooks\",\n",
       " '_82': [{'no': 6, 'title': '가격이없음', 'writer': '김길동'},\n",
       "  {'no': 2, 'title': '단 한번의 삶', 'writer': '김영하', 'price': '18,100'},\n",
       "  {'no': 3, 'title': '흔한남매 19', 'writer': '백난도', 'price': '14,220'},\n",
       "  {'no': 5, 'title': '가격이숫자', 'writer': '신길동', 'price': 900},\n",
       "  {'no': 1, 'title': '강남 아파트 인사이트', 'writer': '오스틀', 'price': '25,200'},\n",
       "  {'no': 4, 'title': '가격이잘못', 'writer': '홍길동', 'price': '-'}],\n",
       " '_i83': \"books.sort(key = lambda book : book.get('writer'))\\nbooks\",\n",
       " '_83': [{'no': 6, 'title': '가격이없음', 'writer': '김길동'},\n",
       "  {'no': 2, 'title': '단 한번의 삶', 'writer': '김영하', 'price': '18,100'},\n",
       "  {'no': 3, 'title': '흔한남매 19', 'writer': '백난도', 'price': '14,220'},\n",
       "  {'no': 5, 'title': '가격이숫자', 'writer': '신길동', 'price': 900},\n",
       "  {'no': 1, 'title': '강남 아파트 인사이트', 'writer': '오스틀', 'price': '25,200'},\n",
       "  {'no': 4, 'title': '가격이잘못', 'writer': '홍길동', 'price': '-'}],\n",
       " '_i84': \"books.sort(key = lambda book : book.get('price', 0))\\nbooks\",\n",
       " '_i85': \"# '14,000' -> 14000 / '2000' -> 2000 / 800 -> 800 / '-' -> 0\\ndef parse_int(price):\\n    # print(type(price))\\n    if isinstance(price, str) and price.replace(',', '').isdigit():\\n        return int(price.replace(',', ''))\\n    elif isinstance(price, int):\\n        return price\\n    else:\\n        return 0\",\n",
       " '_i86': \"parse_int('8,000'), parse_int('8000'), parse_int(800), parse_int('-')\",\n",
       " '_86': (8000, 8000, 800, 0),\n",
       " '_i87': \"# {'no': 6, 'title': '가격이없음', 'writer': '김길동'} => 0 return\\n# {'no': 3, 'title': '흔한남매 19', 'writer': '백난도', 'price': '14,220'} => 14220\\n# 'no': 5, 'title': '가격이숫자', 'writer': '신길동', 'price': 900} => 900\",\n",
       " '_i88': \"# {'no': 6, 'title': '가격이없음', 'writer': '김길동'} => 0 return\\n# {'no': 3, 'title': '흔한남매 19', 'writer': '백난도', 'price': '14,220'} => 14220\\n# 'no': 5, 'title': '가격이숫자', 'writer': '신길동', 'price': 900} => 900\\ndef parse_int(book):\\n    if isinstance(book.get('price'), str) and \\\\\\n            book.get('price').replace(',', '').isdigit():\\n        return int(book.get(price).replace(',', ''))\\n    elif isinstance(book.get('price'), int):\\n        return book.get('price')\\n    else:\\n        return 0\\nparse_int(books[0])\",\n",
       " '_88': 0,\n",
       " '_i89': \"# {'no': 6, 'title': '가격이없음', 'writer': '김길동'} => 0 return\\n# {'no': 3, 'title': '흔한남매 19', 'writer': '백난도', 'price': '14,220'} => 14220\\n# 'no': 5, 'title': '가격이숫자', 'writer': '신길동', 'price': 900} => 900\\ndef parse_int(book):\\n    if isinstance(book.get('price'), str) and \\\\\\n            book.get('price').replace(',', '').isdigit():\\n        return int(book.get(price).replace(',', ''))\\n    elif isinstance(book.get('price'), int):\\n        return book.get('price')\\n    else:\\n        return 0\\nparse_int(books[0]), parse_int(books[3]), parse_int(books[2])\",\n",
       " '_i90': \"# {'no': 6, 'title': '가격이없음', 'writer': '김길동'} => 0 return\\n# {'no': 3, 'title': '흔한남매 19', 'writer': '백난도', 'price': '14,220'} => 14220\\n# 'no': 5, 'title': '가격이숫자', 'writer': '신길동', 'price': 900} => 900\\ndef parse_int(book):\\n    if isinstance(book.get('price'), str) and \\\\\\n            book.get('price').replace(',', '').isdigit():\\n        return int(book.get(price).replace(',', ''))\\n    elif isinstance(book.get('price'), int):\\n        return book.get('price')\\n    else:\\n        return 0\\nparse_int(books[0]), parse_int(books[3])\",\n",
       " '_90': (0, 900),\n",
       " '_i91': \"# {'no': 6, 'title': '가격이없음', 'writer': '김길동'} => 0 return\\n# {'no': 3, 'title': '흔한남매 19', 'writer': '백난도', 'price': '14,220'} => 14220\\n# 'no': 5, 'title': '가격이숫자', 'writer': '신길동', 'price': 900} => 900\\ndef parse_int(book):\\n    if isinstance(book.get('price'), str) and \\\\\\n            book.get('price').replace(',', '').isdigit():\\n        return int(book.get(price).replace(',', ''))\\n    elif isinstance(book.get('price'), int):\\n        return book.get('price')\\n    else:\\n        return 0\\nparse_int(books[0]), parse_int(books[3]), parse_int(books[2])\",\n",
       " '_i92': \"# 책제목순 정렬(ㄱㄴㄷ순), 저자순 정렬(ㄱㄴㄷ순), 가격순 오름차순 정렬\\nbooks = [\\n    {'no':1, 'title':'강남 아파트 인사이트', 'writer':'오스틀', 'price':'25,200'},\\n    {'no':2, 'title':'단 한번의 삶', 'writer':'김영하', 'price':'18,100'},\\n    {'no':3, 'title':'흔한남매 19', 'writer':'백난도', 'price':'14,220'},\\n    {'no':4, 'title':'가격이잘못', 'writer':'홍길동', 'price':'-'},\\n    {'no':5, 'title':'가격이숫자', 'writer':'신길동', 'price':900},\\n    {'no':6, 'title':'가격이없음', 'writer':'김길동'},\\n]\",\n",
       " '_i93': \"# {'no': 6, 'title': '가격이없음', 'writer': '김길동'} => 0 return\\n# {'no': 3, 'title': '흔한남매 19', 'writer': '백난도', 'price': '14,220'} => 14220\\n# 'no': 5, 'title': '가격이숫자', 'writer': '신길동', 'price': 900} => 900\\ndef parse_int(book):\\n    if isinstance(book.get('price'), str) and \\\\\\n            book.get('price').replace(',', '').isdigit():\\n        return int(book.get(price).replace(',', ''))\\n    elif isinstance(book.get('price'), int):\\n        return book.get('price')\\n    else:\\n        return 0\\nparse_int(books[0]), parse_int(books[3]), parse_int(books[2])\",\n",
       " '_i94': \"# {'no': 6, 'title': '가격이없음', 'writer': '김길동'} => 0 return\\n# {'no': 3, 'title': '흔한남매 19', 'writer': '백난도', 'price': '14,220'} => 14220\\n# 'no': 5, 'title': '가격이숫자', 'writer': '신길동', 'price': 900} => 900\\ndef parse_int(book):\\n    if isinstance(book.get('price'), str) and \\\\\\n            book.get('price').replace(',', '').isdigit():\\n        return int(book.get(price).replace(',', ''))\\n    elif isinstance(book.get('price'), int):\\n        return book.get('price')\\n    else:\\n        return 0\\nparse_int(books[0]), parse_int(books[3]), parse_int(books[2])\",\n",
       " '_i95': \"# {'no': 6, 'title': '가격이없음', 'writer': '김길동'} => 0 return\\n# {'no': 3, 'title': '흔한남매 19', 'writer': '백난도', 'price': '14,220'} => 14220\\n# 'no': 5, 'title': '가격이숫자', 'writer': '신길동', 'price': 900} => 900\\ndef parse_int(book):\\n    if isinstance(book.get('price'), str) and \\\\\\n            book.get('price').replace(',', '').isdigit():\\n        return int(book.get(price).replace(',', ''))\\n    elif isinstance(book.get('price'), int):\\n        return book.get('price')\\n    else:\\n        return 0\\nparse_int(books[0]), parse_int(books[3]), parse_int(books[2]), parse_int(books[6])\",\n",
       " '_i96': \"# {'no': 6, 'title': '가격이없음', 'writer': '김길동'} => 0 return\\n# {'no': 3, 'title': '흔한남매 19', 'writer': '백난도', 'price': '14,220'} => 14220\\n# 'no': 5, 'title': '가격이숫자', 'writer': '신길동', 'price': 900} => 900\\ndef parse_int(book):\\n    if isinstance(book.get('price'), str) and \\\\\\n            book.get('price').replace(',', '').isdigit():\\n        return int(book.get(price).replace(',', ''))\\n    elif isinstance(book.get('price'), int):\\n        return book.get('price')\\n    else:\\n        return 0\\nparse_int(books[0]), parse_int(books[3]), parse_int(books[2])\",\n",
       " '_i97': \"# {'no': 6, 'title': '가격이없음', 'writer': '김길동'} => 0 return\\n# {'no': 3, 'title': '흔한남매 19', 'writer': '백난도', 'price': '14,220'} => 14220\\n# 'no': 5, 'title': '가격이숫자', 'writer': '신길동', 'price': 900} => 900\\ndef parse_int(book):\\n    if isinstance(book.get('price'), str) and \\\\\\n            book.get('price').replace(',', '').isdigit():\\n        return int(book.get('price').replace(',', ''))\\n    elif isinstance(book.get('price'), int):\\n        return book.get('price')\\n    else:\\n        return 0\\nparse_int(books[0]), parse_int(books[3]), parse_int(books[2])\",\n",
       " '_97': (25200, 0, 14220),\n",
       " '_i98': \"# {'no': 6, 'title': '가격이없음', 'writer': '김길동'} => 0 return\\n# {'no': 3, 'title': '흔한남매 19', 'writer': '백난도', 'price': '14,220'} => 14220\\n# {'no': 5, 'title': '가격이숫자', 'writer': '신길동', 'price': 900} => 900\\ndef parse_int(book):\\n    if isinstance(book.get('price'), str) and \\\\\\n            book.get('price').replace(',', '').isdigit(): # isdigit() : 문자열이 숫자문자열인지 여부\\n        return int(book.get('price').replace(',', ''))\\n    elif isinstance(book.get('price'), int):\\n        return book.get('price')\\n    else:\\n        return 0\\nparse_int(books[0]), parse_int(books[3]), parse_int(books[2])\",\n",
       " '_98': (25200, 0, 14220),\n",
       " '_i99': \"books = [\\n    {'no':1, 'title':'강남 아파트 인사이트', 'writer':'오스틀', 'price':'25,200'},\\n    {'no':2, 'title':'단 한번의 삶', 'writer':'김영하', 'price':'18,100'},\\n    {'no':3, 'title':'흔한남매 19', 'writer':'백난도', 'price':'14,220'},\\n    {'no':4, 'title':'가격이잘못', 'writer':'홍길동', 'price':'-'},\\n    {'no':5, 'title':'가격이숫자', 'writer':'신길동', 'price':900},\\n    {'no':6, 'title':'가격이없음', 'writer':'김길동'},\\n]\",\n",
       " '_i100': \"books = [\\n    {'no':1, 'title':'강남 아파트 인사이트', 'writer':'오스틀', 'price':'25,200'},\\n    {'no':2, 'title':'단 한번의 삶', 'writer':'김영하', 'price':'18,100'},\\n    {'no':3, 'title':'흔한남매 19', 'writer':'백난도', 'price':'14,220'},\\n    {'no':4, 'title':'가격이잘못', 'writer':'홍길동', 'price':'-'},\\n    {'no':5, 'title':'가격이숫자', 'writer':'신길동', 'price':900},\\n    {'no':6, 'title':'가격이없음', 'writer':'김길동'},\\n]\\ncopy_books = books.copy()\",\n",
       " 'copy_books': [{'no': 4, 'title': '가격이잘못', 'writer': '홍길동', 'price': '-'},\n",
       "  {'no': 6, 'title': '가격이없음', 'writer': '김길동'},\n",
       "  {'no': 5, 'title': '가격이숫자', 'writer': '신길동', 'price': 900},\n",
       "  {'no': 3, 'title': '흔한남매 19', 'writer': '백난도', 'price': '14,220'},\n",
       "  {'no': 2, 'title': '단 한번의 삶', 'writer': '김영하', 'price': '18,100'},\n",
       "  {'no': 1, 'title': '강남 아파트 인사이트', 'writer': '오스틀', 'price': '25,200'}],\n",
       " '_i101': \"copy_books.sort(key = lambda book :\\n                int(book.get('price').replace(',', '')) \\\\\\n                    if isinstance(book.get('price'), str) and \\\\\\n                        book.get('price').replace(',', '').isdigit() else \\\\\\n                book.get('price') if isinstance(book.get('price'), int) else \\\\\\n                0\\n               )\",\n",
       " '_i102': 'copy_books',\n",
       " '_102': [{'no': 4, 'title': '가격이잘못', 'writer': '홍길동', 'price': '-'},\n",
       "  {'no': 6, 'title': '가격이없음', 'writer': '김길동'},\n",
       "  {'no': 5, 'title': '가격이숫자', 'writer': '신길동', 'price': 900},\n",
       "  {'no': 3, 'title': '흔한남매 19', 'writer': '백난도', 'price': '14,220'},\n",
       "  {'no': 2, 'title': '단 한번의 삶', 'writer': '김영하', 'price': '18,100'},\n",
       "  {'no': 1, 'title': '강남 아파트 인사이트', 'writer': '오스틀', 'price': '25,200'}],\n",
       " '_i103': 'books',\n",
       " '_103': [{'no': 1,\n",
       "   'title': '강남 아파트 인사이트',\n",
       "   'writer': '오스틀',\n",
       "   'price': '25,200'},\n",
       "  {'no': 2, 'title': '단 한번의 삶', 'writer': '김영하', 'price': '18,100'},\n",
       "  {'no': 3, 'title': '흔한남매 19', 'writer': '백난도', 'price': '14,220'},\n",
       "  {'no': 4, 'title': '가격이잘못', 'writer': '홍길동', 'price': '-'},\n",
       "  {'no': 5, 'title': '가격이숫자', 'writer': '신길동', 'price': 900},\n",
       "  {'no': 6, 'title': '가격이없음', 'writer': '김길동'}],\n",
       " '_i104': \"(lambda book :\\n                int(book.get('price').replace(',', '')) \\\\\\n                    if isinstance(book.get('price'), str) and \\\\\\n                        book.get('price').replace(',', '').isdigit() else \\\\\\n                book.get('price') if isinstance(book.get('price'), int) else \\\\\\n                0)(books[0])\",\n",
       " '_104': 25200,\n",
       " '_i105': \"# 람다식 테스트 확인\\n(lambda book :\\n                int(book.get('price').replace(',', '')) \\\\\\n                    if isinstance(book.get('price'), str) and \\\\\\n                        book.get('price').replace(',', '').isdigit() else \\\\\\n                book.get('price') if isinstance(book.get('price'), int) else \\\\\\n                0)(books[0])\",\n",
       " '_105': 25200,\n",
       " '_i106': \"# 람다식 테스트 확인\\n(lambda book :\\n                int(book.get('price').replace(',', '')) \\\\\\n                    if isinstance(book.get('price'), str) and \\\\\\n                        book.get('price').replace(',', '').isdigit() else \\\\\\n                book.get('price') if isinstance(book.get('price'), int) else \\\\\\n                0)(copy_books[0])\",\n",
       " '_106': 0,\n",
       " '_i107': '# 함수를 return\\ndef make_box(shape): # shape : [l] => len가 l인 list를 생성하는 함수 return\\n                     #         [r, c] => r행 c열인 2차원 list를 생성하는 함수 return\\n                     #         [d, r, c] => d면 r행 c열 3차원 list를 생성하는 함수 return\\n    def box(init_value):\\n        if len(shape)==1:\\n            return [init_value]*shape[0]\\n        elif len(shape)==2:\\n            return [[init_value]*shape[1]]*shape[0]\\n    return box',\n",
       " 'make_box': <function __main__.make_box(shape)>,\n",
       " '_i108': 'line_func = make_box([2, 3])',\n",
       " 'line_func': <function __main__.make_box.<locals>.box(init_value)>,\n",
       " '_i109': 'line_func = make_box([2, 3])\\nline_func(3)',\n",
       " '_109': [[3, 3, 3], [3, 3, 3]],\n",
       " '_i110': 'line_func1 = make_box([10])\\nline_func1(3)',\n",
       " 'line_func1': <function __main__.make_box.<locals>.box(init_value)>,\n",
       " '_110': [3, 3, 3, 3, 3, 3, 3, 3, 3, 3],\n",
       " '_i111': 'def make_box(shape):\\n    if len(shape)==1:\\n        return lambda init_value : [init_value]*shape[0]\\n    elif len(shape)==2:\\n        return lambda init_value : [[init_value]*shape[1]]*shape[0]',\n",
       " '_i112': 'globals() # 전역변수 리스트'}"
      ]
     },
     "execution_count": 112,
     "metadata": {},
     "output_type": "execute_result"
    }
   ],
   "source": [
    "globals() # 전역변수 리스트"
   ]
  },
  {
   "cell_type": "code",
   "execution_count": 114,
   "id": "caad14d0",
   "metadata": {},
   "outputs": [
    {
     "data": {
      "text/plain": [
       "False"
      ]
     },
     "execution_count": 114,
     "metadata": {},
     "output_type": "execute_result"
    }
   ],
   "source": [
    "all([True, True, True, False]) # 전부 True인지 여부"
   ]
  },
  {
   "cell_type": "code",
   "execution_count": 115,
   "id": "71f234f4",
   "metadata": {},
   "outputs": [
    {
     "data": {
      "text/plain": [
       "4"
      ]
     },
     "execution_count": 115,
     "metadata": {},
     "output_type": "execute_result"
    }
   ],
   "source": [
    "round(3.5) # 반올림"
   ]
  },
  {
   "cell_type": "code",
   "execution_count": 118,
   "id": "aeda78fc",
   "metadata": {},
   "outputs": [
    {
     "data": {
      "text/plain": [
       "(4.0, 4.0, 3.0)"
      ]
     },
     "execution_count": 118,
     "metadata": {},
     "output_type": "execute_result"
    }
   ],
   "source": [
    "import numpy as np # numpy 모듈을 np라는 이름으로 load\n",
    "np.round(3.5), np.ceil(3.1), np.floor(3.2) # 반올림, 올림, 내림"
   ]
  },
  {
   "cell_type": "markdown",
   "id": "f5e61970",
   "metadata": {},
   "source": [
    "# 6절 연습문제"
   ]
  },
  {
   "cell_type": "code",
   "execution_count": 14,
   "id": "7274158e",
   "metadata": {},
   "outputs": [
    {
     "data": {
      "text/plain": [
       "(1, 5)"
      ]
     },
     "execution_count": 14,
     "metadata": {},
     "output_type": "execute_result"
    }
   ],
   "source": [
    "# 실습형1.최대값 최소값을 리턴b\n",
    "def get_max_min(data_list):\n",
    "    return min(data_list), max(data_list)\n",
    "\n",
    "get_max_min = lambda data_list : (min(data_list), max(data_list))\n",
    "get_max_min([1,2,3,4,5])"
   ]
  },
  {
   "cell_type": "code",
   "execution_count": 15,
   "id": "7da23b0b",
   "metadata": {},
   "outputs": [
    {
     "name": "stdout",
     "output_type": "stream",
     "text": [
      "마른 체형\n"
     ]
    }
   ],
   "source": [
    "# 실습형2. 체중과 키를 입력받아 BMI지수에 따른\n",
    "#‘마른 체형‘, ‘표준‘, ‘비만‘, ‘고도비만‘ 중 하나의 상태를 출력하는 함수\n",
    "def getBMI(kg,m):\n",
    "    BMI_num = kg / (m**2)\n",
    "    if BMI_num<18.5:\n",
    "        print('마른 체형')\n",
    "    elif 18.5<=BMI_num<25:\n",
    "        print('표준')\n",
    "    elif 25<=BMI_num<30:\n",
    "        print('비만')\n",
    "    else:\n",
    "        print('고도비만')\n",
    "getBMI(70, 172)"
   ]
  },
  {
   "cell_type": "code",
   "execution_count": null,
   "id": "5351c06e",
   "metadata": {},
   "outputs": [],
   "source": [
    "# 실습형 3. 직각삼각형의 width, height로 area, perimeter(둘레)를 return"
   ]
  },
  {
   "cell_type": "code",
   "execution_count": 17,
   "id": "3f2d6336",
   "metadata": {},
   "outputs": [
    {
     "data": {
      "text/plain": [
       "165"
      ]
     },
     "execution_count": 17,
     "metadata": {},
     "output_type": "execute_result"
    }
   ],
   "source": [
    "# 실습형 4.fRom부터 end까지 모든 정수의 합 리턴(fRom, end 포함)\n",
    "def mysum(fRom, end):\n",
    "    sum = 0\n",
    "    for i in range(fRom, end+1):\n",
    "        sum += i\n",
    "    return sum\n",
    "mysum(10,20)"
   ]
  },
  {
   "cell_type": "code",
   "execution_count": 21,
   "id": "f5303d8b",
   "metadata": {},
   "outputs": [
    {
     "name": "stdout",
     "output_type": "stream",
     "text": [
      "['Seo', 'Dae', 'Kwa', 'Jej']\n"
     ]
    }
   ],
   "source": [
    "# 실습형 5. 문자열 리스트가 입력될 때 첫 세글자로만 구성된 리스트 return 함수와 람다식 작성\n",
    "test = ['Seoul', 'Daegu', 'Kwangju', 'Jeju']\n",
    "def get_abbrs(lst):\n",
    "    return [i[:3] for i in test]\n",
    "print(get_abbrs(test))"
   ]
  },
  {
   "cell_type": "code",
   "execution_count": 23,
   "id": "c7bc7ec4",
   "metadata": {},
   "outputs": [
    {
     "name": "stdout",
     "output_type": "stream",
     "text": [
      "['Seo', 'Dae', 'Kwa', 'Jej']\n"
     ]
    }
   ],
   "source": [
    "get_abbrs = lambda lst : [i[:3] for i in test]\n",
    "print(get_abbrs(test))"
   ]
  },
  {
   "cell_type": "code",
   "execution_count": 25,
   "id": "db0291a6",
   "metadata": {},
   "outputs": [
    {
     "name": "stdout",
     "output_type": "stream",
     "text": [
      "8\n"
     ]
    }
   ],
   "source": [
    "# 실습형 6 함수를 람다식으로 변경\n",
    "f = lambda x, y: x**y\n",
    "print(f(2, 3))"
   ]
  },
  {
   "cell_type": "code",
   "execution_count": 28,
   "id": "61f227cd",
   "metadata": {},
   "outputs": [
    {
     "data": {
      "text/plain": [
       "[1, 4, 9, 16, 25]"
      ]
     },
     "execution_count": 28,
     "metadata": {},
     "output_type": "execute_result"
    }
   ],
   "source": [
    "# 실습형 7. 람다함수와 map함수 이용\n",
    "ex = [1,2,3,4,5]\n",
    "list(map(lambda x : x**2, ex))"
   ]
  },
  {
   "cell_type": "code",
   "execution_count": 4,
   "id": "f02675ad",
   "metadata": {},
   "outputs": [],
   "source": [
    "# 실습형 7. 리스트컴프리헨션 이용"
   ]
  },
  {
   "cell_type": "code",
   "execution_count": null,
   "id": "5555302d",
   "metadata": {},
   "outputs": [],
   "source": [
    "# 실습형 8. 다음 print문이 다른 결과가 나오는 이유"
   ]
  },
  {
   "cell_type": "code",
   "execution_count": null,
   "id": "e67e97ae",
   "metadata": {},
   "outputs": [],
   "source": [
    "# 실습형 9."
   ]
  },
  {
   "cell_type": "code",
   "execution_count": null,
   "id": "9be706f4",
   "metadata": {},
   "outputs": [],
   "source": [
    "# 실습형 10. \n",
    "# 입력받은 n개의 벡터(리스트나 튜플이나 셋)의 크기들을 return 하는 함수"
   ]
  },
  {
   "cell_type": "code",
   "execution_count": null,
   "id": "0dbde272",
   "metadata": {},
   "outputs": [],
   "source": [
    "# 실습형 11 scalar_vector_product(5, [1,2,3,4]) => [5,10,15,20]"
   ]
  },
  {
   "cell_type": "code",
   "execution_count": null,
   "id": "172bd692",
   "metadata": {},
   "outputs": [],
   "source": []
  },
  {
   "cell_type": "code",
   "execution_count": null,
   "id": "aaf97c8e",
   "metadata": {},
   "outputs": [],
   "source": []
  },
  {
   "cell_type": "code",
   "execution_count": null,
   "id": "908a8ad8",
   "metadata": {},
   "outputs": [],
   "source": []
  },
  {
   "cell_type": "code",
   "execution_count": null,
   "id": "5570e75c",
   "metadata": {},
   "outputs": [],
   "source": []
  },
  {
   "cell_type": "code",
   "execution_count": null,
   "id": "8f7fec9d",
   "metadata": {},
   "outputs": [],
   "source": []
  },
  {
   "cell_type": "code",
   "execution_count": null,
   "id": "a13d6174",
   "metadata": {},
   "outputs": [],
   "source": []
  }
 ],
 "metadata": {
  "kernelspec": {
   "display_name": "Python 3 (ipykernel)",
   "language": "python",
   "name": "python3"
  },
  "language_info": {
   "codemirror_mode": {
    "name": "ipython",
    "version": 3
   },
   "file_extension": ".py",
   "mimetype": "text/x-python",
   "name": "python",
   "nbconvert_exporter": "python",
   "pygments_lexer": "ipython3",
   "version": "3.10.9"
  },
  "toc": {
   "base_numbering": 1,
   "nav_menu": {},
   "number_sections": false,
   "sideBar": true,
   "skip_h1_title": false,
   "title_cell": "Table of Contents",
   "title_sidebar": "Contents",
   "toc_cell": false,
   "toc_position": {
    "height": "calc(100% - 180px)",
    "left": "10px",
    "top": "150px",
    "width": "189.95px"
   },
   "toc_section_display": true,
   "toc_window_display": true
  }
 },
 "nbformat": 4,
 "nbformat_minor": 5
}
