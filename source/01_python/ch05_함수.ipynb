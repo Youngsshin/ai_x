{
 "cells": [
  {
   "cell_type": "code",
   "execution_count": 11,
   "id": "f45da50f",
   "metadata": {},
   "outputs": [
    {
     "data": {
      "text/html": [
       "\n",
       "<style>\n",
       "div.container{width:86% !important;}\n",
       "div.cell.code_cell.rendered{width:100%;}\n",
       "div.CodeMirror{font-family:Consolas; font-size:15pt;}\n",
       "div.output{font-size:12pt; font-weight:bold;}\n",
       "div.input{font-family:Consolas; font-size:12pt;}\n",
       "div.prompt{min-width:70px;}\n",
       "div#toc-wrapper {padding-top:120px;}\n",
       "div.text_cell_render ul li{font-size:12pt;padding:5px;}\n",
       "table.dataframe{font-size:15px;}\n",
       "</style>\n"
      ],
      "text/plain": [
       "<IPython.core.display.HTML object>"
      ]
     },
     "metadata": {},
     "output_type": "display_data"
    }
   ],
   "source": [
    "from IPython.display import display, HTML\n",
    "display(HTML(\"\"\"\n",
    "<style>\n",
    "div.container{width:86% !important;}\n",
    "div.cell.code_cell.rendered{width:100%;}\n",
    "div.CodeMirror{font-family:Consolas; font-size:15pt;}\n",
    "div.output{font-size:12pt; font-weight:bold;}\n",
    "div.input{font-family:Consolas; font-size:12pt;}\n",
    "div.prompt{min-width:70px;}\n",
    "div#toc-wrapper {padding-top:120px;}\n",
    "div.text_cell_render ul li{font-size:12pt;padding:5px;}\n",
    "table.dataframe{font-size:15px;}\n",
    "</style>\n",
    "\"\"\"))"
   ]
  },
  {
   "cell_type": "markdown",
   "id": "ba7331fa",
   "metadata": {},
   "source": [
    "<font size=\"5\" color=\"red\">ch05 함수</font>\n",
    "- 사용할 코드를 묶어 놓고 그것에 이름을 붙인 것\n",
    "- 오버로딩(함수 이름이 같고, 매개변수의 타입이나 갯수로 다른 함수를 허용하는 것) 불가\n",
    "- 함수 정의\n",
    "```\n",
    "def 함수명([매개변수1, .. 매개변수n]):\n",
    "    명령어1\n",
    "    명령어2\n",
    "    명령어n\n",
    "```\n",
    "# 1절 함수의 정의 및 사용\n",
    "## 1.1 함수 정의"
   ]
  },
  {
   "cell_type": "code",
   "execution_count": 9,
   "id": "8f86d715",
   "metadata": {},
   "outputs": [],
   "source": [
    "# 함수 정의\n",
    "def my_message(x, msg): # msg를 x번 출력하는 함수\n",
    "    for i in range(x):\n",
    "        print(msg)"
   ]
  },
  {
   "cell_type": "code",
   "execution_count": 6,
   "id": "2211c55a",
   "metadata": {},
   "outputs": [
    {
     "name": "stdout",
     "output_type": "stream",
     "text": [
      "Hello\n",
      "Hello\n",
      "Hello\n",
      "Hello\n",
      "Hello\n"
     ]
    }
   ],
   "source": [
    "# 함수 사용\n",
    "my_message(5, 'Hello')"
   ]
  },
  {
   "cell_type": "code",
   "execution_count": 7,
   "id": "ce7a0679",
   "metadata": {},
   "outputs": [
    {
     "name": "stdout",
     "output_type": "stream",
     "text": [
      "hello\n",
      "hello\n",
      "hello\n"
     ]
    }
   ],
   "source": [
    "my_msg = my_message\n",
    "my_msg(3, 'hello')"
   ]
  },
  {
   "cell_type": "code",
   "execution_count": 8,
   "id": "ea2ea0aa",
   "metadata": {},
   "outputs": [
    {
     "data": {
      "text/plain": [
       "(function, function)"
      ]
     },
     "execution_count": 8,
     "metadata": {},
     "output_type": "execute_result"
    }
   ],
   "source": [
    "type(my_msg), type(my_message)"
   ]
  },
  {
   "cell_type": "code",
   "execution_count": 11,
   "id": "0126d271",
   "metadata": {},
   "outputs": [
    {
     "name": "stdout",
     "output_type": "stream",
     "text": [
      "Hello\n",
      "Hello\n"
     ]
    }
   ],
   "source": [
    "print('Hello') # 파이썬 내장함수(import 하지 않고 사용할 수 있는 함수)\n",
    "print = 5\n",
    "#print('Hello')\n",
    "del print\n",
    "print('Hello')"
   ]
  },
  {
   "cell_type": "code",
   "execution_count": 13,
   "id": "3117a6d1",
   "metadata": {},
   "outputs": [
    {
     "name": "stdout",
     "output_type": "stream",
     "text": [
      "Hello\n",
      "Hello\n"
     ]
    }
   ],
   "source": [
    "my_message(2, 'Hello')"
   ]
  },
  {
   "cell_type": "code",
   "execution_count": 14,
   "id": "019c569c",
   "metadata": {},
   "outputs": [],
   "source": [
    "my_message = 5"
   ]
  },
  {
   "cell_type": "code",
   "execution_count": 15,
   "id": "701deb38",
   "metadata": {},
   "outputs": [
    {
     "ename": "TypeError",
     "evalue": "'int' object is not callable",
     "output_type": "error",
     "traceback": [
      "\u001b[1;31m---------------------------------------------------------------------------\u001b[0m",
      "\u001b[1;31mTypeError\u001b[0m                                 Traceback (most recent call last)",
      "Cell \u001b[1;32mIn[15], line 1\u001b[0m\n\u001b[1;32m----> 1\u001b[0m \u001b[43mmy_message\u001b[49m\u001b[43m(\u001b[49m\u001b[38;5;241;43m2\u001b[39;49m\u001b[43m,\u001b[49m\u001b[43m \u001b[49m\u001b[38;5;124;43m'\u001b[39;49m\u001b[38;5;124;43mHello\u001b[39;49m\u001b[38;5;124;43m'\u001b[39;49m\u001b[43m)\u001b[49m\n",
      "\u001b[1;31mTypeError\u001b[0m: 'int' object is not callable"
     ]
    }
   ],
   "source": [
    "my_message(2, 'Hello')"
   ]
  },
  {
   "cell_type": "code",
   "execution_count": 16,
   "id": "18582bfd",
   "metadata": {},
   "outputs": [],
   "source": [
    "del my_message\n",
    "# 변수를 삭제해도 함수 사용불가(파이썬 내장함수가 아니라서)"
   ]
  },
  {
   "cell_type": "code",
   "execution_count": 17,
   "id": "a3a62591",
   "metadata": {},
   "outputs": [
    {
     "ename": "NameError",
     "evalue": "name 'my_message' is not defined",
     "output_type": "error",
     "traceback": [
      "\u001b[1;31m---------------------------------------------------------------------------\u001b[0m",
      "\u001b[1;31mNameError\u001b[0m                                 Traceback (most recent call last)",
      "Cell \u001b[1;32mIn[17], line 1\u001b[0m\n\u001b[1;32m----> 1\u001b[0m \u001b[43mmy_message\u001b[49m(\u001b[38;5;241m2\u001b[39m, \u001b[38;5;124m'\u001b[39m\u001b[38;5;124mHello\u001b[39m\u001b[38;5;124m'\u001b[39m)\n",
      "\u001b[1;31mNameError\u001b[0m: name 'my_message' is not defined"
     ]
    }
   ],
   "source": [
    "my_message(2, 'Hello')"
   ]
  },
  {
   "cell_type": "code",
   "execution_count": 4,
   "id": "9e5f300e",
   "metadata": {},
   "outputs": [],
   "source": [
    "# 함수 정의\n",
    "def my_hello():\n",
    "    print('Hello, Python')\n",
    "    print('Hello, World')\n",
    "def my_hello(cnt):\n",
    "    for i in range(cnt):\n",
    "        print('Hello, Python')\n",
    "        print('Hello, World')"
   ]
  },
  {
   "cell_type": "code",
   "execution_count": 6,
   "id": "2ea28a94",
   "metadata": {},
   "outputs": [
    {
     "name": "stdout",
     "output_type": "stream",
     "text": [
      "Hello, Python\n",
      "Hello, World\n",
      "Hello, Python\n",
      "Hello, World\n"
     ]
    }
   ],
   "source": [
    "# 함수 사용 = 함수 호출\n",
    "my_hello(2)"
   ]
  },
  {
   "cell_type": "code",
   "execution_count": 7,
   "id": "331084b9",
   "metadata": {},
   "outputs": [
    {
     "data": {
      "text/plain": [
       "<function __main__.my_hello(cnt)>"
      ]
     },
     "execution_count": 7,
     "metadata": {},
     "output_type": "execute_result"
    }
   ],
   "source": [
    "my_hello"
   ]
  },
  {
   "cell_type": "code",
   "execution_count": 8,
   "id": "23d76343",
   "metadata": {},
   "outputs": [
    {
     "data": {
      "text/plain": [
       "'__main__'"
      ]
     },
     "execution_count": 8,
     "metadata": {},
     "output_type": "execute_result"
    }
   ],
   "source": [
    "__name__"
   ]
  },
  {
   "cell_type": "code",
   "execution_count": 1,
   "id": "d86b754e",
   "metadata": {},
   "outputs": [
    {
     "ename": "NameError",
     "evalue": "name 'my_hello' is not defined",
     "output_type": "error",
     "traceback": [
      "\u001b[1;31m---------------------------------------------------------------------------\u001b[0m",
      "\u001b[1;31mNameError\u001b[0m                                 Traceback (most recent call last)",
      "Cell \u001b[1;32mIn[1], line 2\u001b[0m\n\u001b[0;32m      1\u001b[0m \u001b[38;5;28;01mif\u001b[39;00m \u001b[38;5;18m__name__\u001b[39m\u001b[38;5;241m==\u001b[39m\u001b[38;5;124m'\u001b[39m\u001b[38;5;124m__main__\u001b[39m\u001b[38;5;124m'\u001b[39m:\n\u001b[1;32m----> 2\u001b[0m     \u001b[43mmy_hello\u001b[49m(\u001b[38;5;241m2\u001b[39m)\n",
      "\u001b[1;31mNameError\u001b[0m: name 'my_hello' is not defined"
     ]
    }
   ],
   "source": [
    "if __name__=='__main__':\n",
    "    my_hello(2)"
   ]
  },
  {
   "cell_type": "code",
   "execution_count": 1,
   "id": "f809e4cb",
   "metadata": {},
   "outputs": [],
   "source": [
    "import ch05 # ch05모듈을 load"
   ]
  },
  {
   "cell_type": "code",
   "execution_count": 2,
   "id": "093d595f",
   "metadata": {},
   "outputs": [
    {
     "name": "stdout",
     "output_type": "stream",
     "text": [
      "Hello, Python\n",
      "Hello, World\n",
      "Hello, Python\n",
      "Hello, World\n"
     ]
    }
   ],
   "source": [
    "ch05.my_hello(2)"
   ]
  },
  {
   "cell_type": "code",
   "execution_count": 3,
   "id": "4e2790ca",
   "metadata": {},
   "outputs": [],
   "source": [
    "from ch05 import my_hello # ch05모듈안의 my_hello load"
   ]
  },
  {
   "cell_type": "code",
   "execution_count": 4,
   "id": "24bd55eb",
   "metadata": {},
   "outputs": [
    {
     "name": "stdout",
     "output_type": "stream",
     "text": [
      "Hello, Python\n",
      "Hello, World\n",
      "Hello, Python\n",
      "Hello, World\n"
     ]
    }
   ],
   "source": [
    "my_hello(2)"
   ]
  },
  {
   "cell_type": "markdown",
   "id": "ad63e635",
   "metadata": {},
   "source": [
    "## 1.2 docstring"
   ]
  },
  {
   "cell_type": "code",
   "execution_count": 7,
   "id": "c87e1a0e",
   "metadata": {},
   "outputs": [],
   "source": [
    "def my_function():\n",
    "    '''\n",
    "    함수의 첫라인에 독스트링을 포함할 수 있습니다\n",
    "    독스트링은 함수의 설명서를 달아주는 역할\n",
    "    주석보다 많은 기능(shift+tab으로 독스트링을 볼 수 있음)\n",
    "    '''\n",
    "    pass"
   ]
  },
  {
   "cell_type": "code",
   "execution_count": 8,
   "id": "582ef5b0",
   "metadata": {},
   "outputs": [
    {
     "name": "stdout",
     "output_type": "stream",
     "text": [
      "\n",
      "    함수의 첫라인에 독스트링을 포함할 수 있습니다\n",
      "    독스트링은 함수의 설명서를 달아주는 역할\n",
      "    주석보다 많은 기능(shift+tab으로 독스트링을 볼 수 있음)\n",
      "    \n"
     ]
    }
   ],
   "source": [
    "print(my_function.__doc__)"
   ]
  },
  {
   "cell_type": "code",
   "execution_count": 9,
   "id": "3b7b314f",
   "metadata": {},
   "outputs": [],
   "source": [
    "def fibonacci(n):\n",
    "    a, b = 0, 1\n",
    "    while a < n:\n",
    "        print(a, end=\" \")\n",
    "        a, b = b, a+b\n",
    "    print() # 개행"
   ]
  },
  {
   "cell_type": "code",
   "execution_count": 11,
   "id": "e2c10cbc",
   "metadata": {},
   "outputs": [
    {
     "name": "stdout",
     "output_type": "stream",
     "text": [
      "0 1 1 2 3 5 8 \n"
     ]
    }
   ],
   "source": [
    "fibonacci(10)"
   ]
  },
  {
   "cell_type": "code",
   "execution_count": 14,
   "id": "4bb8def0",
   "metadata": {},
   "outputs": [
    {
     "ename": "NameError",
     "evalue": "name 'a' is not defined",
     "output_type": "error",
     "traceback": [
      "\u001b[1;31m---------------------------------------------------------------------------\u001b[0m",
      "\u001b[1;31mNameError\u001b[0m                                 Traceback (most recent call last)",
      "Cell \u001b[1;32mIn[14], line 1\u001b[0m\n\u001b[1;32m----> 1\u001b[0m \u001b[43ma\u001b[49m, b\n",
      "\u001b[1;31mNameError\u001b[0m: name 'a' is not defined"
     ]
    }
   ],
   "source": [
    "a, b"
   ]
  },
  {
   "cell_type": "markdown",
   "id": "fb95b054",
   "metadata": {},
   "source": [
    "## 1.3 지역변수(local var)와 전역변수(global var)"
   ]
  },
  {
   "cell_type": "code",
   "execution_count": 19,
   "id": "606ad9d0",
   "metadata": {},
   "outputs": [
    {
     "name": "stdout",
     "output_type": "stream",
     "text": [
      "함수 안 : 100\n",
      "함수 밖 : 100\n"
     ]
    }
   ],
   "source": [
    "global_var = 100 # 전역변수\n",
    "def func1():\n",
    "    print('함수 안 :', global_var)\n",
    "func1()\n",
    "print('함수 밖 :', global_var)"
   ]
  },
  {
   "cell_type": "code",
   "execution_count": 21,
   "id": "fda60c7c",
   "metadata": {},
   "outputs": [
    {
     "name": "stdout",
     "output_type": "stream",
     "text": [
      "함수 안 : 200\n"
     ]
    },
    {
     "ename": "NameError",
     "evalue": "name 'local_var' is not defined",
     "output_type": "error",
     "traceback": [
      "\u001b[1;31m---------------------------------------------------------------------------\u001b[0m",
      "\u001b[1;31mNameError\u001b[0m                                 Traceback (most recent call last)",
      "Cell \u001b[1;32mIn[21], line 5\u001b[0m\n\u001b[0;32m      3\u001b[0m     \u001b[38;5;28mprint\u001b[39m(\u001b[38;5;124m'\u001b[39m\u001b[38;5;124m함수 안 :\u001b[39m\u001b[38;5;124m'\u001b[39m, local_var)\n\u001b[0;32m      4\u001b[0m func2()\n\u001b[1;32m----> 5\u001b[0m \u001b[38;5;28mprint\u001b[39m(\u001b[38;5;124m'\u001b[39m\u001b[38;5;124m함수 밖 :\u001b[39m\u001b[38;5;124m'\u001b[39m, \u001b[43mlocal_var\u001b[49m)\n",
      "\u001b[1;31mNameError\u001b[0m: name 'local_var' is not defined"
     ]
    }
   ],
   "source": [
    "def func2():\n",
    "    local_var = 200 # 지역변수(함수 안에서만 사용할 수 있는 변수)\n",
    "    print('함수 안 :', local_var)\n",
    "func2()\n",
    "print('함수 밖 :', local_var)"
   ]
  },
  {
   "cell_type": "code",
   "execution_count": 26,
   "id": "933cf826",
   "metadata": {},
   "outputs": [
    {
     "name": "stdout",
     "output_type": "stream",
     "text": [
      "함수 안(지역변수 g_var) : 200\n",
      "함수 밖(전역변수 g_var) : 100\n"
     ]
    }
   ],
   "source": [
    "g_var = 100 # 전역변수\n",
    "def func3():\n",
    "    g_var = 200 # 지역변수(변수 선언과 할당)\n",
    "    print('함수 안(지역변수 g_var) :', g_var)\n",
    "func3()\n",
    "print('함수 밖(전역변수 g_var) :', g_var)"
   ]
  },
  {
   "cell_type": "code",
   "execution_count": 29,
   "id": "84fdb3de",
   "metadata": {},
   "outputs": [
    {
     "ename": "UnboundLocalError",
     "evalue": "local variable 'g_var' referenced before assignment",
     "output_type": "error",
     "traceback": [
      "\u001b[1;31m---------------------------------------------------------------------------\u001b[0m",
      "\u001b[1;31mUnboundLocalError\u001b[0m                         Traceback (most recent call last)",
      "Cell \u001b[1;32mIn[29], line 5\u001b[0m\n\u001b[0;32m      3\u001b[0m     \u001b[38;5;28mprint\u001b[39m(\u001b[38;5;124m'\u001b[39m\u001b[38;5;124m함수 안 g_var :\u001b[39m\u001b[38;5;124m'\u001b[39m, g_var)\n\u001b[0;32m      4\u001b[0m     g_var \u001b[38;5;241m=\u001b[39m \u001b[38;5;241m200\u001b[39m \u001b[38;5;66;03m# 지역변수\u001b[39;00m\n\u001b[1;32m----> 5\u001b[0m \u001b[43mfunc4\u001b[49m\u001b[43m(\u001b[49m\u001b[43m)\u001b[49m\n",
      "Cell \u001b[1;32mIn[29], line 3\u001b[0m, in \u001b[0;36mfunc4\u001b[1;34m()\u001b[0m\n\u001b[0;32m      2\u001b[0m \u001b[38;5;28;01mdef\u001b[39;00m \u001b[38;5;21mfunc4\u001b[39m():\n\u001b[1;32m----> 3\u001b[0m     \u001b[38;5;28mprint\u001b[39m(\u001b[38;5;124m'\u001b[39m\u001b[38;5;124m함수 안 g_var :\u001b[39m\u001b[38;5;124m'\u001b[39m, \u001b[43mg_var\u001b[49m)\n\u001b[0;32m      4\u001b[0m     g_var \u001b[38;5;241m=\u001b[39m \u001b[38;5;241m200\u001b[39m\n",
      "\u001b[1;31mUnboundLocalError\u001b[0m: local variable 'g_var' referenced before assignment"
     ]
    }
   ],
   "source": [
    "# 렉시컬 특성\n",
    "g_var = 100 # 전역변수\n",
    "def func4():\n",
    "    print('함수 안 g_var :', g_var)\n",
    "    g_var = 200 # 지역변수\n",
    "func4()"
   ]
  },
  {
   "cell_type": "code",
   "execution_count": 30,
   "id": "f4cf76d3",
   "metadata": {},
   "outputs": [
    {
     "name": "stdout",
     "output_type": "stream",
     "text": [
      "함수 안 g_var : 100\n",
      "함수 밖 g_var : 200\n"
     ]
    }
   ],
   "source": [
    "# 렉시컬 특성\n",
    "g_var = 100 # 전역변수\n",
    "def func4():\n",
    "    global g_var # func4함수내의 g_var는 전역변수를 쓴다\n",
    "    print('함수 안 g_var :', g_var)\n",
    "    g_var = 200 # 전역변수\n",
    "func4()\n",
    "print('함수 밖 g_var :', g_var)"
   ]
  },
  {
   "cell_type": "markdown",
   "id": "75fc6dc4",
   "metadata": {},
   "source": [
    "## 1.4 값에 의한 호출\n",
    "- 함수의 매개변수(인수)로 전달되는 변수가 스칼라 변수(문자, 숫자, 논리형)일 때"
   ]
  },
  {
   "cell_type": "code",
   "execution_count": 31,
   "id": "6bd12c68",
   "metadata": {},
   "outputs": [
    {
     "data": {
      "text/plain": [
       "2134914197296"
      ]
     },
     "execution_count": 31,
     "metadata": {},
     "output_type": "execute_result"
    }
   ],
   "source": [
    "foo = 'a' # 전역변수\n",
    "id(foo)"
   ]
  },
  {
   "cell_type": "code",
   "execution_count": 41,
   "id": "75146713",
   "metadata": {},
   "outputs": [
    {
     "name": "stdout",
     "output_type": "stream",
     "text": [
      "Before : a  id(f) 2134914197296\n",
      "After : aaa  id(f) 2135029390000\n"
     ]
    }
   ],
   "source": [
    "def func1(f): # 매개변수 f는 지역변수\n",
    "    print('Before :', f, ' id(f)', id(f))\n",
    "    f = f * 3\n",
    "    print('After :', f, ' id(f)', id(f))\n",
    "func1(foo)"
   ]
  },
  {
   "cell_type": "code",
   "execution_count": 44,
   "id": "63d9a921",
   "metadata": {},
   "outputs": [
    {
     "name": "stdout",
     "output_type": "stream",
     "text": [
      "a 2134914197296\n"
     ]
    }
   ],
   "source": [
    "print(foo, id(foo))"
   ]
  },
  {
   "cell_type": "markdown",
   "id": "bab0e0db",
   "metadata": {},
   "source": [
    "## 1.5 참조에 의한 호출\n",
    "- 함수의 매개변수(인자)로 전달되는 변수가 리스트, 튜플, 셋, 딕셔너리 등의 객체일 경우"
   ]
  },
  {
   "cell_type": "code",
   "execution_count": 40,
   "id": "9b31c481",
   "metadata": {},
   "outputs": [
    {
     "data": {
      "text/plain": [
       "2135029091456"
      ]
     },
     "execution_count": 40,
     "metadata": {},
     "output_type": "execute_result"
    }
   ],
   "source": [
    "L = [1, 2, 3]\n",
    "id(L)"
   ]
  },
  {
   "cell_type": "code",
   "execution_count": 45,
   "id": "8a8442ed",
   "metadata": {},
   "outputs": [
    {
     "name": "stdout",
     "output_type": "stream",
     "text": [
      "Before : [1, 2, 3, 4] 2135029091456\n",
      "After : [1, 2, 3, 4, 4] 2135029091456\n"
     ]
    }
   ],
   "source": [
    "def func2(f): # 매개변수는 지역변수\n",
    "    print('Before :', f, id(f))\n",
    "    f.append(4)\n",
    "    print('After :', f, id(f))\n",
    "func2(L)"
   ]
  },
  {
   "cell_type": "code",
   "execution_count": 46,
   "id": "57c78436",
   "metadata": {},
   "outputs": [
    {
     "name": "stdout",
     "output_type": "stream",
     "text": [
      "L = [1, 2, 3, 4, 4] 2135029091456\n"
     ]
    }
   ],
   "source": [
    "print('L =', L, id(L))"
   ]
  },
  {
   "cell_type": "markdown",
   "id": "95dfe972",
   "metadata": {},
   "source": [
    "# 2절 함수의 실행결과를 반환하는 return"
   ]
  },
  {
   "cell_type": "code",
   "execution_count": 51,
   "id": "83956d89",
   "metadata": {},
   "outputs": [],
   "source": [
    "def fibonacci_print(n):\n",
    "    '''\n",
    "    매개변수로 들어온 n값 미만의 피보나치 수열을 출력\n",
    "    ex. n=10이면 0 1 1 2 3 5 8을 출력\n",
    "    '''\n",
    "    a, b = 0, 1\n",
    "    while a < n:\n",
    "        print(a, end=\" \")\n",
    "        a, b = b, a+b\n",
    "    print() # 개행\n",
    "    \n",
    "def fibonacci_return(n):\n",
    "    '''\n",
    "    매개변수로 들어온 n값 미만의 피보나치 수열을 리스트로 return\n",
    "    ex. n=10이면 [0 1 1 2 3 5 8]을 return\n",
    "    '''\n",
    "    result = []\n",
    "    a, b = 0, 1\n",
    "    while a < n:\n",
    "        result.append(a)\n",
    "        a, b = b, a+b\n",
    "    return result"
   ]
  },
  {
   "cell_type": "code",
   "execution_count": 50,
   "id": "39ec7f4e",
   "metadata": {},
   "outputs": [
    {
     "name": "stdout",
     "output_type": "stream",
     "text": [
      "0 1 1 2 3 5 8 \n",
      "None\n"
     ]
    }
   ],
   "source": [
    "x = fibonacci_print(10)\n",
    "print(x)"
   ]
  },
  {
   "cell_type": "code",
   "execution_count": 52,
   "id": "512c7b0c",
   "metadata": {},
   "outputs": [
    {
     "name": "stdout",
     "output_type": "stream",
     "text": [
      "[0, 1, 1, 2, 3, 5, 8, 13, 21, 34, 55, 89]\n",
      "<class 'list'>\n"
     ]
    }
   ],
   "source": [
    "x = fibonacci_return(100)\n",
    "print(x)\n",
    "print(type(x))"
   ]
  },
  {
   "cell_type": "markdown",
   "id": "396473a6",
   "metadata": {},
   "source": [
    "## 여러개 값 return"
   ]
  },
  {
   "cell_type": "code",
   "execution_count": 53,
   "id": "4b15685f",
   "metadata": {},
   "outputs": [],
   "source": [
    "def swap(a, b):\n",
    "    '매개변수의 순서를 바꿔서 return'\n",
    "    return b, a"
   ]
  },
  {
   "cell_type": "code",
   "execution_count": 55,
   "id": "ddfbd4ff",
   "metadata": {},
   "outputs": [
    {
     "name": "stdout",
     "output_type": "stream",
     "text": [
      "함수 실행 전 x=5, y=10\n",
      "함수 실행 후 x=10, y=5\n"
     ]
    }
   ],
   "source": [
    "x, y = 5, 10\n",
    "print(f'함수 실행 전 x={x}, y={y}')\n",
    "x, y = swap(x, y)\n",
    "print(f'함수 실행 후 x={x}, y={y}')"
   ]
  },
  {
   "cell_type": "markdown",
   "id": "e20abdcd",
   "metadata": {},
   "source": [
    "# 3절 함수의 매개변수 ★\n",
    "## 3.1 기본 값을 갖는 매개변수"
   ]
  },
  {
   "cell_type": "code",
   "execution_count": 56,
   "id": "a6485de5",
   "metadata": {},
   "outputs": [],
   "source": [
    "def make_url(ip, port=80): # 순서인수 > 기본 값을 갖는 매개변수\n",
    "    return 'http://{}:{}'.format(ip, port)"
   ]
  },
  {
   "cell_type": "code",
   "execution_count": 59,
   "id": "e28dc2d1",
   "metadata": {},
   "outputs": [
    {
     "name": "stdout",
     "output_type": "stream",
     "text": [
      "http://www.naver.com:80\n",
      "http://localhost:8090\n",
      "http://localhost:8090\n"
     ]
    }
   ],
   "source": [
    "print(make_url('www.naver.com'))\n",
    "print(make_url('localhost', 8090))\n",
    "print(make_url(port=8090, ip='localhost'))"
   ]
  },
  {
   "cell_type": "markdown",
   "id": "be74f383",
   "metadata": {},
   "source": [
    "## 3.2 기본 변수를 갖는 매개변수\n",
    "- 기본 변수가 스칼라 변수일 때\n",
    "- 기본 변수가 리스트, 셋, 딕셔너리 등의 객체일 때"
   ]
  },
  {
   "cell_type": "code",
   "execution_count": 60,
   "id": "3dd4befb",
   "metadata": {},
   "outputs": [],
   "source": [
    "i = 5\n",
    "# 기본 값을 갖는 변수가 스칼라 변수일 때 : arg의 기본 값은 함수가 정의되는 시점의 값\n",
    "def func2(arg=i):\n",
    "    print('arg =', arg)"
   ]
  },
  {
   "cell_type": "code",
   "execution_count": 61,
   "id": "e08d7006",
   "metadata": {},
   "outputs": [
    {
     "name": "stdout",
     "output_type": "stream",
     "text": [
      "arg = 5\n"
     ]
    }
   ],
   "source": [
    "i = 50\n",
    "func2()"
   ]
  },
  {
   "cell_type": "code",
   "execution_count": 63,
   "id": "970772a1",
   "metadata": {},
   "outputs": [],
   "source": [
    "list_ = []\n",
    "# 기본 값을 갖는 변수가 객체(데이터구조)일 때 : arg의 기본 값은 호출되는 시점의 값\n",
    "def func3(data, L=list_):\n",
    "    'data를 L에 append'\n",
    "    L.append(data)\n",
    "    return L"
   ]
  },
  {
   "cell_type": "code",
   "execution_count": 64,
   "id": "76a45acf",
   "metadata": {},
   "outputs": [
    {
     "name": "stdout",
     "output_type": "stream",
     "text": [
      "[10]\n"
     ]
    }
   ],
   "source": [
    "print(func3(10)) # list_가 수정 : [10]"
   ]
  },
  {
   "cell_type": "code",
   "execution_count": 66,
   "id": "309e0f32",
   "metadata": {},
   "outputs": [
    {
     "name": "stdout",
     "output_type": "stream",
     "text": [
      "[10, 20]\n"
     ]
    }
   ],
   "source": [
    "print(func3(20))"
   ]
  },
  {
   "cell_type": "code",
   "execution_count": 67,
   "id": "e9d071b3",
   "metadata": {},
   "outputs": [
    {
     "data": {
      "text/plain": [
       "[10, 20]"
      ]
     },
     "execution_count": 67,
     "metadata": {},
     "output_type": "execute_result"
    }
   ],
   "source": [
    "list_"
   ]
  },
  {
   "cell_type": "code",
   "execution_count": 68,
   "id": "4ee1ede0",
   "metadata": {},
   "outputs": [],
   "source": [
    "def func4(data, L=None):\n",
    "    if L==None:\n",
    "        L = []\n",
    "    L.append(data)\n",
    "    return L"
   ]
  },
  {
   "cell_type": "code",
   "execution_count": 69,
   "id": "e3320eec",
   "metadata": {},
   "outputs": [
    {
     "name": "stdout",
     "output_type": "stream",
     "text": [
      "[10]\n",
      "[10, 20, 10]\n"
     ]
    }
   ],
   "source": [
    "print(func4(10))\n",
    "print(func4(10, list_))"
   ]
  },
  {
   "cell_type": "markdown",
   "id": "82524a52",
   "metadata": {},
   "source": [
    "## 3.3 튜플 매개변수를 이용한 가변인수 설정"
   ]
  },
  {
   "cell_type": "code",
   "execution_count": 70,
   "id": "2c087eed",
   "metadata": {},
   "outputs": [],
   "source": [
    "# 파이썬은 오버로딩(함수의 중복)을 지원하지 않음\n",
    "def add(a, b):\n",
    "    return a+b\n",
    "def add(a, b, c):\n",
    "    return a+b+c"
   ]
  },
  {
   "cell_type": "code",
   "execution_count": 71,
   "id": "5b627b23",
   "metadata": {},
   "outputs": [
    {
     "ename": "TypeError",
     "evalue": "add() takes 3 positional arguments but 4 were given",
     "output_type": "error",
     "traceback": [
      "\u001b[1;31m---------------------------------------------------------------------------\u001b[0m",
      "\u001b[1;31mTypeError\u001b[0m                                 Traceback (most recent call last)",
      "Cell \u001b[1;32mIn[71], line 1\u001b[0m\n\u001b[1;32m----> 1\u001b[0m \u001b[43madd\u001b[49m\u001b[43m(\u001b[49m\u001b[38;5;241;43m1\u001b[39;49m\u001b[43m,\u001b[49m\u001b[38;5;241;43m2\u001b[39;49m\u001b[43m,\u001b[49m\u001b[38;5;241;43m3\u001b[39;49m\u001b[43m,\u001b[49m\u001b[38;5;241;43m4\u001b[39;49m\u001b[43m)\u001b[49m\n",
      "\u001b[1;31mTypeError\u001b[0m: add() takes 3 positional arguments but 4 were given"
     ]
    }
   ],
   "source": [
    "add(1,2,3,4)"
   ]
  },
  {
   "cell_type": "code",
   "execution_count": 77,
   "id": "7dd07383",
   "metadata": {},
   "outputs": [],
   "source": [
    "# *args : 매개변수들을 하나의 튜플 변수 args로 전달받음\n",
    "def add(*args):\n",
    "    '전달받은 매개변수들의 합을 return'\n",
    "    # print('args = ', args)\n",
    "    result_tot = 0 # 누적변수\n",
    "    for data in args:\n",
    "        result_tot += data\n",
    "    return result_tot"
   ]
  },
  {
   "cell_type": "code",
   "execution_count": 80,
   "id": "b0f4829d",
   "metadata": {},
   "outputs": [
    {
     "name": "stdout",
     "output_type": "stream",
     "text": [
      "1\n",
      "3\n",
      "6\n",
      "21\n"
     ]
    }
   ],
   "source": [
    "print(add(1))\n",
    "print(add(1, 2))\n",
    "print(add(1, 2, 3))\n",
    "print(add(1, 2, 3, 6, 9))"
   ]
  },
  {
   "cell_type": "code",
   "execution_count": 81,
   "id": "de4bbf1b",
   "metadata": {},
   "outputs": [
    {
     "data": {
      "text/plain": [
       "'Python/Oracle/DL/ML'"
      ]
     },
     "execution_count": 81,
     "metadata": {},
     "output_type": "execute_result"
    }
   ],
   "source": [
    "subject = ('Python', 'Oracle', 'DL', 'ML')\n",
    "'/'.join(subject)"
   ]
  },
  {
   "cell_type": "code",
   "execution_count": 82,
   "id": "fcf92745",
   "metadata": {},
   "outputs": [],
   "source": [
    "def concat(*subject, sep):\n",
    "    return sep.join(subject)"
   ]
  },
  {
   "cell_type": "code",
   "execution_count": 83,
   "id": "f6b587ef",
   "metadata": {},
   "outputs": [
    {
     "ename": "TypeError",
     "evalue": "concat() missing 1 required keyword-only argument: 'sep'",
     "output_type": "error",
     "traceback": [
      "\u001b[1;31m---------------------------------------------------------------------------\u001b[0m",
      "\u001b[1;31mTypeError\u001b[0m                                 Traceback (most recent call last)",
      "Cell \u001b[1;32mIn[83], line 1\u001b[0m\n\u001b[1;32m----> 1\u001b[0m \u001b[43mconcat\u001b[49m\u001b[43m(\u001b[49m\u001b[38;5;124;43m'\u001b[39;49m\u001b[38;5;124;43mPython\u001b[39;49m\u001b[38;5;124;43m'\u001b[39;49m\u001b[43m,\u001b[49m\u001b[43m \u001b[49m\u001b[38;5;124;43m'\u001b[39;49m\u001b[38;5;124;43mOracle\u001b[39;49m\u001b[38;5;124;43m'\u001b[39;49m\u001b[43m,\u001b[49m\u001b[43m \u001b[49m\u001b[38;5;124;43m'\u001b[39;49m\u001b[38;5;124;43mDL\u001b[39;49m\u001b[38;5;124;43m'\u001b[39;49m\u001b[43m,\u001b[49m\u001b[43m \u001b[49m\u001b[38;5;124;43m'\u001b[39;49m\u001b[38;5;124;43mML\u001b[39;49m\u001b[38;5;124;43m'\u001b[39;49m\u001b[43m,\u001b[49m\u001b[43m \u001b[49m\u001b[38;5;124;43m'\u001b[39;49m\u001b[38;5;124;43m/\u001b[39;49m\u001b[38;5;124;43m'\u001b[39;49m\u001b[43m)\u001b[49m\n",
      "\u001b[1;31mTypeError\u001b[0m: concat() missing 1 required keyword-only argument: 'sep'"
     ]
    }
   ],
   "source": [
    "concat('Python', 'Oracle', 'DL', 'ML', '/')"
   ]
  },
  {
   "cell_type": "code",
   "execution_count": 84,
   "id": "c22a7a2e",
   "metadata": {},
   "outputs": [
    {
     "data": {
      "text/plain": [
       "'Python / Oracle / DL / ML'"
      ]
     },
     "execution_count": 84,
     "metadata": {},
     "output_type": "execute_result"
    }
   ],
   "source": [
    "# 해결책1 : 매개변수 이름을 지정해서 호출\n",
    "concat('Python', 'Oracle', 'DL', 'ML', sep=' / ')"
   ]
  },
  {
   "cell_type": "code",
   "execution_count": 85,
   "id": "3c6bddaa",
   "metadata": {},
   "outputs": [],
   "source": [
    "# 해결책2 : 기본 값을 반드시 갖는 키워드인수 사용\n",
    "def concat(*subject, sep=' ~ '):\n",
    "    return sep.join(subject)"
   ]
  },
  {
   "cell_type": "code",
   "execution_count": 87,
   "id": "5aaa8807",
   "metadata": {},
   "outputs": [
    {
     "data": {
      "text/plain": [
       "'Python / Oracle / DL / ML'"
      ]
     },
     "execution_count": 87,
     "metadata": {},
     "output_type": "execute_result"
    }
   ],
   "source": [
    "concat('Python', 'Oracle', 'DL', 'ML', sep=' / ')"
   ]
  },
  {
   "cell_type": "code",
   "execution_count": 88,
   "id": "c4078e9b",
   "metadata": {},
   "outputs": [
    {
     "name": "stdout",
     "output_type": "stream",
     "text": [
      "Python / Oracle / DL / ML\n"
     ]
    }
   ],
   "source": [
    "print('Python', 'Oracle', 'DL', 'ML', sep=' / ')"
   ]
  },
  {
   "cell_type": "code",
   "execution_count": 89,
   "id": "924dfc65",
   "metadata": {},
   "outputs": [],
   "source": [
    "# 해결책3 : sep을 순서인수로 앞에 선언\n",
    "def concat(sep, *subject):\n",
    "    return sep.join(subject)"
   ]
  },
  {
   "cell_type": "code",
   "execution_count": 90,
   "id": "bfdd119e",
   "metadata": {},
   "outputs": [
    {
     "data": {
      "text/plain": [
       "'Python/Oracle/DL/ML'"
      ]
     },
     "execution_count": 90,
     "metadata": {},
     "output_type": "execute_result"
    }
   ],
   "source": [
    "concat('/', 'Python', 'Oracle', 'DL', 'ML')"
   ]
  },
  {
   "cell_type": "markdown",
   "id": "3dc44b6d",
   "metadata": {},
   "source": [
    "## 3.4 딕셔너리 매개변수\n",
    "- 여러 개의 키워드인수를 딕셔너리 형태로 받아서 가변키워드 인수 처리"
   ]
  },
  {
   "cell_type": "code",
   "execution_count": 96,
   "id": "722d3658",
   "metadata": {},
   "outputs": [],
   "source": [
    "def func5(**kwargs):\n",
    "    print(kwargs)\n",
    "    print(type(kwargs))\n",
    "    print('이름 :', kwargs.get('name', '대마왕'))\n",
    "    print('나이 :', kwargs.get('age', 30))\n",
    "    print('주소 :', kwargs.get('address', '서울'))"
   ]
  },
  {
   "cell_type": "code",
   "execution_count": 97,
   "id": "0f8d583e",
   "metadata": {},
   "outputs": [
    {
     "name": "stdout",
     "output_type": "stream",
     "text": [
      "{'name': '홍길동', 'age': 30, 'address': '신림동'}\n",
      "<class 'dict'>\n",
      "이름 : 홍길동\n",
      "나이 : 30\n",
      "주소 : 신림동\n"
     ]
    }
   ],
   "source": [
    "func5(name='홍길동', age=30, address='신림동')"
   ]
  },
  {
   "cell_type": "code",
   "execution_count": 98,
   "id": "4eab3f4a",
   "metadata": {},
   "outputs": [
    {
     "name": "stdout",
     "output_type": "stream",
     "text": [
      "{'name': '김길동'}\n",
      "<class 'dict'>\n",
      "이름 : 김길동\n",
      "나이 : 30\n",
      "주소 : 서울\n"
     ]
    }
   ],
   "source": [
    "func5(name='김길동')"
   ]
  },
  {
   "cell_type": "markdown",
   "id": "38d1fd40",
   "metadata": {},
   "source": [
    "## 3.5 함수정의시 매개변수 순서\n",
    "- 순서인수 > 튜플매개변수(*) > 키워드인수(매개변수이름 반드시 명시) > 딕셔너리매개변수(**)"
   ]
  },
  {
   "cell_type": "code",
   "execution_count": 99,
   "id": "6b16827f",
   "metadata": {},
   "outputs": [],
   "source": [
    "def func6(a, b, *c, **d):\n",
    "    print('순서인수 a :', a)\n",
    "    print('순서인수 b :', b)\n",
    "    print('튜플인수 c :', c)\n",
    "    print('딕셔너리 인수 d :', d)"
   ]
  },
  {
   "cell_type": "code",
   "execution_count": 100,
   "id": "930475f4",
   "metadata": {},
   "outputs": [
    {
     "name": "stdout",
     "output_type": "stream",
     "text": [
      "순서인수 a : 10\n",
      "순서인수 b : 20\n",
      "튜플인수 c : (1, 2, 3, 4, 5, 6, 7, 8, 9)\n",
      "딕셔너리 인수 d : {'name': '홍길동', 'age': 30, 'address': '서울'}\n"
     ]
    }
   ],
   "source": [
    "func6(10, 20, 1, 2, 3, 4, 5, 6, 7, 8, 9, name='홍길동', age=30, address='서울')"
   ]
  },
  {
   "cell_type": "code",
   "execution_count": 101,
   "id": "c384ecbe",
   "metadata": {},
   "outputs": [],
   "source": [
    "def func7(a, b, *c, d='기본값', **e):\n",
    "    print('순서인수 a :', a)\n",
    "    print('순서인수 b :', b)\n",
    "    print('튜플인수 c :', c)\n",
    "    print('키워드인수(기본값을 갖는 인수, 호출시 매개변수명 반드시 명시) d :', d)\n",
    "    print('딕셔너리인수 e :', e)"
   ]
  },
  {
   "cell_type": "code",
   "execution_count": 102,
   "id": "76d1909a",
   "metadata": {},
   "outputs": [
    {
     "name": "stdout",
     "output_type": "stream",
     "text": [
      "순서인수 a : 10\n",
      "순서인수 b : 20\n",
      "튜플인수 c : (1, 2, 3)\n",
      "키워드인수(기본값을 갖는 인수, 호출시 매개변수명 반드시 명시) d : 딴거\n",
      "딕셔너리인수 e : {'fontsize': 12, 'fontfamily': 'consola'}\n"
     ]
    }
   ],
   "source": [
    "func7(10, 20, 1, 2, 3, d='딴거', fontsize=12, fontfamily='consola')"
   ]
  },
  {
   "cell_type": "code",
   "execution_count": 103,
   "id": "57b28b61",
   "metadata": {},
   "outputs": [
    {
     "name": "stdout",
     "output_type": "stream",
     "text": [
      "순서인수 a : 10\n",
      "순서인수 b : 20\n",
      "튜플인수 c : (1, 2, 3, '딴거')\n",
      "키워드인수(기본값을 갖는 인수, 호출시 매개변수명 반드시 명시) d : 기본값\n",
      "딕셔너리인수 e : {'fontsize': 12, 'fontfamily': 'consola'}\n"
     ]
    }
   ],
   "source": [
    "func7(10, 20, 1, 2, 3, '딴거', fontsize=12, fontfamily='consola')"
   ]
  },
  {
   "cell_type": "markdown",
   "id": "6b1c885d",
   "metadata": {},
   "source": [
    "## 3.6 인수의 언패킹\n",
    "### 튜플인수 언패킹\n",
    "- 언패킹 : 함수 호출시 매개변수 앞에 * 붙임\n",
    "- 패킹 : 함수 정의시 매개변수 앞에 * 붙임(튜플매개변수)"
   ]
  },
  {
   "cell_type": "code",
   "execution_count": 107,
   "id": "0f6c746b",
   "metadata": {},
   "outputs": [],
   "source": [
    "def add(*args):\n",
    "    print(args)\n",
    "    tot = 0\n",
    "    for num in args:\n",
    "        tot += num\n",
    "    return tot"
   ]
  },
  {
   "cell_type": "code",
   "execution_count": 108,
   "id": "84c9ed95",
   "metadata": {},
   "outputs": [
    {
     "name": "stdout",
     "output_type": "stream",
     "text": [
      "(1, 2, 3, 4)\n"
     ]
    },
    {
     "data": {
      "text/plain": [
       "10"
      ]
     },
     "execution_count": 108,
     "metadata": {},
     "output_type": "execute_result"
    }
   ],
   "source": [
    "add(1, 2, 3, 4)"
   ]
  },
  {
   "cell_type": "code",
   "execution_count": 111,
   "id": "4692c38f",
   "metadata": {},
   "outputs": [
    {
     "name": "stdout",
     "output_type": "stream",
     "text": [
      "(1, 2, 3, 4)\n"
     ]
    },
    {
     "data": {
      "text/plain": [
       "10"
      ]
     },
     "execution_count": 111,
     "metadata": {},
     "output_type": "execute_result"
    }
   ],
   "source": [
    "numbers = [1, 2, 3, 4]\n",
    "add(*numbers) # 언패킹"
   ]
  },
  {
   "cell_type": "code",
   "execution_count": 112,
   "id": "59201b86",
   "metadata": {},
   "outputs": [
    {
     "name": "stdout",
     "output_type": "stream",
     "text": [
      "(1, 2, 3, 4)\n"
     ]
    },
    {
     "data": {
      "text/plain": [
       "10"
      ]
     },
     "execution_count": 112,
     "metadata": {},
     "output_type": "execute_result"
    }
   ],
   "source": [
    "numbers = (1, 2, 3, 4)\n",
    "add(*numbers) # 언패킹"
   ]
  },
  {
   "cell_type": "markdown",
   "id": "8489ed7e",
   "metadata": {},
   "source": [
    "### 딕셔너리인수 언패킹\n",
    "- 딕셔너리 언패킹 : 함수 호출시 매개변수 앞에 ** 붙임\n",
    "- 딕셔너리 패킹 : 함수 정의시 매개변수 앞에 ** 붙임"
   ]
  },
  {
   "cell_type": "code",
   "execution_count": 115,
   "id": "b80d1b48",
   "metadata": {},
   "outputs": [],
   "source": [
    "def func5(**data):\n",
    "    print(type(data))\n",
    "    for key, item in data.items():\n",
    "        print(f'{key}:{item}')"
   ]
  },
  {
   "cell_type": "code",
   "execution_count": 116,
   "id": "2e8e5bf2",
   "metadata": {},
   "outputs": [
    {
     "name": "stdout",
     "output_type": "stream",
     "text": [
      "<class 'dict'>\n",
      "name:홍길동\n",
      "age:30\n",
      "address:신림\n"
     ]
    }
   ],
   "source": [
    "func5(name='홍길동', age=30, address='신림')"
   ]
  },
  {
   "cell_type": "code",
   "execution_count": 118,
   "id": "0fbb613f",
   "metadata": {},
   "outputs": [
    {
     "name": "stdout",
     "output_type": "stream",
     "text": [
      "<class 'dict'>\n",
      "name:홍길동\n",
      "age:30\n",
      "address:서울시 강남구\n",
      "score:900\n"
     ]
    }
   ],
   "source": [
    "customInfo = {'name':'홍길동', 'age':30, 'address':'서울시 강남구', 'score':900}\n",
    "func5(**customInfo)"
   ]
  },
  {
   "cell_type": "markdown",
   "id": "28795833",
   "metadata": {},
   "source": [
    "# 4절 람다식\n",
    "- return 한줄짜리 작은 익명함수\n",
    "## 4.1 람다식 연습"
   ]
  },
  {
   "cell_type": "code",
   "execution_count": 119,
   "id": "5c447d58",
   "metadata": {},
   "outputs": [
    {
     "data": {
      "text/plain": [
       "7"
      ]
     },
     "execution_count": 119,
     "metadata": {},
     "output_type": "execute_result"
    }
   ],
   "source": [
    "def add(a, b):\n",
    "    return a+b\n",
    "add(3, 4)"
   ]
  },
  {
   "cell_type": "code",
   "execution_count": 120,
   "id": "b91b6306",
   "metadata": {},
   "outputs": [
    {
     "data": {
      "text/plain": [
       "7"
      ]
     },
     "execution_count": 120,
     "metadata": {},
     "output_type": "execute_result"
    }
   ],
   "source": [
    "add2 = lambda a, b : a+b\n",
    "add2(3, 4)"
   ]
  },
  {
   "cell_type": "code",
   "execution_count": 121,
   "id": "7a7b1066",
   "metadata": {},
   "outputs": [
    {
     "data": {
      "text/plain": [
       "(function, function)"
      ]
     },
     "execution_count": 121,
     "metadata": {},
     "output_type": "execute_result"
    }
   ],
   "source": [
    "type(add), type(add2)"
   ]
  },
  {
   "cell_type": "code",
   "execution_count": 122,
   "id": "4f05287f",
   "metadata": {},
   "outputs": [
    {
     "data": {
      "text/plain": [
       "7"
      ]
     },
     "execution_count": 122,
     "metadata": {},
     "output_type": "execute_result"
    }
   ],
   "source": [
    "(lambda a, b : a+b)(3, 4)"
   ]
  },
  {
   "cell_type": "code",
   "execution_count": 123,
   "id": "a1dda1c2",
   "metadata": {},
   "outputs": [
    {
     "data": {
      "text/plain": [
       "('짝수', '홀수')"
      ]
     },
     "execution_count": 123,
     "metadata": {},
     "output_type": "execute_result"
    }
   ],
   "source": [
    "# ex1. 매개변수로 들어온 값이 짝수인지 홀수인지 return\n",
    "def ex1(num):\n",
    "    #if num%2:\n",
    "        #result = '홀수'\n",
    "    #else:\n",
    "        #result = '짝수'\n",
    "    return '홀수' if num%2 else '짝수'\n",
    "ex1 = lambda num : '홀수' if num%2 else '짝수'\n",
    "ex1(10), ex1(-9)"
   ]
  },
  {
   "cell_type": "code",
   "execution_count": 132,
   "id": "9e75d763",
   "metadata": {},
   "outputs": [
    {
     "data": {
      "text/plain": [
       "(1, 10)"
      ]
     },
     "execution_count": 132,
     "metadata": {},
     "output_type": "execute_result"
    }
   ],
   "source": [
    "# ex2. 두 매개변수의 차이를 return\n",
    "def diff(a, b):\n",
    "    #if a>b:\n",
    "        #result = a - b\n",
    "    #else:\n",
    "        #result = b - a\n",
    "    result = a-b if a>b else b-a\n",
    "    return result\n",
    "diff(2, 1), diff(10, 20)"
   ]
  },
  {
   "cell_type": "code",
   "execution_count": 133,
   "id": "6e43cf11",
   "metadata": {},
   "outputs": [
    {
     "data": {
      "text/plain": [
       "(1, 10)"
      ]
     },
     "execution_count": 133,
     "metadata": {},
     "output_type": "execute_result"
    }
   ],
   "source": [
    "ex2 = lambda a, b : a-b if a>b else b-a\n",
    "ex2(2, 1), ex2(10, 20)"
   ]
  },
  {
   "cell_type": "code",
   "execution_count": 135,
   "id": "081a749d",
   "metadata": {},
   "outputs": [
    {
     "data": {
      "text/plain": [
       "(1000, 'negative')"
      ]
     },
     "execution_count": 135,
     "metadata": {},
     "output_type": "execute_result"
    }
   ],
   "source": [
    "# ex3. 매개변수로 잔액을 받아 양수면 잔액을 return, 음수면 'negative'를 return\n",
    "ex3 = lambda money : money if money>0 else 'negative'\n",
    "ex3(1000), ex3(-900)"
   ]
  },
  {
   "cell_type": "code",
   "execution_count": 140,
   "id": "4e244f6d",
   "metadata": {},
   "outputs": [
    {
     "data": {
      "text/plain": [
       "('유효하지 않음', 'A팀', 'B팀', '재시험')"
      ]
     },
     "execution_count": 140,
     "metadata": {},
     "output_type": "execute_result"
    }
   ],
   "source": [
    "# ex4. 점수를 입력받아 점수가 100점이하 80점이상은 A팀, 60점이상은 B팀, 60점미만은 재시험.\n",
    "#      그 외는 유효하지 않음\n",
    "ex4 = lambda score : 'A팀' if 80<=score<=100 else \\\n",
    "                     'B팀' if 60<=score<80 else \\\n",
    "                     '재시험' if 0<=score<60 else \\\n",
    "                     '유효하지 않음'\n",
    "ex4(120), ex4(90), ex4(70), ex4(50)"
   ]
  },
  {
   "cell_type": "code",
   "execution_count": null,
   "id": "25aeb13f",
   "metadata": {},
   "outputs": [],
   "source": [
    "# ex5. safe_index를 람다식으로 만들기\n",
    "def safe_index(vector, data):\n",
    "    if data in vector:\n",
    "        return vector.index(data)\n",
    "    else:\n",
    "        return -1\n"
   ]
  },
  {
   "cell_type": "code",
   "execution_count": 141,
   "id": "aac61b8c",
   "metadata": {},
   "outputs": [
    {
     "data": {
      "text/plain": [
       "(-1, 1)"
      ]
     },
     "execution_count": 141,
     "metadata": {},
     "output_type": "execute_result"
    }
   ],
   "source": [
    "ex5 = lambda vector, data : vector.index(data) if data in vector else -1\n",
    "tup = (1, 2, 3)\n",
    "ex5(tup, 4), ex5(tup, 2)"
   ]
  },
  {
   "cell_type": "code",
   "execution_count": null,
   "id": "e2c9e039",
   "metadata": {},
   "outputs": [],
   "source": []
  },
  {
   "cell_type": "code",
   "execution_count": null,
   "id": "774ed7f5",
   "metadata": {},
   "outputs": [],
   "source": []
  },
  {
   "cell_type": "code",
   "execution_count": null,
   "id": "26628da1",
   "metadata": {},
   "outputs": [],
   "source": []
  },
  {
   "cell_type": "code",
   "execution_count": null,
   "id": "ce1c4622",
   "metadata": {},
   "outputs": [],
   "source": []
  },
  {
   "cell_type": "code",
   "execution_count": null,
   "id": "5a36dbe5",
   "metadata": {},
   "outputs": [],
   "source": []
  },
  {
   "cell_type": "code",
   "execution_count": null,
   "id": "bf845930",
   "metadata": {},
   "outputs": [],
   "source": []
  },
  {
   "cell_type": "code",
   "execution_count": null,
   "id": "ce4e1c9a",
   "metadata": {},
   "outputs": [],
   "source": []
  }
 ],
 "metadata": {
  "kernelspec": {
   "display_name": "Python 3 (ipykernel)",
   "language": "python",
   "name": "python3"
  },
  "language_info": {
   "codemirror_mode": {
    "name": "ipython",
    "version": 3
   },
   "file_extension": ".py",
   "mimetype": "text/x-python",
   "name": "python",
   "nbconvert_exporter": "python",
   "pygments_lexer": "ipython3",
   "version": "3.10.9"
  },
  "toc": {
   "base_numbering": 1,
   "nav_menu": {},
   "number_sections": false,
   "sideBar": true,
   "skip_h1_title": false,
   "title_cell": "Table of Contents",
   "title_sidebar": "Contents",
   "toc_cell": false,
   "toc_position": {
    "height": "calc(100% - 180px)",
    "left": "10px",
    "top": "150px",
    "width": "189.95px"
   },
   "toc_section_display": true,
   "toc_window_display": true
  }
 },
 "nbformat": 4,
 "nbformat_minor": 5
}
